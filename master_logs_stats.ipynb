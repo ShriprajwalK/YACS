{
 "cells": [
  {
   "cell_type": "code",
   "execution_count": 21,
   "metadata": {},
   "outputs": [],
   "source": [
    "import matplotlib.pyplot as plt\n",
    "import numpy as np\n",
    "import json\n",
    "import datetime"
   ]
  },
  {
   "cell_type": "code",
   "execution_count": 143,
   "metadata": {},
   "outputs": [],
   "source": [
    "policy = 'RR'\n",
    "with open(f'YACS/master/log_master_{policy}.log') as f:\n",
    "    logs = f.readlines()"
   ]
  },
  {
   "cell_type": "code",
   "execution_count": 144,
   "metadata": {},
   "outputs": [
    {
     "name": "stdout",
     "output_type": "stream",
     "text": [
      "['2020-12-06 22:41:42,479 %MASTER RECEIVED JOB%{\"job_id\": \"0\", \"map_tasks\": [{\"task_id\": \"0_M0\", \"duration\": 3}, {\"task_id\": \"0_M1\", \"duration\": 4}], \"reduce_tasks\": [{\"task_id\": \"0_R0\", \"duration\": 1}]}\\n', '2020-12-06 22:41:42,511 %SENDING WORKER WITH ID 1 and slots 4 the task%{\"task_id\": \"0_M0\", \"duration\": 3, \"status\": 1}\\n', '2020-12-06 22:41:42,613 %SENDING WORKER WITH ID 1 and slots 3 the task%{\"task_id\": \"0_M1\", \"duration\": 4, \"status\": 1}\\n', '2020-12-06 22:41:43,279 %MASTER RECEIVED JOB%{\"job_id\": \"1\", \"map_tasks\": [{\"task_id\": \"1_M0\", \"duration\": 3}], \"reduce_tasks\": [{\"task_id\": \"1_R0\", \"duration\": 2}, {\"task_id\": \"1_R1\", \"duration\": 2}]}\\n', '2020-12-06 22:41:43,332 %SENDING WORKER WITH ID 1 and slots 2 the task%{\"task_id\": \"1_M0\", \"duration\": 3, \"status\": 1}\\n', '2020-12-06 22:41:44,516 %MASTER RECEIVED JOB%{\"job_id\": \"2\", \"map_tasks\": [{\"task_id\": \"2_M0\", \"duration\": 4}, {\"task_id\": \"2_M1\", \"duration\": 2}, {\"task_id\": \"2_M2\", \"duration\": 2}, {\"task_id\": \"2_M3\", \"duration\": 2}], \"reduce_tasks\": [{\"task_id\": \"2_R0\", \"duration\": 4}, {\"task_id\": \"2_R1\", \"duration\": 1}]}\\n', '2020-12-06 22:41:44,558 %SENDING WORKER WITH ID 1 and slots 1 the task%{\"task_id\": \"2_M0\", \"duration\": 4, \"status\": 1}\\n', '2020-12-06 22:41:44,660 %SENDING WORKER WITH ID 1 and slots 0 the task%{\"task_id\": \"2_M1\", \"duration\": 2, \"status\": 1}\\n', '2020-12-06 22:41:44,762 %SENDING WORKER WITH ID 2 and slots 6 the task%{\"task_id\": \"2_M2\", \"duration\": 2, \"status\": 1}\\n', '2020-12-06 22:41:44,863 %MASTER RECEIVED JOB%{\"job_id\": \"3\", \"map_tasks\": [{\"task_id\": \"3_M0\", \"duration\": 1}], \"reduce_tasks\": [{\"task_id\": \"3_R0\", \"duration\": 3}]}\\n', '2020-12-06 22:41:44,867 %SENDING WORKER WITH ID 2 and slots 5 the task%{\"task_id\": \"2_M3\", \"duration\": 2, \"status\": 1}\\n', '2020-12-06 22:41:44,868 %SENDING WORKER WITH ID 3 and slots 2 the task%{\"task_id\": \"3_M0\", \"duration\": 1, \"status\": 1}\\n', '2020-12-06 22:41:45,586 %MASTER RECEIVED JOB%{\"job_id\": \"4\", \"map_tasks\": [{\"task_id\": \"4_M0\", \"duration\": 4}], \"reduce_tasks\": [{\"task_id\": \"4_R0\", \"duration\": 4}, {\"task_id\": \"4_R1\", \"duration\": 4}]}\\n', \"2020-12-06 22:41:45,615 %WORKER SENT%{'task_id': '0_M0', 'duration': 0, 'status': 2, 'worker_id': 1}\\n\", '2020-12-06 22:41:45,673 %SENDING WORKER WITH ID 1 and slots 0 the task%{\"task_id\": \"4_M0\", \"duration\": 4, \"status\": 1}\\n', \"2020-12-06 22:41:46,629 %WORKER SENT%{'task_id': '1_M0', 'duration': 0, 'status': 2, 'worker_id': 1}\\n\", '2020-12-06 22:41:46,692 %SENDING WORKER WITH ID 1 and slots 0 the task%{\"task_id\": \"1_R0\", \"duration\": 2, \"status\": 0}\\n', '2020-12-06 22:41:46,693 %SENDING WORKER WITH ID 2 and slots 4 the task%{\"task_id\": \"1_R1\", \"duration\": 2, \"status\": 0}\\n', \"2020-12-06 22:41:46,883 %WORKER SENT%{'task_id': '3_M0', 'duration': 0, 'status': 2, 'worker_id': 3}\\n\", '2020-12-06 22:41:46,899 %SENDING WORKER WITH ID 2 and slots 3 the task%{\"task_id\": \"3_R0\", \"duration\": 3, \"status\": 0}\\n', \"2020-12-06 22:41:47,220 %WORKER SENT%{'task_id': '2_M2', 'duration': 0, 'status': 2, 'worker_id': 2}\\n\", \"2020-12-06 22:41:47,226 %WORKER SENT%{'task_id': '2_M3', 'duration': 0, 'status': 2, 'worker_id': 2}\\n\", \"2020-12-06 22:41:47,657 %WORKER SENT%{'task_id': '0_M1', 'duration': 0, 'status': 2, 'worker_id': 1}\\n\", \"2020-12-06 22:41:47,664 %WORKER SENT%{'task_id': '2_M1', 'duration': 0, 'status': 2, 'worker_id': 1}\\n\", '2020-12-06 22:41:47,717 %SENDING WORKER WITH ID 1 and slots 1 the task%{\"task_id\": \"0_R0\", \"duration\": 1, \"status\": 0}\\n', '2020-12-06 22:41:47,823 %MASTER RECEIVED JOB%{\"job_id\": \"5\", \"map_tasks\": [{\"task_id\": \"5_M0\", \"duration\": 2}, {\"task_id\": \"5_M1\", \"duration\": 3}, {\"task_id\": \"5_M2\", \"duration\": 1}, {\"task_id\": \"5_M3\", \"duration\": 1}], \"reduce_tasks\": [{\"task_id\": \"5_R0\", \"duration\": 2}, {\"task_id\": \"5_R1\", \"duration\": 4}]}\\n', '2020-12-06 22:41:47,927 %SENDING WORKER WITH ID 1 and slots 0 the task%{\"task_id\": \"5_M0\", \"duration\": 2, \"status\": 1}\\n', '2020-12-06 22:41:48,030 %SENDING WORKER WITH ID 2 and slots 4 the task%{\"task_id\": \"5_M1\", \"duration\": 3, \"status\": 1}\\n', '2020-12-06 22:41:48,135 %SENDING WORKER WITH ID 2 and slots 3 the task%{\"task_id\": \"5_M2\", \"duration\": 1, \"status\": 1}\\n', '2020-12-06 22:41:48,239 %SENDING WORKER WITH ID 2 and slots 2 the task%{\"task_id\": \"5_M3\", \"duration\": 1, \"status\": 1}\\n', \"2020-12-06 22:41:48,685 %WORKER SENT%{'task_id': '2_M0', 'duration': 0, 'status': 2, 'worker_id': 1}\\n\", '2020-12-06 22:41:48,749 %SENDING WORKER WITH ID 1 and slots 0 the task%{\"task_id\": \"2_R0\", \"duration\": 4, \"status\": 0}\\n', '2020-12-06 22:41:48,750 %SENDING WORKER WITH ID 2 and slots 1 the task%{\"task_id\": \"2_R1\", \"duration\": 1, \"status\": 0}\\n', \"2020-12-06 22:41:49,255 %WORKER SENT%{'task_id': '1_R1', 'duration': 0, 'status': 2, 'worker_id': 2}\\n\", \"2020-12-06 22:41:49,256 %WORKER SENT%{'task_id': '5_M2', 'duration': 0, 'status': 2, 'worker_id': 2}\\n\", \"2020-12-06 22:41:49,697 %WORKER SENT%{'task_id': '1_R0', 'duration': 0, 'status': 2, 'worker_id': 1}\\n\", '2020-12-06 22:41:49,697 %JOB FINISHED WITH ID:%1% and reduce tasks 2\\n', \"2020-12-06 22:41:49,710 %WORKER SENT%{'task_id': '0_R0', 'duration': 0, 'status': 2, 'worker_id': 1}\\n\", '2020-12-06 22:41:49,711 %JOB FINISHED WITH ID:%0% and reduce tasks 1\\n', '2020-12-06 22:41:50,094 %MASTER RECEIVED JOB%{\"job_id\": \"6\", \"map_tasks\": [{\"task_id\": \"6_M0\", \"duration\": 4}, {\"task_id\": \"6_M1\", \"duration\": 3}], \"reduce_tasks\": [{\"task_id\": \"6_R0\", \"duration\": 4}, {\"task_id\": \"6_R1\", \"duration\": 4}]}\\n', '2020-12-06 22:41:50,186 %SENDING WORKER WITH ID 1 and slots 1 the task%{\"task_id\": \"6_M0\", \"duration\": 4, \"status\": 1}\\n', '2020-12-06 22:41:50,230 %MASTER RECEIVED JOB%{\"job_id\": \"7\", \"map_tasks\": [{\"task_id\": \"7_M0\", \"duration\": 2}, {\"task_id\": \"7_M1\", \"duration\": 3}, {\"task_id\": \"7_M2\", \"duration\": 1}], \"reduce_tasks\": [{\"task_id\": \"7_R0\", \"duration\": 3}, {\"task_id\": \"7_R1\", \"duration\": 2}]}\\n', \"2020-12-06 22:41:50,279 %WORKER SENT%{'task_id': '3_R0', 'duration': 0, 'status': 2, 'worker_id': 2}\\n\", '2020-12-06 22:41:50,279 %JOB FINISHED WITH ID:%3% and reduce tasks 1\\n', \"2020-12-06 22:41:50,285 %WORKER SENT%{'task_id': '5_M3', 'duration': 0, 'status': 2, 'worker_id': 2}\\n\", \"2020-12-06 22:41:50,286 %WORKER SENT%{'task_id': '2_R1', 'duration': 0, 'status': 2, 'worker_id': 2}\\n\", '2020-12-06 22:41:50,291 %SENDING WORKER WITH ID 1 and slots 0 the task%{\"task_id\": \"6_M1\", \"duration\": 3, \"status\": 1}\\n', '2020-12-06 22:41:50,291 %SENDING WORKER WITH ID 2 and slots 5 the task%{\"task_id\": \"7_M0\", \"duration\": 2, \"status\": 1}\\n', '2020-12-06 22:41:50,394 %SENDING WORKER WITH ID 2 and slots 4 the task%{\"task_id\": \"7_M1\", \"duration\": 3, \"status\": 1}\\n', '2020-12-06 22:41:50,473 %MASTER RECEIVED JOB%{\"job_id\": \"8\", \"map_tasks\": [{\"task_id\": \"8_M0\", \"duration\": 2}, {\"task_id\": \"8_M1\", \"duration\": 3}, {\"task_id\": \"8_M2\", \"duration\": 3}], \"reduce_tasks\": [{\"task_id\": \"8_R0\", \"duration\": 1}]}\\n', '2020-12-06 22:41:50,496 %SENDING WORKER WITH ID 2 and slots 3 the task%{\"task_id\": \"7_M2\", \"duration\": 1, \"status\": 1}\\n', '2020-12-06 22:41:50,496 %SENDING WORKER WITH ID 3 and slots 2 the task%{\"task_id\": \"8_M0\", \"duration\": 2, \"status\": 1}\\n', '2020-12-06 22:41:50,531 %MASTER RECEIVED JOB%{\"job_id\": \"9\", \"map_tasks\": [{\"task_id\": \"9_M0\", \"duration\": 4}], \"reduce_tasks\": [{\"task_id\": \"9_R0\", \"duration\": 1}, {\"task_id\": \"9_R1\", \"duration\": 3}]}\\n', '2020-12-06 22:41:50,602 %SENDING WORKER WITH ID 2 and slots 2 the task%{\"task_id\": \"8_M1\", \"duration\": 3, \"status\": 1}\\n', '2020-12-06 22:41:50,602 %SENDING WORKER WITH ID 3 and slots 1 the task%{\"task_id\": \"9_M0\", \"duration\": 4, \"status\": 1}\\n', '2020-12-06 22:41:50,704 %SENDING WORKER WITH ID 2 and slots 1 the task%{\"task_id\": \"8_M2\", \"duration\": 3, \"status\": 1}\\n', \"2020-12-06 22:41:50,730 %WORKER SENT%{'task_id': '4_M0', 'duration': 0, 'status': 2, 'worker_id': 1}\\n\", \"2020-12-06 22:41:50,731 %WORKER SENT%{'task_id': '5_M0', 'duration': 0, 'status': 2, 'worker_id': 1}\\n\", '2020-12-06 22:41:50,805 %SENDING WORKER WITH ID 1 and slots 1 the task%{\"task_id\": \"4_R0\", \"duration\": 4, \"status\": 0}\\n', '2020-12-06 22:41:50,806 %SENDING WORKER WITH ID 2 and slots 0 the task%{\"task_id\": \"4_R1\", \"duration\": 4, \"status\": 0}\\n', '2020-12-06 22:41:51,113 %MASTER RECEIVED JOB%{\"job_id\": \"10\", \"map_tasks\": [{\"task_id\": \"10_M0\", \"duration\": 2}], \"reduce_tasks\": [{\"task_id\": \"10_R0\", \"duration\": 1}, {\"task_id\": \"10_R1\", \"duration\": 3}]}\\n', '2020-12-06 22:41:51,148 %MASTER RECEIVED JOB%{\"job_id\": \"11\", \"map_tasks\": [{\"task_id\": \"11_M0\", \"duration\": 1}, {\"task_id\": \"11_M1\", \"duration\": 1}, {\"task_id\": \"11_M2\", \"duration\": 1}, {\"task_id\": \"11_M3\", \"duration\": 4}], \"reduce_tasks\": [{\"task_id\": \"11_R0\", \"duration\": 3}, {\"task_id\": \"11_R1\", \"duration\": 3}]}\\n', '2020-12-06 22:41:51,214 %SENDING WORKER WITH ID 1 and slots 0 the task%{\"task_id\": \"10_M0\", \"duration\": 2, \"status\": 1}\\n', '2020-12-06 22:41:51,214 %SENDING WORKER WITH ID 3 and slots 0 the task%{\"task_id\": \"11_M0\", \"duration\": 1, \"status\": 1}\\n', \"2020-12-06 22:41:51,302 %WORKER SENT%{'task_id': '5_M1', 'duration': 0, 'status': 2, 'worker_id': 2}\\n\", '2020-12-06 22:41:51,315 %SENDING WORKER WITH ID 2 and slots 0 the task%{\"task_id\": \"11_M1\", \"duration\": 1, \"status\": 1}\\n', '2020-12-06 22:41:51,764 %MASTER RECEIVED JOB%{\"job_id\": \"12\", \"map_tasks\": [{\"task_id\": \"12_M0\", \"duration\": 3}, {\"task_id\": \"12_M1\", \"duration\": 1}], \"reduce_tasks\": [{\"task_id\": \"12_R0\", \"duration\": 1}]}\\n', \"2020-12-06 22:41:52,338 %WORKER SENT%{'task_id': '7_M2', 'duration': 0, 'status': 2, 'worker_id': 2}\\n\", '2020-12-06 22:41:52,817 %MASTER RECEIVED JOB%{\"job_id\": \"13\", \"map_tasks\": [{\"task_id\": \"13_M0\", \"duration\": 2}], \"reduce_tasks\": [{\"task_id\": \"13_R0\", \"duration\": 4}]}\\n', \"2020-12-06 22:41:52,968 %WORKER SENT%{'task_id': '8_M0', 'duration': 0, 'status': 2, 'worker_id': 3}\\n\", \"2020-12-06 22:41:52,998 %WORKER SENT%{'task_id': '11_M0', 'duration': 0, 'status': 2, 'worker_id': 3}\\n\", '2020-12-06 22:41:53,155 %MASTER RECEIVED JOB%{\"job_id\": \"14\", \"map_tasks\": [{\"task_id\": \"14_M0\", \"duration\": 2}, {\"task_id\": \"14_M1\", \"duration\": 1}, {\"task_id\": \"14_M2\", \"duration\": 3}], \"reduce_tasks\": [{\"task_id\": \"14_R0\", \"duration\": 3}, {\"task_id\": \"14_R1\", \"duration\": 3}]}\\n', '2020-12-06 22:41:53,324 %SENDING WORKER WITH ID 2 and slots 0 the task%{\"task_id\": \"5_R0\", \"duration\": 2, \"status\": 0}\\n', '2020-12-06 22:41:53,325 %SENDING WORKER WITH ID 3 and slots 1 the task%{\"task_id\": \"5_R1\", \"duration\": 4, \"status\": 0}\\n', '2020-12-06 22:41:53,325 %SENDING WORKER WITH ID 3 and slots 0 the task%{\"task_id\": \"11_M2\", \"duration\": 1, \"status\": 1}\\n', \"2020-12-06 22:41:53,355 %WORKER SENT%{'task_id': '7_M0', 'duration': 0, 'status': 2, 'worker_id': 2}\\n\", \"2020-12-06 22:41:53,355 %WORKER SENT%{'task_id': '11_M1', 'duration': 0, 'status': 2, 'worker_id': 2}\\n\", \"2020-12-06 22:41:53,778 %WORKER SENT%{'task_id': '2_R0', 'duration': 0, 'status': 2, 'worker_id': 1}\\n\", '2020-12-06 22:41:53,778 %JOB FINISHED WITH ID:%2% and reduce tasks 2\\n', \"2020-12-06 22:41:53,785 %WORKER SENT%{'task_id': '6_M1', 'duration': 0, 'status': 2, 'worker_id': 1}\\n\", \"2020-12-06 22:41:53,792 %WORKER SENT%{'task_id': '10_M0', 'duration': 0, 'status': 2, 'worker_id': 1}\\n\", '2020-12-06 22:41:54,292 %MASTER RECEIVED JOB%{\"job_id\": \"15\", \"map_tasks\": [{\"task_id\": \"15_M0\", \"duration\": 4}, {\"task_id\": \"15_M1\", \"duration\": 4}], \"reduce_tasks\": [{\"task_id\": \"15_R0\", \"duration\": 4}, {\"task_id\": \"15_R1\", \"duration\": 1}]}\\n', '2020-12-06 22:41:54,330 %SENDING WORKER WITH ID 1 and slots 2 the task%{\"task_id\": \"11_M3\", \"duration\": 4, \"status\": 1}\\n', '2020-12-06 22:41:54,331 %SENDING WORKER WITH ID 2 and slots 1 the task%{\"task_id\": \"12_M0\", \"duration\": 3, \"status\": 1}\\n', '2020-12-06 22:41:54,331 %SENDING WORKER WITH ID 1 and slots 1 the task%{\"task_id\": \"12_M1\", \"duration\": 1, \"status\": 1}\\n', '2020-12-06 22:41:54,332 %SENDING WORKER WITH ID 2 and slots 0 the task%{\"task_id\": \"13_M0\", \"duration\": 2, \"status\": 1}\\n', '2020-12-06 22:41:54,332 %SENDING WORKER WITH ID 1 and slots 0 the task%{\"task_id\": \"14_M0\", \"duration\": 2, \"status\": 1}\\n', \"2020-12-06 22:41:54,374 %WORKER SENT%{'task_id': '7_M1', 'duration': 0, 'status': 2, 'worker_id': 2}\\n\", \"2020-12-06 22:41:54,386 %WORKER SENT%{'task_id': '8_M1', 'duration': 0, 'status': 2, 'worker_id': 2}\\n\", \"2020-12-06 22:41:54,387 %WORKER SENT%{'task_id': '8_M2', 'duration': 0, 'status': 2, 'worker_id': 2}\\n\", \"2020-12-06 22:41:54,809 %WORKER SENT%{'task_id': '6_M0', 'duration': 0, 'status': 2, 'worker_id': 1}\\n\", \"2020-12-06 22:41:55,058 %WORKER SENT%{'task_id': '9_M0', 'duration': 0, 'status': 2, 'worker_id': 3}\\n\", \"2020-12-06 22:41:55,071 %WORKER SENT%{'task_id': '11_M2', 'duration': 0, 'status': 2, 'worker_id': 3}\\n\", '2020-12-06 22:41:55,189 %MASTER RECEIVED JOB%{\"job_id\": \"16\", \"map_tasks\": [{\"task_id\": \"16_M0\", \"duration\": 2}, {\"task_id\": \"16_M1\", \"duration\": 3}, {\"task_id\": \"16_M2\", \"duration\": 4}], \"reduce_tasks\": [{\"task_id\": \"16_R0\", \"duration\": 3}, {\"task_id\": \"16_R1\", \"duration\": 3}]}\\n', '2020-12-06 22:41:55,224 %MASTER RECEIVED JOB%{\"job_id\": \"17\", \"map_tasks\": [{\"task_id\": \"17_M0\", \"duration\": 4}, {\"task_id\": \"17_M1\", \"duration\": 3}, {\"task_id\": \"17_M2\", \"duration\": 1}], \"reduce_tasks\": [{\"task_id\": \"17_R0\", \"duration\": 4}]}\\n', '2020-12-06 22:41:55,334 %SENDING WORKER WITH ID 1 and slots 0 the task%{\"task_id\": \"14_M1\", \"duration\": 1, \"status\": 1}\\n', '2020-12-06 22:41:55,335 %SENDING WORKER WITH ID 2 and slots 2 the task%{\"task_id\": \"14_M2\", \"duration\": 3, \"status\": 1}\\n', '2020-12-06 22:41:55,335 %SENDING WORKER WITH ID 3 and slots 1 the task%{\"task_id\": \"15_M0\", \"duration\": 4, \"status\": 1}\\n', '2020-12-06 22:41:55,336 %SENDING WORKER WITH ID 2 and slots 1 the task%{\"task_id\": \"10_R0\", \"duration\": 1, \"status\": 0}\\n', '2020-12-06 22:41:55,336 %SENDING WORKER WITH ID 3 and slots 0 the task%{\"task_id\": \"10_R1\", \"duration\": 3, \"status\": 0}\\n', '2020-12-06 22:41:55,337 %SENDING WORKER WITH ID 2 and slots 0 the task%{\"task_id\": \"15_M1\", \"duration\": 4, \"status\": 1}\\n', \"2020-12-06 22:41:55,402 %WORKER SENT%{'task_id': '4_R1', 'duration': 0, 'status': 2, 'worker_id': 2}\\n\", \"2020-12-06 22:41:55,409 %WORKER SENT%{'task_id': '5_R0', 'duration': 0, 'status': 2, 'worker_id': 2}\\n\", \"2020-12-06 22:41:55,834 %WORKER SENT%{'task_id': '4_R0', 'duration': 0, 'status': 2, 'worker_id': 1}\\n\", '2020-12-06 22:41:55,835 %JOB FINISHED WITH ID:%4% and reduce tasks 2\\n', \"2020-12-06 22:41:55,847 %WORKER SENT%{'task_id': '12_M1', 'duration': 0, 'status': 2, 'worker_id': 1}\\n\", '2020-12-06 22:41:56,046 %MASTER RECEIVED JOB%{\"job_id\": \"18\", \"map_tasks\": [{\"task_id\": \"18_M0\", \"duration\": 3}, {\"task_id\": \"18_M1\", \"duration\": 4}], \"reduce_tasks\": [{\"task_id\": \"18_R0\", \"duration\": 3}]}\\n', '2020-12-06 22:41:56,340 %SENDING WORKER WITH ID 1 and slots 1 the task%{\"task_id\": \"16_M0\", \"duration\": 2, \"status\": 1}\\n', '2020-12-06 22:41:56,341 %SENDING WORKER WITH ID 2 and slots 1 the task%{\"task_id\": \"17_M0\", \"duration\": 4, \"status\": 1}\\n', '2020-12-06 22:41:56,341 %SENDING WORKER WITH ID 1 and slots 0 the task%{\"task_id\": \"6_R0\", \"duration\": 4, \"status\": 0}\\n', '2020-12-06 22:41:56,341 %SENDING WORKER WITH ID 2 and slots 0 the task%{\"task_id\": \"6_R1\", \"duration\": 4, \"status\": 0}\\n', '2020-12-06 22:41:56,347 %MASTER RECEIVED JOB%{\"job_id\": \"19\", \"map_tasks\": [{\"task_id\": \"19_M0\", \"duration\": 4}, {\"task_id\": \"19_M1\", \"duration\": 1}, {\"task_id\": \"19_M2\", \"duration\": 1}], \"reduce_tasks\": [{\"task_id\": \"19_R0\", \"duration\": 1}, {\"task_id\": \"19_R1\", \"duration\": 3}]}\\n', \"2020-12-06 22:41:56,427 %WORKER SENT%{'task_id': '13_M0', 'duration': 0, 'status': 2, 'worker_id': 2}\\n\", \"2020-12-06 22:41:56,427 %WORKER SENT%{'task_id': '10_R0', 'duration': 0, 'status': 2, 'worker_id': 2}\\n\", \"2020-12-06 22:41:56,865 %WORKER SENT%{'task_id': '14_M0', 'duration': 0, 'status': 2, 'worker_id': 1}\\n\", \"2020-12-06 22:41:56,866 %WORKER SENT%{'task_id': '14_M1', 'duration': 0, 'status': 2, 'worker_id': 1}\\n\", '2020-12-06 22:41:57,347 %SENDING WORKER WITH ID 1 and slots 1 the task%{\"task_id\": \"7_R0\", \"duration\": 3, \"status\": 0}\\n', '2020-12-06 22:41:57,348 %SENDING WORKER WITH ID 2 and slots 1 the task%{\"task_id\": \"7_R1\", \"duration\": 2, \"status\": 0}\\n', '2020-12-06 22:41:57,349 %SENDING WORKER WITH ID 1 and slots 0 the task%{\"task_id\": \"8_R0\", \"duration\": 1, \"status\": 0}\\n', '2020-12-06 22:41:57,349 %SENDING WORKER WITH ID 2 and slots 0 the task%{\"task_id\": \"9_R0\", \"duration\": 1, \"status\": 0}\\n', \"2020-12-06 22:41:57,434 %WORKER SENT%{'task_id': '12_M0', 'duration': 0, 'status': 2, 'worker_id': 2}\\n\", \"2020-12-06 22:41:58,121 %WORKER SENT%{'task_id': '5_R1', 'duration': 0, 'status': 2, 'worker_id': 3}\\n\", '2020-12-06 22:41:58,122 %JOB FINISHED WITH ID:%5% and reduce tasks 2\\n', '2020-12-06 22:41:58,352 %SENDING WORKER WITH ID 2 and slots 0 the task%{\"task_id\": \"9_R1\", \"duration\": 3, \"status\": 0}\\n', '2020-12-06 22:41:58,353 %SENDING WORKER WITH ID 3 and slots 0 the task%{\"task_id\": \"16_M1\", \"duration\": 3, \"status\": 1}\\n', \"2020-12-06 22:41:58,445 %WORKER SENT%{'task_id': '14_M2', 'duration': 0, 'status': 2, 'worker_id': 2}\\n\", \"2020-12-06 22:41:58,451 %WORKER SENT%{'task_id': '9_R0', 'duration': 0, 'status': 2, 'worker_id': 2}\\n\", \"2020-12-06 22:41:58,891 %WORKER SENT%{'task_id': '11_M3', 'duration': 0, 'status': 2, 'worker_id': 1}\\n\", \"2020-12-06 22:41:58,904 %WORKER SENT%{'task_id': '16_M0', 'duration': 0, 'status': 2, 'worker_id': 1}\\n\", \"2020-12-06 22:41:58,917 %WORKER SENT%{'task_id': '8_R0', 'duration': 0, 'status': 2, 'worker_id': 1}\\n\", '2020-12-06 22:41:58,917 %JOB FINISHED WITH ID:%8% and reduce tasks 1\\n', \"2020-12-06 22:41:59,145 %WORKER SENT%{'task_id': '10_R1', 'duration': 0, 'status': 2, 'worker_id': 3}\\n\", '2020-12-06 22:41:59,146 %JOB FINISHED WITH ID:%10% and reduce tasks 2\\n', '2020-12-06 22:41:59,359 %SENDING WORKER WITH ID 1 and slots 2 the task%{\"task_id\": \"17_M1\", \"duration\": 3, \"status\": 1}\\n', '2020-12-06 22:41:59,359 %SENDING WORKER WITH ID 2 and slots 1 the task%{\"task_id\": \"16_M2\", \"duration\": 4, \"status\": 1}\\n', '2020-12-06 22:41:59,360 %SENDING WORKER WITH ID 3 and slots 0 the task%{\"task_id\": \"17_M2\", \"duration\": 1, \"status\": 1}\\n', '2020-12-06 22:41:59,361 %SENDING WORKER WITH ID 1 and slots 1 the task%{\"task_id\": \"18_M0\", \"duration\": 3, \"status\": 1}\\n', '2020-12-06 22:41:59,361 %SENDING WORKER WITH ID 2 and slots 0 the task%{\"task_id\": \"18_M1\", \"duration\": 4, \"status\": 1}\\n', '2020-12-06 22:41:59,362 %SENDING WORKER WITH ID 1 and slots 0 the task%{\"task_id\": \"19_M0\", \"duration\": 4, \"status\": 1}\\n', \"2020-12-06 22:41:59,459 %WORKER SENT%{'task_id': '15_M1', 'duration': 0, 'status': 2, 'worker_id': 2}\\n\", \"2020-12-06 22:41:59,472 %WORKER SENT%{'task_id': '7_R1', 'duration': 0, 'status': 2, 'worker_id': 2}\\n\", \"2020-12-06 22:42:00,167 %WORKER SENT%{'task_id': '15_M0', 'duration': 0, 'status': 2, 'worker_id': 3}\\n\", '2020-12-06 22:42:00,366 %SENDING WORKER WITH ID 2 and slots 1 the task%{\"task_id\": \"13_R0\", \"duration\": 4, \"status\": 0}\\n', '2020-12-06 22:42:00,367 %SENDING WORKER WITH ID 3 and slots 0 the task%{\"task_id\": \"19_M1\", \"duration\": 1, \"status\": 1}\\n', '2020-12-06 22:42:00,367 %SENDING WORKER WITH ID 2 and slots 0 the task%{\"task_id\": \"19_M2\", \"duration\": 1, \"status\": 1}\\n', \"2020-12-06 22:42:00,495 %WORKER SENT%{'task_id': '17_M0', 'duration': 0, 'status': 2, 'worker_id': 2}\\n\", \"2020-12-06 22:42:00,496 %WORKER SENT%{'task_id': '6_R1', 'duration': 0, 'status': 2, 'worker_id': 2}\\n\", \"2020-12-06 22:42:00,947 %WORKER SENT%{'task_id': '6_R0', 'duration': 0, 'status': 2, 'worker_id': 1}\\n\", '2020-12-06 22:42:00,947 %JOB FINISHED WITH ID:%6% and reduce tasks 2\\n', \"2020-12-06 22:42:00,954 %WORKER SENT%{'task_id': '7_R0', 'duration': 0, 'status': 2, 'worker_id': 1}\\n\", '2020-12-06 22:42:00,954 %JOB FINISHED WITH ID:%7% and reduce tasks 2\\n', \"2020-12-06 22:42:01,182 %WORKER SENT%{'task_id': '17_M2', 'duration': 0, 'status': 2, 'worker_id': 3}\\n\", '2020-12-06 22:42:01,369 %SENDING WORKER WITH ID 1 and slots 1 the task%{\"task_id\": \"12_R0\", \"duration\": 1, \"status\": 0}\\n', '2020-12-06 22:42:01,370 %SENDING WORKER WITH ID 2 and slots 1 the task%{\"task_id\": \"11_R0\", \"duration\": 3, \"status\": 0}\\n', '2020-12-06 22:42:01,370 %SENDING WORKER WITH ID 3 and slots 0 the task%{\"task_id\": \"11_R1\", \"duration\": 3, \"status\": 0}\\n', '2020-12-06 22:42:01,371 %SENDING WORKER WITH ID 1 and slots 0 the task%{\"task_id\": \"14_R0\", \"duration\": 3, \"status\": 0}\\n', '2020-12-06 22:42:01,371 %SENDING WORKER WITH ID 2 and slots 0 the task%{\"task_id\": \"14_R1\", \"duration\": 3, \"status\": 0}\\n', \"2020-12-06 22:42:01,512 %WORKER SENT%{'task_id': '9_R1', 'duration': 0, 'status': 2, 'worker_id': 2}\\n\", '2020-12-06 22:42:01,512 %JOB FINISHED WITH ID:%9% and reduce tasks 2\\n', \"2020-12-06 22:42:01,519 %WORKER SENT%{'task_id': '19_M2', 'duration': 0, 'status': 2, 'worker_id': 2}\\n\", \"2020-12-06 22:42:02,212 %WORKER SENT%{'task_id': '16_M1', 'duration': 0, 'status': 2, 'worker_id': 3}\\n\", \"2020-12-06 22:42:02,224 %WORKER SENT%{'task_id': '19_M1', 'duration': 0, 'status': 2, 'worker_id': 3}\\n\", '2020-12-06 22:42:02,372 %SENDING WORKER WITH ID 2 and slots 1 the task%{\"task_id\": \"15_R0\", \"duration\": 4, \"status\": 0}\\n', '2020-12-06 22:42:02,373 %SENDING WORKER WITH ID 3 and slots 1 the task%{\"task_id\": \"15_R1\", \"duration\": 1, \"status\": 0}\\n', \"2020-12-06 22:42:02,981 %WORKER SENT%{'task_id': '17_M1', 'duration': 0, 'status': 2, 'worker_id': 1}\\n\", \"2020-12-06 22:42:02,988 %WORKER SENT%{'task_id': '18_M0', 'duration': 0, 'status': 2, 'worker_id': 1}\\n\", \"2020-12-06 22:42:02,989 %WORKER SENT%{'task_id': '12_R0', 'duration': 0, 'status': 2, 'worker_id': 1}\\n\", '2020-12-06 22:42:02,989 %JOB FINISHED WITH ID:%12% and reduce tasks 1\\n', '2020-12-06 22:42:03,087 %SENDING WORKER WITH ID 1 and slots 2 the task%{\"task_id\": \"17_R0\", \"duration\": 4, \"status\": 0}\\n', \"2020-12-06 22:42:03,556 %WORKER SENT%{'task_id': '16_M2', 'duration': 0, 'status': 2, 'worker_id': 2}\\n\", \"2020-12-06 22:42:03,556 %WORKER SENT%{'task_id': '18_M1', 'duration': 0, 'status': 2, 'worker_id': 2}\\n\", '2020-12-06 22:42:03,597 %SENDING WORKER WITH ID 1 and slots 1 the task%{\"task_id\": \"16_R0\", \"duration\": 3, \"status\": 0}\\n', '2020-12-06 22:42:03,597 %SENDING WORKER WITH ID 2 and slots 2 the task%{\"task_id\": \"16_R1\", \"duration\": 3, \"status\": 0}\\n', '2020-12-06 22:42:03,598 %SENDING WORKER WITH ID 3 and slots 0 the task%{\"task_id\": \"18_R0\", \"duration\": 3, \"status\": 0}\\n', \"2020-12-06 22:42:04,017 %WORKER SENT%{'task_id': '19_M0', 'duration': 0, 'status': 2, 'worker_id': 1}\\n\", '2020-12-06 22:42:04,119 %SENDING WORKER WITH ID 1 and slots 1 the task%{\"task_id\": \"19_R0\", \"duration\": 1, \"status\": 0}\\n', '2020-12-06 22:42:04,120 %SENDING WORKER WITH ID 2 and slots 1 the task%{\"task_id\": \"19_R1\", \"duration\": 3, \"status\": 0}\\n', \"2020-12-06 22:42:04,252 %WORKER SENT%{'task_id': '15_R1', 'duration': 0, 'status': 2, 'worker_id': 3}\\n\", \"2020-12-06 22:42:04,573 %WORKER SENT%{'task_id': '13_R0', 'duration': 0, 'status': 2, 'worker_id': 2}\\n\", '2020-12-06 22:42:04,573 %JOB FINISHED WITH ID:%13% and reduce tasks 1\\n', \"2020-12-06 22:42:04,574 %WORKER SENT%{'task_id': '11_R0', 'duration': 0, 'status': 2, 'worker_id': 2}\\n\", \"2020-12-06 22:42:04,586 %WORKER SENT%{'task_id': '14_R1', 'duration': 0, 'status': 2, 'worker_id': 2}\\n\", \"2020-12-06 22:42:05,025 %WORKER SENT%{'task_id': '14_R0', 'duration': 0, 'status': 2, 'worker_id': 1}\\n\", '2020-12-06 22:42:05,026 %JOB FINISHED WITH ID:%14% and reduce tasks 2\\n', \"2020-12-06 22:42:05,276 %WORKER SENT%{'task_id': '11_R1', 'duration': 0, 'status': 2, 'worker_id': 3}\\n\", '2020-12-06 22:42:05,276 %JOB FINISHED WITH ID:%11% and reduce tasks 2\\n', \"2020-12-06 22:42:06,049 %WORKER SENT%{'task_id': '19_R0', 'duration': 0, 'status': 2, 'worker_id': 1}\\n\", \"2020-12-06 22:42:06,618 %WORKER SENT%{'task_id': '15_R0', 'duration': 0, 'status': 2, 'worker_id': 2}\\n\", '2020-12-06 22:42:06,618 %JOB FINISHED WITH ID:%15% and reduce tasks 2\\n', \"2020-12-06 22:42:07,071 %WORKER SENT%{'task_id': '16_R0', 'duration': 0, 'status': 2, 'worker_id': 1}\\n\", \"2020-12-06 22:42:07,311 %WORKER SENT%{'task_id': '18_R0', 'duration': 0, 'status': 2, 'worker_id': 3}\\n\", '2020-12-06 22:42:07,311 %JOB FINISHED WITH ID:%18% and reduce tasks 1\\n', \"2020-12-06 22:42:07,635 %WORKER SENT%{'task_id': '16_R1', 'duration': 0, 'status': 2, 'worker_id': 2}\\n\", '2020-12-06 22:42:07,635 %JOB FINISHED WITH ID:%16% and reduce tasks 2\\n', \"2020-12-06 22:42:07,642 %WORKER SENT%{'task_id': '19_R1', 'duration': 0, 'status': 2, 'worker_id': 2}\\n\", '2020-12-06 22:42:07,642 %JOB FINISHED WITH ID:%19% and reduce tasks 2\\n', \"2020-12-06 22:42:08,085 %WORKER SENT%{'task_id': '17_R0', 'duration': 0, 'status': 2, 'worker_id': 1}\\n\", '2020-12-06 22:42:08,085 %JOB FINISHED WITH ID:%17% and reduce tasks 1\\n']\n"
     ]
    }
   ],
   "source": [
    "print(logs)"
   ]
  },
  {
   "cell_type": "code",
   "execution_count": 145,
   "metadata": {},
   "outputs": [],
   "source": [
    "job_received_log = []\n",
    "job_completed_log = []\n",
    "for log in logs:\n",
    "    log = log.split('%')\n",
    "    log[0] = log[0].strip()\n",
    "    if log[1] == 'MASTER RECEIVED JOB':\n",
    "        job_received_log.append(log)\n",
    "    elif log[1] == 'JOB FINISHED WITH ID:':\n",
    "        job_completed_log.append(log)"
   ]
  },
  {
   "cell_type": "code",
   "execution_count": 146,
   "metadata": {},
   "outputs": [
    {
     "data": {
      "text/plain": [
       "[['2020-12-06 22:41:42,479',\n",
       "  'MASTER RECEIVED JOB',\n",
       "  '{\"job_id\": \"0\", \"map_tasks\": [{\"task_id\": \"0_M0\", \"duration\": 3}, {\"task_id\": \"0_M1\", \"duration\": 4}], \"reduce_tasks\": [{\"task_id\": \"0_R0\", \"duration\": 1}]}\\n'],\n",
       " ['2020-12-06 22:41:43,279',\n",
       "  'MASTER RECEIVED JOB',\n",
       "  '{\"job_id\": \"1\", \"map_tasks\": [{\"task_id\": \"1_M0\", \"duration\": 3}], \"reduce_tasks\": [{\"task_id\": \"1_R0\", \"duration\": 2}, {\"task_id\": \"1_R1\", \"duration\": 2}]}\\n'],\n",
       " ['2020-12-06 22:41:44,516',\n",
       "  'MASTER RECEIVED JOB',\n",
       "  '{\"job_id\": \"2\", \"map_tasks\": [{\"task_id\": \"2_M0\", \"duration\": 4}, {\"task_id\": \"2_M1\", \"duration\": 2}, {\"task_id\": \"2_M2\", \"duration\": 2}, {\"task_id\": \"2_M3\", \"duration\": 2}], \"reduce_tasks\": [{\"task_id\": \"2_R0\", \"duration\": 4}, {\"task_id\": \"2_R1\", \"duration\": 1}]}\\n'],\n",
       " ['2020-12-06 22:41:44,863',\n",
       "  'MASTER RECEIVED JOB',\n",
       "  '{\"job_id\": \"3\", \"map_tasks\": [{\"task_id\": \"3_M0\", \"duration\": 1}], \"reduce_tasks\": [{\"task_id\": \"3_R0\", \"duration\": 3}]}\\n'],\n",
       " ['2020-12-06 22:41:45,586',\n",
       "  'MASTER RECEIVED JOB',\n",
       "  '{\"job_id\": \"4\", \"map_tasks\": [{\"task_id\": \"4_M0\", \"duration\": 4}], \"reduce_tasks\": [{\"task_id\": \"4_R0\", \"duration\": 4}, {\"task_id\": \"4_R1\", \"duration\": 4}]}\\n'],\n",
       " ['2020-12-06 22:41:47,823',\n",
       "  'MASTER RECEIVED JOB',\n",
       "  '{\"job_id\": \"5\", \"map_tasks\": [{\"task_id\": \"5_M0\", \"duration\": 2}, {\"task_id\": \"5_M1\", \"duration\": 3}, {\"task_id\": \"5_M2\", \"duration\": 1}, {\"task_id\": \"5_M3\", \"duration\": 1}], \"reduce_tasks\": [{\"task_id\": \"5_R0\", \"duration\": 2}, {\"task_id\": \"5_R1\", \"duration\": 4}]}\\n'],\n",
       " ['2020-12-06 22:41:50,094',\n",
       "  'MASTER RECEIVED JOB',\n",
       "  '{\"job_id\": \"6\", \"map_tasks\": [{\"task_id\": \"6_M0\", \"duration\": 4}, {\"task_id\": \"6_M1\", \"duration\": 3}], \"reduce_tasks\": [{\"task_id\": \"6_R0\", \"duration\": 4}, {\"task_id\": \"6_R1\", \"duration\": 4}]}\\n'],\n",
       " ['2020-12-06 22:41:50,230',\n",
       "  'MASTER RECEIVED JOB',\n",
       "  '{\"job_id\": \"7\", \"map_tasks\": [{\"task_id\": \"7_M0\", \"duration\": 2}, {\"task_id\": \"7_M1\", \"duration\": 3}, {\"task_id\": \"7_M2\", \"duration\": 1}], \"reduce_tasks\": [{\"task_id\": \"7_R0\", \"duration\": 3}, {\"task_id\": \"7_R1\", \"duration\": 2}]}\\n'],\n",
       " ['2020-12-06 22:41:50,473',\n",
       "  'MASTER RECEIVED JOB',\n",
       "  '{\"job_id\": \"8\", \"map_tasks\": [{\"task_id\": \"8_M0\", \"duration\": 2}, {\"task_id\": \"8_M1\", \"duration\": 3}, {\"task_id\": \"8_M2\", \"duration\": 3}], \"reduce_tasks\": [{\"task_id\": \"8_R0\", \"duration\": 1}]}\\n'],\n",
       " ['2020-12-06 22:41:50,531',\n",
       "  'MASTER RECEIVED JOB',\n",
       "  '{\"job_id\": \"9\", \"map_tasks\": [{\"task_id\": \"9_M0\", \"duration\": 4}], \"reduce_tasks\": [{\"task_id\": \"9_R0\", \"duration\": 1}, {\"task_id\": \"9_R1\", \"duration\": 3}]}\\n'],\n",
       " ['2020-12-06 22:41:51,113',\n",
       "  'MASTER RECEIVED JOB',\n",
       "  '{\"job_id\": \"10\", \"map_tasks\": [{\"task_id\": \"10_M0\", \"duration\": 2}], \"reduce_tasks\": [{\"task_id\": \"10_R0\", \"duration\": 1}, {\"task_id\": \"10_R1\", \"duration\": 3}]}\\n'],\n",
       " ['2020-12-06 22:41:51,148',\n",
       "  'MASTER RECEIVED JOB',\n",
       "  '{\"job_id\": \"11\", \"map_tasks\": [{\"task_id\": \"11_M0\", \"duration\": 1}, {\"task_id\": \"11_M1\", \"duration\": 1}, {\"task_id\": \"11_M2\", \"duration\": 1}, {\"task_id\": \"11_M3\", \"duration\": 4}], \"reduce_tasks\": [{\"task_id\": \"11_R0\", \"duration\": 3}, {\"task_id\": \"11_R1\", \"duration\": 3}]}\\n'],\n",
       " ['2020-12-06 22:41:51,764',\n",
       "  'MASTER RECEIVED JOB',\n",
       "  '{\"job_id\": \"12\", \"map_tasks\": [{\"task_id\": \"12_M0\", \"duration\": 3}, {\"task_id\": \"12_M1\", \"duration\": 1}], \"reduce_tasks\": [{\"task_id\": \"12_R0\", \"duration\": 1}]}\\n'],\n",
       " ['2020-12-06 22:41:52,817',\n",
       "  'MASTER RECEIVED JOB',\n",
       "  '{\"job_id\": \"13\", \"map_tasks\": [{\"task_id\": \"13_M0\", \"duration\": 2}], \"reduce_tasks\": [{\"task_id\": \"13_R0\", \"duration\": 4}]}\\n'],\n",
       " ['2020-12-06 22:41:53,155',\n",
       "  'MASTER RECEIVED JOB',\n",
       "  '{\"job_id\": \"14\", \"map_tasks\": [{\"task_id\": \"14_M0\", \"duration\": 2}, {\"task_id\": \"14_M1\", \"duration\": 1}, {\"task_id\": \"14_M2\", \"duration\": 3}], \"reduce_tasks\": [{\"task_id\": \"14_R0\", \"duration\": 3}, {\"task_id\": \"14_R1\", \"duration\": 3}]}\\n'],\n",
       " ['2020-12-06 22:41:54,292',\n",
       "  'MASTER RECEIVED JOB',\n",
       "  '{\"job_id\": \"15\", \"map_tasks\": [{\"task_id\": \"15_M0\", \"duration\": 4}, {\"task_id\": \"15_M1\", \"duration\": 4}], \"reduce_tasks\": [{\"task_id\": \"15_R0\", \"duration\": 4}, {\"task_id\": \"15_R1\", \"duration\": 1}]}\\n'],\n",
       " ['2020-12-06 22:41:55,189',\n",
       "  'MASTER RECEIVED JOB',\n",
       "  '{\"job_id\": \"16\", \"map_tasks\": [{\"task_id\": \"16_M0\", \"duration\": 2}, {\"task_id\": \"16_M1\", \"duration\": 3}, {\"task_id\": \"16_M2\", \"duration\": 4}], \"reduce_tasks\": [{\"task_id\": \"16_R0\", \"duration\": 3}, {\"task_id\": \"16_R1\", \"duration\": 3}]}\\n'],\n",
       " ['2020-12-06 22:41:55,224',\n",
       "  'MASTER RECEIVED JOB',\n",
       "  '{\"job_id\": \"17\", \"map_tasks\": [{\"task_id\": \"17_M0\", \"duration\": 4}, {\"task_id\": \"17_M1\", \"duration\": 3}, {\"task_id\": \"17_M2\", \"duration\": 1}], \"reduce_tasks\": [{\"task_id\": \"17_R0\", \"duration\": 4}]}\\n'],\n",
       " ['2020-12-06 22:41:56,046',\n",
       "  'MASTER RECEIVED JOB',\n",
       "  '{\"job_id\": \"18\", \"map_tasks\": [{\"task_id\": \"18_M0\", \"duration\": 3}, {\"task_id\": \"18_M1\", \"duration\": 4}], \"reduce_tasks\": [{\"task_id\": \"18_R0\", \"duration\": 3}]}\\n'],\n",
       " ['2020-12-06 22:41:56,347',\n",
       "  'MASTER RECEIVED JOB',\n",
       "  '{\"job_id\": \"19\", \"map_tasks\": [{\"task_id\": \"19_M0\", \"duration\": 4}, {\"task_id\": \"19_M1\", \"duration\": 1}, {\"task_id\": \"19_M2\", \"duration\": 1}], \"reduce_tasks\": [{\"task_id\": \"19_R0\", \"duration\": 1}, {\"task_id\": \"19_R1\", \"duration\": 3}]}\\n']]"
      ]
     },
     "execution_count": 146,
     "metadata": {},
     "output_type": "execute_result"
    }
   ],
   "source": [
    "job_received_log"
   ]
  },
  {
   "cell_type": "code",
   "execution_count": 147,
   "metadata": {},
   "outputs": [
    {
     "data": {
      "text/plain": [
       "[['2020-12-06 22:41:49,697',\n",
       "  'JOB FINISHED WITH ID:',\n",
       "  '1',\n",
       "  ' and reduce tasks 2\\n'],\n",
       " ['2020-12-06 22:41:49,711',\n",
       "  'JOB FINISHED WITH ID:',\n",
       "  '0',\n",
       "  ' and reduce tasks 1\\n'],\n",
       " ['2020-12-06 22:41:50,279',\n",
       "  'JOB FINISHED WITH ID:',\n",
       "  '3',\n",
       "  ' and reduce tasks 1\\n'],\n",
       " ['2020-12-06 22:41:53,778',\n",
       "  'JOB FINISHED WITH ID:',\n",
       "  '2',\n",
       "  ' and reduce tasks 2\\n'],\n",
       " ['2020-12-06 22:41:55,835',\n",
       "  'JOB FINISHED WITH ID:',\n",
       "  '4',\n",
       "  ' and reduce tasks 2\\n'],\n",
       " ['2020-12-06 22:41:58,122',\n",
       "  'JOB FINISHED WITH ID:',\n",
       "  '5',\n",
       "  ' and reduce tasks 2\\n'],\n",
       " ['2020-12-06 22:41:58,917',\n",
       "  'JOB FINISHED WITH ID:',\n",
       "  '8',\n",
       "  ' and reduce tasks 1\\n'],\n",
       " ['2020-12-06 22:41:59,146',\n",
       "  'JOB FINISHED WITH ID:',\n",
       "  '10',\n",
       "  ' and reduce tasks 2\\n'],\n",
       " ['2020-12-06 22:42:00,947',\n",
       "  'JOB FINISHED WITH ID:',\n",
       "  '6',\n",
       "  ' and reduce tasks 2\\n'],\n",
       " ['2020-12-06 22:42:00,954',\n",
       "  'JOB FINISHED WITH ID:',\n",
       "  '7',\n",
       "  ' and reduce tasks 2\\n'],\n",
       " ['2020-12-06 22:42:01,512',\n",
       "  'JOB FINISHED WITH ID:',\n",
       "  '9',\n",
       "  ' and reduce tasks 2\\n'],\n",
       " ['2020-12-06 22:42:02,989',\n",
       "  'JOB FINISHED WITH ID:',\n",
       "  '12',\n",
       "  ' and reduce tasks 1\\n'],\n",
       " ['2020-12-06 22:42:04,573',\n",
       "  'JOB FINISHED WITH ID:',\n",
       "  '13',\n",
       "  ' and reduce tasks 1\\n'],\n",
       " ['2020-12-06 22:42:05,026',\n",
       "  'JOB FINISHED WITH ID:',\n",
       "  '14',\n",
       "  ' and reduce tasks 2\\n'],\n",
       " ['2020-12-06 22:42:05,276',\n",
       "  'JOB FINISHED WITH ID:',\n",
       "  '11',\n",
       "  ' and reduce tasks 2\\n'],\n",
       " ['2020-12-06 22:42:06,618',\n",
       "  'JOB FINISHED WITH ID:',\n",
       "  '15',\n",
       "  ' and reduce tasks 2\\n'],\n",
       " ['2020-12-06 22:42:07,311',\n",
       "  'JOB FINISHED WITH ID:',\n",
       "  '18',\n",
       "  ' and reduce tasks 1\\n'],\n",
       " ['2020-12-06 22:42:07,635',\n",
       "  'JOB FINISHED WITH ID:',\n",
       "  '16',\n",
       "  ' and reduce tasks 2\\n'],\n",
       " ['2020-12-06 22:42:07,642',\n",
       "  'JOB FINISHED WITH ID:',\n",
       "  '19',\n",
       "  ' and reduce tasks 2\\n'],\n",
       " ['2020-12-06 22:42:08,085',\n",
       "  'JOB FINISHED WITH ID:',\n",
       "  '17',\n",
       "  ' and reduce tasks 1\\n']]"
      ]
     },
     "execution_count": 147,
     "metadata": {},
     "output_type": "execute_result"
    }
   ],
   "source": [
    "job_completed_log"
   ]
  },
  {
   "cell_type": "code",
   "execution_count": 148,
   "metadata": {},
   "outputs": [],
   "source": [
    "for i in job_received_log:\n",
    "    i[2] = json.loads(i[2])['job_id']"
   ]
  },
  {
   "cell_type": "code",
   "execution_count": 149,
   "metadata": {},
   "outputs": [],
   "source": [
    "def convert_to_datetime(datetime_string):\n",
    "    k = datetime.datetime.strptime(datetime_string, '%Y-%m-%d %H:%M:%S,%f')\n",
    "    return k"
   ]
  },
  {
   "cell_type": "code",
   "execution_count": 150,
   "metadata": {},
   "outputs": [],
   "source": [
    "job_times = {}\n",
    "for i in job_received_log:\n",
    "    for j in job_completed_log:\n",
    "        if i[2] == j[2]:\n",
    "            job_times[i[2]] = (convert_to_datetime(j[0]) - convert_to_datetime(i[0])).total_seconds()"
   ]
  },
  {
   "cell_type": "code",
   "execution_count": 151,
   "metadata": {},
   "outputs": [
    {
     "data": {
      "text/plain": [
       "{'0': 7.232,\n",
       " '1': 6.418,\n",
       " '2': 9.262,\n",
       " '3': 5.416,\n",
       " '4': 10.249,\n",
       " '5': 10.299,\n",
       " '6': 10.853,\n",
       " '7': 10.724,\n",
       " '8': 8.444,\n",
       " '9': 10.981,\n",
       " '10': 8.033,\n",
       " '11': 14.128,\n",
       " '12': 11.225,\n",
       " '13': 11.756,\n",
       " '14': 11.871,\n",
       " '15': 12.326,\n",
       " '16': 12.446,\n",
       " '17': 12.861,\n",
       " '18': 11.265,\n",
       " '19': 11.295}"
      ]
     },
     "execution_count": 151,
     "metadata": {},
     "output_type": "execute_result"
    }
   ],
   "source": [
    "job_times"
   ]
  },
  {
   "cell_type": "code",
   "execution_count": 152,
   "metadata": {},
   "outputs": [
    {
     "data": {
      "text/plain": [
       "4.141679999999999"
      ]
     },
     "execution_count": 152,
     "metadata": {},
     "output_type": "execute_result"
    }
   ],
   "source": [
    "sum(list(job_times.values()))/50"
   ]
  },
  {
   "cell_type": "code",
   "execution_count": 153,
   "metadata": {},
   "outputs": [],
   "source": [
    "avg_times[policy] = sum(list(job_times.values()))/len(job_times)\n",
    "sorted_times = sorted(list(job_times.values()))\n",
    "mid = len(sorted_times) // 2\n",
    "median_times[policy] = (sorted_times[mid] + sorted_times[~mid])/2"
   ]
  },
  {
   "cell_type": "code",
   "execution_count": 154,
   "metadata": {},
   "outputs": [
    {
     "data": {
      "text/plain": [
       "{'RR': 10.354199999999999, 'LL': 10.218850000000003, 'RD': 9.90355}"
      ]
     },
     "execution_count": 154,
     "metadata": {},
     "output_type": "execute_result"
    }
   ],
   "source": [
    "avg_times"
   ]
  },
  {
   "cell_type": "code",
   "execution_count": 155,
   "metadata": {},
   "outputs": [
    {
     "data": {
      "text/plain": [
       "{'RR': 10.917, 'LL': 10.8535, 'RD': 10.424}"
      ]
     },
     "execution_count": 155,
     "metadata": {},
     "output_type": "execute_result"
    }
   ],
   "source": [
    "median_times"
   ]
  },
  {
   "cell_type": "code",
   "execution_count": 156,
   "metadata": {},
   "outputs": [],
   "source": [
    "keys1 = avg_times.keys()\n",
    "keys2 = median_times.keys()\n",
    "values1 = avg_times.values()\n",
    "values2 = median_times.values()"
   ]
  },
  {
   "cell_type": "code",
   "execution_count": 157,
   "metadata": {},
   "outputs": [
    {
     "data": {
      "text/plain": [
       "dict_keys(['RR', 'LL', 'RD'])"
      ]
     },
     "execution_count": 157,
     "metadata": {},
     "output_type": "execute_result"
    }
   ],
   "source": [
    "avg_times.keys()"
   ]
  },
  {
   "cell_type": "code",
   "execution_count": 158,
   "metadata": {},
   "outputs": [
    {
     "data": {
      "text/plain": [
       "dict_values([10.354199999999999, 10.218850000000003, 9.90355])"
      ]
     },
     "execution_count": 158,
     "metadata": {},
     "output_type": "execute_result"
    }
   ],
   "source": [
    "avg_times.values()"
   ]
  },
  {
   "cell_type": "code",
   "execution_count": 159,
   "metadata": {},
   "outputs": [
    {
     "data": {
      "image/png": "[encoded data removed]",
      "text/plain": [
       "<Figure size 432x288 with 1 Axes>"
      ]
     },
     "metadata": {
      "needs_background": "light"
     },
     "output_type": "display_data"
    }
   ],
   "source": [
    "X = np.arange(len(avg_times))\n",
    "ax = plt.subplot(111)\n",
    "ax.bar(X, avg_times.values(), width=0.2, color='b', align='center')\n",
    "ax.bar(X-0.2, median_times.values(), width=0.2, color='g', align='center')\n",
    "ax.legend(('Mean time','Median time'))\n",
    "plt.xticks(X, avg_times.keys())\n",
    "plt.title(\"Scheduler stats\", fontsize=17)\n",
    "plt.savefig('Mean_median_scheduling_algos')\n",
    "plt.show()"
   ]
  },
  {
   "cell_type": "code",
   "execution_count": null,
   "metadata": {},
   "outputs": [],
   "source": []
  }
 ],
 "metadata": {
  "kernelspec": {
   "display_name": "Python 3",
   "language": "python",
   "name": "python3"
  },
  "language_info": {
   "codemirror_mode": {
    "name": "ipython",
    "version": 3
   },
   "file_extension": ".py",
   "mimetype": "text/x-python",
   "name": "python",
   "nbconvert_exporter": "python",
   "pygments_lexer": "ipython3",
   "version": "3.8.6"
  }
 },
 "nbformat": 4,
 "nbformat_minor": 4
}
