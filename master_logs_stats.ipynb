{
 "cells": [
  {
   "cell_type": "code",
   "execution_count": 120,
   "metadata": {},
   "outputs": [],
   "source": [
    "import matplotlib.pyplot as plt\n",
    "import numpy as np\n",
    "import json\n",
    "import datetime"
   ]
  },
  {
   "cell_type": "code",
   "execution_count": 136,
   "metadata": {},
   "outputs": [],
   "source": [
    "policy = 'RR'\n",
    "with open(f'YACS/master/log_master_{policy}.log') as f:\n",
    "    logs = f.readlines()"
   ]
  },
  {
   "cell_type": "code",
   "execution_count": 137,
   "metadata": {},
   "outputs": [
    {
     "name": "stdout",
     "output_type": "stream",
     "text": [
      "['2020-12-05 11:34:44,414 %MASTER RECEIVED JOB%{\"job_id\": \"0\", \"map_tasks\": [{\"task_id\": \"0_M0\", \"duration\": 3}, {\"task_id\": \"0_M1\", \"duration\": 4}], \"reduce_tasks\": [{\"task_id\": \"0_R0\", \"duration\": 1}]}\\n', '2020-12-05 11:34:44,436 %SENDING WORKER WITH ID 1 and slots 4 the task%{\"task_id\": \"0_M0\", \"duration\": 3, \"status\": 1}\\n', '2020-12-05 11:34:44,539 %SENDING WORKER WITH ID 1 and slots 3 the task%{\"task_id\": \"0_M1\", \"duration\": 4, \"status\": 1}\\n', '2020-12-05 11:34:45,220 %MASTER RECEIVED JOB%{\"job_id\": \"1\", \"map_tasks\": [{\"task_id\": \"1_M0\", \"duration\": 3}], \"reduce_tasks\": [{\"task_id\": \"1_R0\", \"duration\": 2}, {\"task_id\": \"1_R1\", \"duration\": 2}]}\\n', '2020-12-05 11:34:45,265 %SENDING WORKER WITH ID 1 and slots 2 the task%{\"task_id\": \"1_M0\", \"duration\": 3, \"status\": 1}\\n', '2020-12-05 11:34:46,460 %MASTER RECEIVED JOB%{\"job_id\": \"2\", \"map_tasks\": [{\"task_id\": \"2_M0\", \"duration\": 4}, {\"task_id\": \"2_M1\", \"duration\": 2}, {\"task_id\": \"2_M2\", \"duration\": 2}, {\"task_id\": \"2_M3\", \"duration\": 2}], \"reduce_tasks\": [{\"task_id\": \"2_R0\", \"duration\": 4}, {\"task_id\": \"2_R1\", \"duration\": 1}]}\\n', '2020-12-05 11:34:46,486 %SENDING WORKER WITH ID 1 and slots 1 the task%{\"task_id\": \"2_M0\", \"duration\": 4, \"status\": 1}\\n', \"2020-12-05 11:34:46,534 %WORKER SENT%{'task_id': '0_M0', 'duration': 0, 'status': 2, 'worker_id': 1}\\n\", '2020-12-05 11:34:46,587 %SENDING WORKER WITH ID 1 and slots 1 the task%{\"task_id\": \"2_M1\", \"duration\": 2, \"status\": 1}\\n', '2020-12-05 11:34:46,689 %SENDING WORKER WITH ID 1 and slots 0 the task%{\"task_id\": \"2_M2\", \"duration\": 2, \"status\": 1}\\n', '2020-12-05 11:34:46,794 %SENDING WORKER WITH ID 2 and slots 6 the task%{\"task_id\": \"2_M3\", \"duration\": 2, \"status\": 1}\\n', '2020-12-05 11:34:46,815 %MASTER RECEIVED JOB%{\"job_id\": \"3\", \"map_tasks\": [{\"task_id\": \"3_M0\", \"duration\": 1}], \"reduce_tasks\": [{\"task_id\": \"3_R0\", \"duration\": 3}]}\\n', '2020-12-05 11:34:46,895 %SENDING WORKER WITH ID 2 and slots 5 the task%{\"task_id\": \"3_M0\", \"duration\": 1, \"status\": 1}\\n', \"2020-12-05 11:34:46,997 %WORKER SENT%{'task_id': '3_M0', 'duration': 0, 'status': 2, 'worker_id': 2}\\n\", '2020-12-05 11:34:47,000 %SENDING WORKER WITH ID 2 and slots 5 the task%{\"task_id\": \"3_R0\", \"duration\": 3, \"status\": 0}\\n', '2020-12-05 11:34:47,534 %MASTER RECEIVED JOB%{\"job_id\": \"4\", \"map_tasks\": [{\"task_id\": \"4_M0\", \"duration\": 4}], \"reduce_tasks\": [{\"task_id\": \"4_R0\", \"duration\": 4}, {\"task_id\": \"4_R1\", \"duration\": 4}]}\\n', \"2020-12-05 11:34:47,546 %WORKER SENT%{'task_id': '1_M0', 'duration': 0, 'status': 2, 'worker_id': 1}\\n\", '2020-12-05 11:34:47,613 %SENDING WORKER WITH ID 1 and slots 0 the task%{\"task_id\": \"4_M0\", \"duration\": 4, \"status\": 1}\\n', '2020-12-05 11:34:47,614 %SENDING WORKER WITH ID 2 and slots 4 the task%{\"task_id\": \"1_R0\", \"duration\": 2, \"status\": 0}\\n', '2020-12-05 11:34:47,614 %SENDING WORKER WITH ID 3 and slots 2 the task%{\"task_id\": \"1_R1\", \"duration\": 2, \"status\": 0}\\n', \"2020-12-05 11:34:48,017 %WORKER SENT%{'task_id': '2_M3', 'duration': 0, 'status': 2, 'worker_id': 2}\\n\", \"2020-12-05 11:34:48,564 %WORKER SENT%{'task_id': '0_M1', 'duration': 0, 'status': 2, 'worker_id': 1}\\n\", \"2020-12-05 11:34:48,564 %WORKER SENT%{'task_id': '2_M1', 'duration': 0, 'status': 2, 'worker_id': 1}\\n\", \"2020-12-05 11:34:48,571 %WORKER SENT%{'task_id': '2_M2', 'duration': 0, 'status': 2, 'worker_id': 1}\\n\", '2020-12-05 11:34:48,626 %SENDING WORKER WITH ID 1 and slots 2 the task%{\"task_id\": \"0_R0\", \"duration\": 1, \"status\": 0}\\n', \"2020-12-05 11:34:49,026 %WORKER SENT%{'task_id': '1_R1', 'duration': 0, 'status': 2, 'worker_id': 3}\\n\", \"2020-12-05 11:34:49,032 %WORKER SENT%{'task_id': '1_R0', 'duration': 0, 'status': 2, 'worker_id': 2}\\n\", '2020-12-05 11:34:49,032 %JOB FINISHED WITH ID:%1% and reduce tasks 2\\n', \"2020-12-05 11:34:49,595 %WORKER SENT%{'task_id': '2_M0', 'duration': 0, 'status': 2, 'worker_id': 1}\\n\", \"2020-12-05 11:34:49,613 %WORKER SENT%{'task_id': '0_R0', 'duration': 0, 'status': 2, 'worker_id': 1}\\n\", '2020-12-05 11:34:49,613 %JOB FINISHED WITH ID:%0% and reduce tasks 1\\n', '2020-12-05 11:34:49,648 %SENDING WORKER WITH ID 1 and slots 3 the task%{\"task_id\": \"2_R0\", \"duration\": 4, \"status\": 0}\\n', '2020-12-05 11:34:49,649 %SENDING WORKER WITH ID 2 and slots 5 the task%{\"task_id\": \"2_R1\", \"duration\": 1, \"status\": 0}\\n', '2020-12-05 11:34:49,771 %MASTER RECEIVED JOB%{\"job_id\": \"5\", \"map_tasks\": [{\"task_id\": \"5_M0\", \"duration\": 2}, {\"task_id\": \"5_M1\", \"duration\": 3}, {\"task_id\": \"5_M2\", \"duration\": 1}, {\"task_id\": \"5_M3\", \"duration\": 1}], \"reduce_tasks\": [{\"task_id\": \"5_R0\", \"duration\": 2}, {\"task_id\": \"5_R1\", \"duration\": 4}]}\\n', '2020-12-05 11:34:49,855 %SENDING WORKER WITH ID 1 and slots 2 the task%{\"task_id\": \"5_M0\", \"duration\": 2, \"status\": 1}\\n', '2020-12-05 11:34:49,959 %SENDING WORKER WITH ID 1 and slots 1 the task%{\"task_id\": \"5_M1\", \"duration\": 3, \"status\": 1}\\n', \"2020-12-05 11:34:50,043 %WORKER SENT%{'task_id': '3_R0', 'duration': 0, 'status': 2, 'worker_id': 2}\\n\", '2020-12-05 11:34:50,043 %JOB FINISHED WITH ID:%3% and reduce tasks 1\\n', \"2020-12-05 11:34:50,043 %WORKER SENT%{'task_id': '2_R1', 'duration': 0, 'status': 2, 'worker_id': 2}\\n\", '2020-12-05 11:34:50,064 %SENDING WORKER WITH ID 1 and slots 0 the task%{\"task_id\": \"5_M2\", \"duration\": 1, \"status\": 1}\\n', '2020-12-05 11:34:50,165 %SENDING WORKER WITH ID 2 and slots 6 the task%{\"task_id\": \"5_M3\", \"duration\": 1, \"status\": 1}\\n', \"2020-12-05 11:34:50,627 %WORKER SENT%{'task_id': '5_M2', 'duration': 0, 'status': 2, 'worker_id': 1}\\n\", \"2020-12-05 11:34:51,063 %WORKER SENT%{'task_id': '5_M3', 'duration': 0, 'status': 2, 'worker_id': 2}\\n\", \"2020-12-05 11:34:51,639 %WORKER SENT%{'task_id': '4_M0', 'duration': 0, 'status': 2, 'worker_id': 1}\\n\", \"2020-12-05 11:34:51,640 %WORKER SENT%{'task_id': '5_M0', 'duration': 0, 'status': 2, 'worker_id': 1}\\n\", '2020-12-05 11:34:51,702 %SENDING WORKER WITH ID 1 and slots 2 the task%{\"task_id\": \"4_R0\", \"duration\": 4, \"status\": 0}\\n', '2020-12-05 11:34:51,703 %SENDING WORKER WITH ID 2 and slots 6 the task%{\"task_id\": \"4_R1\", \"duration\": 4, \"status\": 0}\\n', '2020-12-05 11:34:52,038 %MASTER RECEIVED JOB%{\"job_id\": \"6\", \"map_tasks\": [{\"task_id\": \"6_M0\", \"duration\": 4}, {\"task_id\": \"6_M1\", \"duration\": 3}], \"reduce_tasks\": [{\"task_id\": \"6_R0\", \"duration\": 4}, {\"task_id\": \"6_R1\", \"duration\": 4}]}\\n', '2020-12-05 11:34:52,115 %SENDING WORKER WITH ID 1 and slots 1 the task%{\"task_id\": \"6_M0\", \"duration\": 4, \"status\": 1}\\n', '2020-12-05 11:34:52,175 %MASTER RECEIVED JOB%{\"job_id\": \"7\", \"map_tasks\": [{\"task_id\": \"7_M0\", \"duration\": 2}, {\"task_id\": \"7_M1\", \"duration\": 3}, {\"task_id\": \"7_M2\", \"duration\": 1}], \"reduce_tasks\": [{\"task_id\": \"7_R0\", \"duration\": 3}, {\"task_id\": \"7_R1\", \"duration\": 2}]}\\n', '2020-12-05 11:34:52,220 %SENDING WORKER WITH ID 1 and slots 0 the task%{\"task_id\": \"6_M1\", \"duration\": 3, \"status\": 1}\\n', '2020-12-05 11:34:52,221 %SENDING WORKER WITH ID 2 and slots 5 the task%{\"task_id\": \"7_M0\", \"duration\": 2, \"status\": 1}\\n', '2020-12-05 11:34:52,326 %SENDING WORKER WITH ID 2 and slots 4 the task%{\"task_id\": \"7_M1\", \"duration\": 3, \"status\": 1}\\n', '2020-12-05 11:34:52,410 %MASTER RECEIVED JOB%{\"job_id\": \"8\", \"map_tasks\": [{\"task_id\": \"8_M0\", \"duration\": 2}, {\"task_id\": \"8_M1\", \"duration\": 3}, {\"task_id\": \"8_M2\", \"duration\": 3}], \"reduce_tasks\": [{\"task_id\": \"8_R0\", \"duration\": 1}]}\\n', '2020-12-05 11:34:52,429 %SENDING WORKER WITH ID 2 and slots 3 the task%{\"task_id\": \"7_M2\", \"duration\": 1, \"status\": 1}\\n', '2020-12-05 11:34:52,429 %SENDING WORKER WITH ID 3 and slots 2 the task%{\"task_id\": \"8_M0\", \"duration\": 2, \"status\": 1}\\n', '2020-12-05 11:34:52,466 %MASTER RECEIVED JOB%{\"job_id\": \"9\", \"map_tasks\": [{\"task_id\": \"9_M0\", \"duration\": 4}], \"reduce_tasks\": [{\"task_id\": \"9_R0\", \"duration\": 1}, {\"task_id\": \"9_R1\", \"duration\": 3}]}\\n', '2020-12-05 11:34:52,534 %SENDING WORKER WITH ID 2 and slots 2 the task%{\"task_id\": \"8_M1\", \"duration\": 3, \"status\": 1}\\n', '2020-12-05 11:34:52,534 %SENDING WORKER WITH ID 3 and slots 1 the task%{\"task_id\": \"9_M0\", \"duration\": 4, \"status\": 1}\\n', '2020-12-05 11:34:52,638 %SENDING WORKER WITH ID 2 and slots 1 the task%{\"task_id\": \"8_M2\", \"duration\": 3, \"status\": 1}\\n', \"2020-12-05 11:34:52,645 %WORKER SENT%{'task_id': '5_M1', 'duration': 0, 'status': 2, 'worker_id': 1}\\n\", '2020-12-05 11:34:52,740 %SENDING WORKER WITH ID 1 and slots 0 the task%{\"task_id\": \"5_R0\", \"duration\": 2, \"status\": 0}\\n', '2020-12-05 11:34:52,740 %SENDING WORKER WITH ID 2 and slots 0 the task%{\"task_id\": \"5_R1\", \"duration\": 4, \"status\": 0}\\n', '2020-12-05 11:34:53,056 %MASTER RECEIVED JOB%{\"job_id\": \"10\", \"map_tasks\": [{\"task_id\": \"10_M0\", \"duration\": 2}], \"reduce_tasks\": [{\"task_id\": \"10_R0\", \"duration\": 1}, {\"task_id\": \"10_R1\", \"duration\": 3}]}\\n', '2020-12-05 11:34:53,092 %MASTER RECEIVED JOB%{\"job_id\": \"11\", \"map_tasks\": [{\"task_id\": \"11_M0\", \"duration\": 1}, {\"task_id\": \"11_M1\", \"duration\": 1}, {\"task_id\": \"11_M2\", \"duration\": 1}, {\"task_id\": \"11_M3\", \"duration\": 4}], \"reduce_tasks\": [{\"task_id\": \"11_R0\", \"duration\": 3}, {\"task_id\": \"11_R1\", \"duration\": 3}]}\\n', \"2020-12-05 11:34:53,096 %WORKER SENT%{'task_id': '7_M2', 'duration': 0, 'status': 2, 'worker_id': 2}\\n\", '2020-12-05 11:34:53,151 %SENDING WORKER WITH ID 2 and slots 0 the task%{\"task_id\": \"10_M0\", \"duration\": 2, \"status\": 1}\\n', '2020-12-05 11:34:53,152 %SENDING WORKER WITH ID 3 and slots 0 the task%{\"task_id\": \"11_M0\", \"duration\": 1, \"status\": 1}\\n', \"2020-12-05 11:34:53,663 %WORKER SENT%{'task_id': '2_R0', 'duration': 0, 'status': 2, 'worker_id': 1}\\n\", '2020-12-05 11:34:53,663 %JOB FINISHED WITH ID:%2% and reduce tasks 2\\n', '2020-12-05 11:34:53,704 %MASTER RECEIVED JOB%{\"job_id\": \"12\", \"map_tasks\": [{\"task_id\": \"12_M0\", \"duration\": 3}, {\"task_id\": \"12_M1\", \"duration\": 1}], \"reduce_tasks\": [{\"task_id\": \"12_R0\", \"duration\": 1}]}\\n', \"2020-12-05 11:34:54,101 %WORKER SENT%{'task_id': '8_M0', 'duration': 0, 'status': 2, 'worker_id': 3}\\n\", \"2020-12-05 11:34:54,113 %WORKER SENT%{'task_id': '11_M0', 'duration': 0, 'status': 2, 'worker_id': 3}\\n\", \"2020-12-05 11:34:54,125 %WORKER SENT%{'task_id': '7_M0', 'duration': 0, 'status': 2, 'worker_id': 2}\\n\", '2020-12-05 11:34:54,255 %SENDING WORKER WITH ID 1 and slots 0 the task%{\"task_id\": \"11_M1\", \"duration\": 1, \"status\": 1}\\n', '2020-12-05 11:34:54,256 %SENDING WORKER WITH ID 2 and slots 0 the task%{\"task_id\": \"11_M2\", \"duration\": 1, \"status\": 1}\\n', '2020-12-05 11:34:54,256 %SENDING WORKER WITH ID 3 and slots 1 the task%{\"task_id\": \"12_M0\", \"duration\": 3, \"status\": 1}\\n', '2020-12-05 11:34:54,361 %SENDING WORKER WITH ID 3 and slots 0 the task%{\"task_id\": \"11_M3\", \"duration\": 4, \"status\": 1}\\n', \"2020-12-05 11:34:54,683 %WORKER SENT%{'task_id': '6_M1', 'duration': 0, 'status': 2, 'worker_id': 1}\\n\", \"2020-12-05 11:34:54,696 %WORKER SENT%{'task_id': '5_R0', 'duration': 0, 'status': 2, 'worker_id': 1}\\n\", \"2020-12-05 11:34:54,716 %WORKER SENT%{'task_id': '11_M1', 'duration': 0, 'status': 2, 'worker_id': 1}\\n\", '2020-12-05 11:34:54,760 %MASTER RECEIVED JOB%{\"job_id\": \"13\", \"map_tasks\": [{\"task_id\": \"13_M0\", \"duration\": 2}], \"reduce_tasks\": [{\"task_id\": \"13_R0\", \"duration\": 4}]}\\n', '2020-12-05 11:34:55,092 %MASTER RECEIVED JOB%{\"job_id\": \"14\", \"map_tasks\": [{\"task_id\": \"14_M0\", \"duration\": 2}, {\"task_id\": \"14_M1\", \"duration\": 1}, {\"task_id\": \"14_M2\", \"duration\": 3}], \"reduce_tasks\": [{\"task_id\": \"14_R0\", \"duration\": 3}, {\"task_id\": \"14_R1\", \"duration\": 3}]}\\n', \"2020-12-05 11:34:55,144 %WORKER SENT%{'task_id': '4_R1', 'duration': 0, 'status': 2, 'worker_id': 2}\\n\", \"2020-12-05 11:34:55,170 %WORKER SENT%{'task_id': '7_M1', 'duration': 0, 'status': 2, 'worker_id': 2}\\n\", \"2020-12-05 11:34:55,171 %WORKER SENT%{'task_id': '8_M1', 'duration': 0, 'status': 2, 'worker_id': 2}\\n\", \"2020-12-05 11:34:55,178 %WORKER SENT%{'task_id': '8_M2', 'duration': 0, 'status': 2, 'worker_id': 2}\\n\", \"2020-12-05 11:34:55,184 %WORKER SENT%{'task_id': '10_M0', 'duration': 0, 'status': 2, 'worker_id': 2}\\n\", \"2020-12-05 11:34:55,191 %WORKER SENT%{'task_id': '11_M2', 'duration': 0, 'status': 2, 'worker_id': 2}\\n\", '2020-12-05 11:34:55,364 %SENDING WORKER WITH ID 1 and slots 2 the task%{\"task_id\": \"12_M1\", \"duration\": 1, \"status\": 1}\\n', '2020-12-05 11:34:55,364 %SENDING WORKER WITH ID 2 and slots 5 the task%{\"task_id\": \"13_M0\", \"duration\": 2, \"status\": 1}\\n', '2020-12-05 11:34:55,365 %SENDING WORKER WITH ID 1 and slots 1 the task%{\"task_id\": \"14_M0\", \"duration\": 2, \"status\": 1}\\n', '2020-12-05 11:34:55,365 %SENDING WORKER WITH ID 2 and slots 4 the task%{\"task_id\": \"7_R0\", \"duration\": 3, \"status\": 0}\\n', '2020-12-05 11:34:55,366 %SENDING WORKER WITH ID 1 and slots 0 the task%{\"task_id\": \"7_R1\", \"duration\": 2, \"status\": 0}\\n', '2020-12-05 11:34:55,366 %SENDING WORKER WITH ID 2 and slots 3 the task%{\"task_id\": \"8_R0\", \"duration\": 1, \"status\": 0}\\n', '2020-12-05 11:34:55,366 %SENDING WORKER WITH ID 2 and slots 2 the task%{\"task_id\": \"10_R0\", \"duration\": 1, \"status\": 0}\\n', '2020-12-05 11:34:55,367 %SENDING WORKER WITH ID 2 and slots 1 the task%{\"task_id\": \"10_R1\", \"duration\": 3, \"status\": 0}\\n', '2020-12-05 11:34:55,367 %SENDING WORKER WITH ID 2 and slots 0 the task%{\"task_id\": \"14_M1\", \"duration\": 1, \"status\": 1}\\n', \"2020-12-05 11:34:55,738 %WORKER SENT%{'task_id': '4_R0', 'duration': 0, 'status': 2, 'worker_id': 1}\\n\", '2020-12-05 11:34:55,738 %JOB FINISHED WITH ID:%4% and reduce tasks 2\\n', \"2020-12-05 11:34:55,738 %WORKER SENT%{'task_id': '6_M0', 'duration': 0, 'status': 2, 'worker_id': 1}\\n\", \"2020-12-05 11:34:55,745 %WORKER SENT%{'task_id': '12_M1', 'duration': 0, 'status': 2, 'worker_id': 1}\\n\", \"2020-12-05 11:34:56,140 %WORKER SENT%{'task_id': '9_M0', 'duration': 0, 'status': 2, 'worker_id': 3}\\n\", \"2020-12-05 11:34:56,197 %WORKER SENT%{'task_id': '5_R1', 'duration': 0, 'status': 2, 'worker_id': 2}\\n\", '2020-12-05 11:34:56,197 %JOB FINISHED WITH ID:%5% and reduce tasks 2\\n', \"2020-12-05 11:34:56,198 %WORKER SENT%{'task_id': '8_R0', 'duration': 0, 'status': 2, 'worker_id': 2}\\n\", '2020-12-05 11:34:56,198 %JOB FINISHED WITH ID:%8% and reduce tasks 1\\n', \"2020-12-05 11:34:56,198 %WORKER SENT%{'task_id': '10_R0', 'duration': 0, 'status': 2, 'worker_id': 2}\\n\", \"2020-12-05 11:34:56,205 %WORKER SENT%{'task_id': '14_M1', 'duration': 0, 'status': 2, 'worker_id': 2}\\n\", '2020-12-05 11:34:56,233 %MASTER RECEIVED JOB%{\"job_id\": \"15\", \"map_tasks\": [{\"task_id\": \"15_M0\", \"duration\": 4}, {\"task_id\": \"15_M1\", \"duration\": 4}], \"reduce_tasks\": [{\"task_id\": \"15_R0\", \"duration\": 4}, {\"task_id\": \"15_R1\", \"duration\": 1}]}\\n', '2020-12-05 11:34:56,368 %SENDING WORKER WITH ID 1 and slots 2 the task%{\"task_id\": \"14_M2\", \"duration\": 3, \"status\": 1}\\n', '2020-12-05 11:34:56,369 %SENDING WORKER WITH ID 2 and slots 3 the task%{\"task_id\": \"15_M0\", \"duration\": 4, \"status\": 1}\\n', '2020-12-05 11:34:56,369 %SENDING WORKER WITH ID 3 and slots 0 the task%{\"task_id\": \"6_R0\", \"duration\": 4, \"status\": 0}\\n', '2020-12-05 11:34:56,370 %SENDING WORKER WITH ID 1 and slots 1 the task%{\"task_id\": \"6_R1\", \"duration\": 4, \"status\": 0}\\n', '2020-12-05 11:34:56,370 %SENDING WORKER WITH ID 2 and slots 2 the task%{\"task_id\": \"9_R0\", \"duration\": 1, \"status\": 0}\\n', '2020-12-05 11:34:56,371 %SENDING WORKER WITH ID 1 and slots 0 the task%{\"task_id\": \"9_R1\", \"duration\": 3, \"status\": 0}\\n', '2020-12-05 11:34:56,371 %SENDING WORKER WITH ID 2 and slots 1 the task%{\"task_id\": \"15_M1\", \"duration\": 4, \"status\": 1}\\n', \"2020-12-05 11:34:56,761 %WORKER SENT%{'task_id': '14_M0', 'duration': 0, 'status': 2, 'worker_id': 1}\\n\", \"2020-12-05 11:34:56,762 %WORKER SENT%{'task_id': '7_R1', 'duration': 0, 'status': 2, 'worker_id': 1}\\n\", '2020-12-05 11:34:57,129 %MASTER RECEIVED JOB%{\"job_id\": \"16\", \"map_tasks\": [{\"task_id\": \"16_M0\", \"duration\": 2}, {\"task_id\": \"16_M1\", \"duration\": 3}, {\"task_id\": \"16_M2\", \"duration\": 4}], \"reduce_tasks\": [{\"task_id\": \"16_R0\", \"duration\": 3}, {\"task_id\": \"16_R1\", \"duration\": 3}]}\\n', \"2020-12-05 11:34:57,148 %WORKER SENT%{'task_id': '12_M0', 'duration': 0, 'status': 2, 'worker_id': 3}\\n\", '2020-12-05 11:34:57,163 %MASTER RECEIVED JOB%{\"job_id\": \"17\", \"map_tasks\": [{\"task_id\": \"17_M0\", \"duration\": 4}, {\"task_id\": \"17_M1\", \"duration\": 3}, {\"task_id\": \"17_M2\", \"duration\": 1}], \"reduce_tasks\": [{\"task_id\": \"17_R0\", \"duration\": 4}]}\\n', '2020-12-05 11:34:57,195 %SENDING WORKER WITH ID 1 and slots 1 the task%{\"task_id\": \"16_M0\", \"duration\": 2, \"status\": 1}\\n', '2020-12-05 11:34:57,195 %SENDING WORKER WITH ID 2 and slots 0 the task%{\"task_id\": \"17_M0\", \"duration\": 4, \"status\": 1}\\n', '2020-12-05 11:34:57,196 %SENDING WORKER WITH ID 3 and slots 0 the task%{\"task_id\": \"12_R0\", \"duration\": 1, \"status\": 0}\\n', \"2020-12-05 11:34:57,226 %WORKER SENT%{'task_id': '13_M0', 'duration': 0, 'status': 2, 'worker_id': 2}\\n\", \"2020-12-05 11:34:57,240 %WORKER SENT%{'task_id': '9_R0', 'duration': 0, 'status': 2, 'worker_id': 2}\\n\", '2020-12-05 11:34:57,302 %SENDING WORKER WITH ID 1 and slots 0 the task%{\"task_id\": \"16_M1\", \"duration\": 3, \"status\": 1}\\n', '2020-12-05 11:34:57,302 %SENDING WORKER WITH ID 2 and slots 1 the task%{\"task_id\": \"17_M1\", \"duration\": 3, \"status\": 1}\\n', '2020-12-05 11:34:57,303 %SENDING WORKER WITH ID 2 and slots 0 the task%{\"task_id\": \"13_R0\", \"duration\": 4, \"status\": 0}\\n', '2020-12-05 11:34:57,995 %MASTER RECEIVED JOB%{\"job_id\": \"18\", \"map_tasks\": [{\"task_id\": \"18_M0\", \"duration\": 3}, {\"task_id\": \"18_M1\", \"duration\": 4}], \"reduce_tasks\": [{\"task_id\": \"18_R0\", \"duration\": 3}]}\\n', \"2020-12-05 11:34:58,162 %WORKER SENT%{'task_id': '11_M3', 'duration': 0, 'status': 2, 'worker_id': 3}\\n\", \"2020-12-05 11:34:58,174 %WORKER SENT%{'task_id': '12_R0', 'duration': 0, 'status': 2, 'worker_id': 3}\\n\", '2020-12-05 11:34:58,174 %JOB FINISHED WITH ID:%12% and reduce tasks 1\\n', \"2020-12-05 11:34:58,253 %WORKER SENT%{'task_id': '7_R0', 'duration': 0, 'status': 2, 'worker_id': 2}\\n\", '2020-12-05 11:34:58,254 %JOB FINISHED WITH ID:%7% and reduce tasks 2\\n', \"2020-12-05 11:34:58,260 %WORKER SENT%{'task_id': '10_R1', 'duration': 0, 'status': 2, 'worker_id': 2}\\n\", '2020-12-05 11:34:58,260 %JOB FINISHED WITH ID:%10% and reduce tasks 2\\n', '2020-12-05 11:34:58,296 %MASTER RECEIVED JOB%{\"job_id\": \"19\", \"map_tasks\": [{\"task_id\": \"19_M0\", \"duration\": 4}, {\"task_id\": \"19_M1\", \"duration\": 1}, {\"task_id\": \"19_M2\", \"duration\": 1}], \"reduce_tasks\": [{\"task_id\": \"19_R0\", \"duration\": 1}, {\"task_id\": \"19_R1\", \"duration\": 3}]}\\n', '2020-12-05 11:34:58,306 %SENDING WORKER WITH ID 2 and slots 1 the task%{\"task_id\": \"16_M2\", \"duration\": 4, \"status\": 1}\\n', '2020-12-05 11:34:58,307 %SENDING WORKER WITH ID 3 and slots 1 the task%{\"task_id\": \"17_M2\", \"duration\": 1, \"status\": 1}\\n', '2020-12-05 11:34:58,308 %SENDING WORKER WITH ID 2 and slots 0 the task%{\"task_id\": \"18_M0\", \"duration\": 3, \"status\": 1}\\n', '2020-12-05 11:34:58,309 %SENDING WORKER WITH ID 3 and slots 0 the task%{\"task_id\": \"19_M0\", \"duration\": 4, \"status\": 1}\\n', \"2020-12-05 11:34:58,787 %WORKER SENT%{'task_id': '14_M2', 'duration': 0, 'status': 2, 'worker_id': 1}\\n\", \"2020-12-05 11:34:58,788 %WORKER SENT%{'task_id': '9_R1', 'duration': 0, 'status': 2, 'worker_id': 1}\\n\", '2020-12-05 11:34:58,788 %JOB FINISHED WITH ID:%9% and reduce tasks 2\\n', \"2020-12-05 11:34:58,801 %WORKER SENT%{'task_id': '16_M0', 'duration': 0, 'status': 2, 'worker_id': 1}\\n\", \"2020-12-05 11:34:59,187 %WORKER SENT%{'task_id': '17_M2', 'duration': 0, 'status': 2, 'worker_id': 3}\\n\", '2020-12-05 11:34:59,311 %SENDING WORKER WITH ID 1 and slots 2 the task%{\"task_id\": \"11_R0\", \"duration\": 3, \"status\": 0}\\n', '2020-12-05 11:34:59,311 %SENDING WORKER WITH ID 3 and slots 0 the task%{\"task_id\": \"11_R1\", \"duration\": 3, \"status\": 0}\\n', '2020-12-05 11:34:59,312 %SENDING WORKER WITH ID 1 and slots 1 the task%{\"task_id\": \"18_M1\", \"duration\": 4, \"status\": 1}\\n', '2020-12-05 11:34:59,313 %SENDING WORKER WITH ID 1 and slots 0 the task%{\"task_id\": \"19_M1\", \"duration\": 1, \"status\": 1}\\n', \"2020-12-05 11:34:59,814 %WORKER SENT%{'task_id': '6_R1', 'duration': 0, 'status': 2, 'worker_id': 1}\\n\", \"2020-12-05 11:34:59,814 %WORKER SENT%{'task_id': '16_M1', 'duration': 0, 'status': 2, 'worker_id': 1}\\n\", \"2020-12-05 11:34:59,827 %WORKER SENT%{'task_id': '19_M1', 'duration': 0, 'status': 2, 'worker_id': 1}\\n\", \"2020-12-05 11:35:00,206 %WORKER SENT%{'task_id': '6_R0', 'duration': 0, 'status': 2, 'worker_id': 3}\\n\", '2020-12-05 11:35:00,206 %JOB FINISHED WITH ID:%6% and reduce tasks 2\\n', \"2020-12-05 11:35:00,292 %WORKER SENT%{'task_id': '15_M0', 'duration': 0, 'status': 2, 'worker_id': 2}\\n\", \"2020-12-05 11:35:00,299 %WORKER SENT%{'task_id': '15_M1', 'duration': 0, 'status': 2, 'worker_id': 2}\\n\", \"2020-12-05 11:35:00,311 %WORKER SENT%{'task_id': '17_M1', 'duration': 0, 'status': 2, 'worker_id': 2}\\n\", '2020-12-05 11:35:00,315 %SENDING WORKER WITH ID 1 and slots 2 the task%{\"task_id\": \"19_M2\", \"duration\": 1, \"status\": 1}\\n', '2020-12-05 11:35:00,315 %SENDING WORKER WITH ID 2 and slots 2 the task%{\"task_id\": \"14_R0\", \"duration\": 3, \"status\": 0}\\n', '2020-12-05 11:35:00,316 %SENDING WORKER WITH ID 3 and slots 0 the task%{\"task_id\": \"14_R1\", \"duration\": 3, \"status\": 0}\\n', '2020-12-05 11:35:00,316 %SENDING WORKER WITH ID 1 and slots 1 the task%{\"task_id\": \"15_R0\", \"duration\": 4, \"status\": 0}\\n', '2020-12-05 11:35:00,317 %SENDING WORKER WITH ID 2 and slots 1 the task%{\"task_id\": \"15_R1\", \"duration\": 1, \"status\": 0}\\n', \"2020-12-05 11:35:00,838 %WORKER SENT%{'task_id': '19_M2', 'duration': 0, 'status': 2, 'worker_id': 1}\\n\", \"2020-12-05 11:35:01,345 %WORKER SENT%{'task_id': '17_M0', 'duration': 0, 'status': 2, 'worker_id': 2}\\n\", \"2020-12-05 11:35:01,352 %WORKER SENT%{'task_id': '13_R0', 'duration': 0, 'status': 2, 'worker_id': 2}\\n\", '2020-12-05 11:35:01,352 %JOB FINISHED WITH ID:%13% and reduce tasks 1\\n', \"2020-12-05 11:35:01,359 %WORKER SENT%{'task_id': '18_M0', 'duration': 0, 'status': 2, 'worker_id': 2}\\n\", \"2020-12-05 11:35:01,366 %WORKER SENT%{'task_id': '15_R1', 'duration': 0, 'status': 2, 'worker_id': 2}\\n\", '2020-12-05 11:35:01,439 %SENDING WORKER WITH ID 1 and slots 1 the task%{\"task_id\": \"17_R0\", \"duration\": 4, \"status\": 0}\\n', \"2020-12-05 11:35:01,846 %WORKER SENT%{'task_id': '11_R0', 'duration': 0, 'status': 2, 'worker_id': 1}\\n\", \"2020-12-05 11:35:02,241 %WORKER SENT%{'task_id': '19_M0', 'duration': 0, 'status': 2, 'worker_id': 3}\\n\", \"2020-12-05 11:35:02,241 %WORKER SENT%{'task_id': '11_R1', 'duration': 0, 'status': 2, 'worker_id': 3}\\n\", '2020-12-05 11:35:02,241 %JOB FINISHED WITH ID:%11% and reduce tasks 2\\n', '2020-12-05 11:35:02,262 %SENDING WORKER WITH ID 1 and slots 1 the task%{\"task_id\": \"19_R0\", \"duration\": 1, \"status\": 0}\\n', '2020-12-05 11:35:02,263 %SENDING WORKER WITH ID 2 and slots 4 the task%{\"task_id\": \"19_R1\", \"duration\": 3, \"status\": 0}\\n', \"2020-12-05 11:35:02,381 %WORKER SENT%{'task_id': '16_M2', 'duration': 0, 'status': 2, 'worker_id': 2}\\n\", '2020-12-05 11:35:02,471 %SENDING WORKER WITH ID 1 and slots 0 the task%{\"task_id\": \"16_R0\", \"duration\": 3, \"status\": 0}\\n', '2020-12-05 11:35:02,471 %SENDING WORKER WITH ID 2 and slots 4 the task%{\"task_id\": \"16_R1\", \"duration\": 3, \"status\": 0}\\n', \"2020-12-05 11:35:02,873 %WORKER SENT%{'task_id': '18_M1', 'duration': 0, 'status': 2, 'worker_id': 1}\\n\", \"2020-12-05 11:35:02,886 %WORKER SENT%{'task_id': '19_R0', 'duration': 0, 'status': 2, 'worker_id': 1}\\n\", '2020-12-05 11:35:02,888 %SENDING WORKER WITH ID 1 and slots 1 the task%{\"task_id\": \"18_R0\", \"duration\": 3, \"status\": 0}\\n', \"2020-12-05 11:35:03,258 %WORKER SENT%{'task_id': '14_R1', 'duration': 0, 'status': 2, 'worker_id': 3}\\n\", \"2020-12-05 11:35:03,392 %WORKER SENT%{'task_id': '14_R0', 'duration': 0, 'status': 2, 'worker_id': 2}\\n\", '2020-12-05 11:35:03,392 %JOB FINISHED WITH ID:%14% and reduce tasks 2\\n', \"2020-12-05 11:35:03,910 %WORKER SENT%{'task_id': '15_R0', 'duration': 0, 'status': 2, 'worker_id': 1}\\n\", '2020-12-05 11:35:03,910 %JOB FINISHED WITH ID:%15% and reduce tasks 2\\n', \"2020-12-05 11:35:04,399 %WORKER SENT%{'task_id': '19_R1', 'duration': 0, 'status': 2, 'worker_id': 2}\\n\", '2020-12-05 11:35:04,399 %JOB FINISHED WITH ID:%19% and reduce tasks 2\\n', \"2020-12-05 11:35:04,930 %WORKER SENT%{'task_id': '17_R0', 'duration': 0, 'status': 2, 'worker_id': 1}\\n\", '2020-12-05 11:35:04,930 %JOB FINISHED WITH ID:%17% and reduce tasks 1\\n', \"2020-12-05 11:35:04,937 %WORKER SENT%{'task_id': '16_R0', 'duration': 0, 'status': 2, 'worker_id': 1}\\n\", \"2020-12-05 11:35:05,417 %WORKER SENT%{'task_id': '16_R1', 'duration': 0, 'status': 2, 'worker_id': 2}\\n\", '2020-12-05 11:35:05,417 %JOB FINISHED WITH ID:%16% and reduce tasks 2\\n', \"2020-12-05 11:35:05,961 %WORKER SENT%{'task_id': '18_R0', 'duration': 0, 'status': 2, 'worker_id': 1}\\n\", '2020-12-05 11:35:05,961 %JOB FINISHED WITH ID:%18% and reduce tasks 1\\n']\n"
     ]
    }
   ],
   "source": [
    "print(logs)"
   ]
  },
  {
   "cell_type": "code",
   "execution_count": 138,
   "metadata": {},
   "outputs": [],
   "source": [
    "job_received_log = []\n",
    "job_completed_log = []\n",
    "for log in logs:\n",
    "    log = log.split('%')\n",
    "    log[0] = log[0].strip()\n",
    "    if log[1] == 'MASTER RECEIVED JOB':\n",
    "        job_received_log.append(log)\n",
    "    elif log[1] == 'JOB FINISHED WITH ID:':\n",
    "        job_completed_log.append(log)"
   ]
  },
  {
   "cell_type": "code",
   "execution_count": 139,
   "metadata": {},
   "outputs": [
    {
     "data": {
      "text/plain": [
       "[['2020-12-05 11:34:44,414',\n",
       "  'MASTER RECEIVED JOB',\n",
       "  '{\"job_id\": \"0\", \"map_tasks\": [{\"task_id\": \"0_M0\", \"duration\": 3}, {\"task_id\": \"0_M1\", \"duration\": 4}], \"reduce_tasks\": [{\"task_id\": \"0_R0\", \"duration\": 1}]}\\n'],\n",
       " ['2020-12-05 11:34:45,220',\n",
       "  'MASTER RECEIVED JOB',\n",
       "  '{\"job_id\": \"1\", \"map_tasks\": [{\"task_id\": \"1_M0\", \"duration\": 3}], \"reduce_tasks\": [{\"task_id\": \"1_R0\", \"duration\": 2}, {\"task_id\": \"1_R1\", \"duration\": 2}]}\\n'],\n",
       " ['2020-12-05 11:34:46,460',\n",
       "  'MASTER RECEIVED JOB',\n",
       "  '{\"job_id\": \"2\", \"map_tasks\": [{\"task_id\": \"2_M0\", \"duration\": 4}, {\"task_id\": \"2_M1\", \"duration\": 2}, {\"task_id\": \"2_M2\", \"duration\": 2}, {\"task_id\": \"2_M3\", \"duration\": 2}], \"reduce_tasks\": [{\"task_id\": \"2_R0\", \"duration\": 4}, {\"task_id\": \"2_R1\", \"duration\": 1}]}\\n'],\n",
       " ['2020-12-05 11:34:46,815',\n",
       "  'MASTER RECEIVED JOB',\n",
       "  '{\"job_id\": \"3\", \"map_tasks\": [{\"task_id\": \"3_M0\", \"duration\": 1}], \"reduce_tasks\": [{\"task_id\": \"3_R0\", \"duration\": 3}]}\\n'],\n",
       " ['2020-12-05 11:34:47,534',\n",
       "  'MASTER RECEIVED JOB',\n",
       "  '{\"job_id\": \"4\", \"map_tasks\": [{\"task_id\": \"4_M0\", \"duration\": 4}], \"reduce_tasks\": [{\"task_id\": \"4_R0\", \"duration\": 4}, {\"task_id\": \"4_R1\", \"duration\": 4}]}\\n'],\n",
       " ['2020-12-05 11:34:49,771',\n",
       "  'MASTER RECEIVED JOB',\n",
       "  '{\"job_id\": \"5\", \"map_tasks\": [{\"task_id\": \"5_M0\", \"duration\": 2}, {\"task_id\": \"5_M1\", \"duration\": 3}, {\"task_id\": \"5_M2\", \"duration\": 1}, {\"task_id\": \"5_M3\", \"duration\": 1}], \"reduce_tasks\": [{\"task_id\": \"5_R0\", \"duration\": 2}, {\"task_id\": \"5_R1\", \"duration\": 4}]}\\n'],\n",
       " ['2020-12-05 11:34:52,038',\n",
       "  'MASTER RECEIVED JOB',\n",
       "  '{\"job_id\": \"6\", \"map_tasks\": [{\"task_id\": \"6_M0\", \"duration\": 4}, {\"task_id\": \"6_M1\", \"duration\": 3}], \"reduce_tasks\": [{\"task_id\": \"6_R0\", \"duration\": 4}, {\"task_id\": \"6_R1\", \"duration\": 4}]}\\n'],\n",
       " ['2020-12-05 11:34:52,175',\n",
       "  'MASTER RECEIVED JOB',\n",
       "  '{\"job_id\": \"7\", \"map_tasks\": [{\"task_id\": \"7_M0\", \"duration\": 2}, {\"task_id\": \"7_M1\", \"duration\": 3}, {\"task_id\": \"7_M2\", \"duration\": 1}], \"reduce_tasks\": [{\"task_id\": \"7_R0\", \"duration\": 3}, {\"task_id\": \"7_R1\", \"duration\": 2}]}\\n'],\n",
       " ['2020-12-05 11:34:52,410',\n",
       "  'MASTER RECEIVED JOB',\n",
       "  '{\"job_id\": \"8\", \"map_tasks\": [{\"task_id\": \"8_M0\", \"duration\": 2}, {\"task_id\": \"8_M1\", \"duration\": 3}, {\"task_id\": \"8_M2\", \"duration\": 3}], \"reduce_tasks\": [{\"task_id\": \"8_R0\", \"duration\": 1}]}\\n'],\n",
       " ['2020-12-05 11:34:52,466',\n",
       "  'MASTER RECEIVED JOB',\n",
       "  '{\"job_id\": \"9\", \"map_tasks\": [{\"task_id\": \"9_M0\", \"duration\": 4}], \"reduce_tasks\": [{\"task_id\": \"9_R0\", \"duration\": 1}, {\"task_id\": \"9_R1\", \"duration\": 3}]}\\n'],\n",
       " ['2020-12-05 11:34:53,056',\n",
       "  'MASTER RECEIVED JOB',\n",
       "  '{\"job_id\": \"10\", \"map_tasks\": [{\"task_id\": \"10_M0\", \"duration\": 2}], \"reduce_tasks\": [{\"task_id\": \"10_R0\", \"duration\": 1}, {\"task_id\": \"10_R1\", \"duration\": 3}]}\\n'],\n",
       " ['2020-12-05 11:34:53,092',\n",
       "  'MASTER RECEIVED JOB',\n",
       "  '{\"job_id\": \"11\", \"map_tasks\": [{\"task_id\": \"11_M0\", \"duration\": 1}, {\"task_id\": \"11_M1\", \"duration\": 1}, {\"task_id\": \"11_M2\", \"duration\": 1}, {\"task_id\": \"11_M3\", \"duration\": 4}], \"reduce_tasks\": [{\"task_id\": \"11_R0\", \"duration\": 3}, {\"task_id\": \"11_R1\", \"duration\": 3}]}\\n'],\n",
       " ['2020-12-05 11:34:53,704',\n",
       "  'MASTER RECEIVED JOB',\n",
       "  '{\"job_id\": \"12\", \"map_tasks\": [{\"task_id\": \"12_M0\", \"duration\": 3}, {\"task_id\": \"12_M1\", \"duration\": 1}], \"reduce_tasks\": [{\"task_id\": \"12_R0\", \"duration\": 1}]}\\n'],\n",
       " ['2020-12-05 11:34:54,760',\n",
       "  'MASTER RECEIVED JOB',\n",
       "  '{\"job_id\": \"13\", \"map_tasks\": [{\"task_id\": \"13_M0\", \"duration\": 2}], \"reduce_tasks\": [{\"task_id\": \"13_R0\", \"duration\": 4}]}\\n'],\n",
       " ['2020-12-05 11:34:55,092',\n",
       "  'MASTER RECEIVED JOB',\n",
       "  '{\"job_id\": \"14\", \"map_tasks\": [{\"task_id\": \"14_M0\", \"duration\": 2}, {\"task_id\": \"14_M1\", \"duration\": 1}, {\"task_id\": \"14_M2\", \"duration\": 3}], \"reduce_tasks\": [{\"task_id\": \"14_R0\", \"duration\": 3}, {\"task_id\": \"14_R1\", \"duration\": 3}]}\\n'],\n",
       " ['2020-12-05 11:34:56,233',\n",
       "  'MASTER RECEIVED JOB',\n",
       "  '{\"job_id\": \"15\", \"map_tasks\": [{\"task_id\": \"15_M0\", \"duration\": 4}, {\"task_id\": \"15_M1\", \"duration\": 4}], \"reduce_tasks\": [{\"task_id\": \"15_R0\", \"duration\": 4}, {\"task_id\": \"15_R1\", \"duration\": 1}]}\\n'],\n",
       " ['2020-12-05 11:34:57,129',\n",
       "  'MASTER RECEIVED JOB',\n",
       "  '{\"job_id\": \"16\", \"map_tasks\": [{\"task_id\": \"16_M0\", \"duration\": 2}, {\"task_id\": \"16_M1\", \"duration\": 3}, {\"task_id\": \"16_M2\", \"duration\": 4}], \"reduce_tasks\": [{\"task_id\": \"16_R0\", \"duration\": 3}, {\"task_id\": \"16_R1\", \"duration\": 3}]}\\n'],\n",
       " ['2020-12-05 11:34:57,163',\n",
       "  'MASTER RECEIVED JOB',\n",
       "  '{\"job_id\": \"17\", \"map_tasks\": [{\"task_id\": \"17_M0\", \"duration\": 4}, {\"task_id\": \"17_M1\", \"duration\": 3}, {\"task_id\": \"17_M2\", \"duration\": 1}], \"reduce_tasks\": [{\"task_id\": \"17_R0\", \"duration\": 4}]}\\n'],\n",
       " ['2020-12-05 11:34:57,995',\n",
       "  'MASTER RECEIVED JOB',\n",
       "  '{\"job_id\": \"18\", \"map_tasks\": [{\"task_id\": \"18_M0\", \"duration\": 3}, {\"task_id\": \"18_M1\", \"duration\": 4}], \"reduce_tasks\": [{\"task_id\": \"18_R0\", \"duration\": 3}]}\\n'],\n",
       " ['2020-12-05 11:34:58,296',\n",
       "  'MASTER RECEIVED JOB',\n",
       "  '{\"job_id\": \"19\", \"map_tasks\": [{\"task_id\": \"19_M0\", \"duration\": 4}, {\"task_id\": \"19_M1\", \"duration\": 1}, {\"task_id\": \"19_M2\", \"duration\": 1}], \"reduce_tasks\": [{\"task_id\": \"19_R0\", \"duration\": 1}, {\"task_id\": \"19_R1\", \"duration\": 3}]}\\n']]"
      ]
     },
     "execution_count": 139,
     "metadata": {},
     "output_type": "execute_result"
    }
   ],
   "source": [
    "job_received_log"
   ]
  },
  {
   "cell_type": "code",
   "execution_count": 140,
   "metadata": {},
   "outputs": [
    {
     "data": {
      "text/plain": [
       "[['2020-12-05 11:34:49,032',\n",
       "  'JOB FINISHED WITH ID:',\n",
       "  '1',\n",
       "  ' and reduce tasks 2\\n'],\n",
       " ['2020-12-05 11:34:49,613',\n",
       "  'JOB FINISHED WITH ID:',\n",
       "  '0',\n",
       "  ' and reduce tasks 1\\n'],\n",
       " ['2020-12-05 11:34:50,043',\n",
       "  'JOB FINISHED WITH ID:',\n",
       "  '3',\n",
       "  ' and reduce tasks 1\\n'],\n",
       " ['2020-12-05 11:34:53,663',\n",
       "  'JOB FINISHED WITH ID:',\n",
       "  '2',\n",
       "  ' and reduce tasks 2\\n'],\n",
       " ['2020-12-05 11:34:55,738',\n",
       "  'JOB FINISHED WITH ID:',\n",
       "  '4',\n",
       "  ' and reduce tasks 2\\n'],\n",
       " ['2020-12-05 11:34:56,197',\n",
       "  'JOB FINISHED WITH ID:',\n",
       "  '5',\n",
       "  ' and reduce tasks 2\\n'],\n",
       " ['2020-12-05 11:34:56,198',\n",
       "  'JOB FINISHED WITH ID:',\n",
       "  '8',\n",
       "  ' and reduce tasks 1\\n'],\n",
       " ['2020-12-05 11:34:58,174',\n",
       "  'JOB FINISHED WITH ID:',\n",
       "  '12',\n",
       "  ' and reduce tasks 1\\n'],\n",
       " ['2020-12-05 11:34:58,254',\n",
       "  'JOB FINISHED WITH ID:',\n",
       "  '7',\n",
       "  ' and reduce tasks 2\\n'],\n",
       " ['2020-12-05 11:34:58,260',\n",
       "  'JOB FINISHED WITH ID:',\n",
       "  '10',\n",
       "  ' and reduce tasks 2\\n'],\n",
       " ['2020-12-05 11:34:58,788',\n",
       "  'JOB FINISHED WITH ID:',\n",
       "  '9',\n",
       "  ' and reduce tasks 2\\n'],\n",
       " ['2020-12-05 11:35:00,206',\n",
       "  'JOB FINISHED WITH ID:',\n",
       "  '6',\n",
       "  ' and reduce tasks 2\\n'],\n",
       " ['2020-12-05 11:35:01,352',\n",
       "  'JOB FINISHED WITH ID:',\n",
       "  '13',\n",
       "  ' and reduce tasks 1\\n'],\n",
       " ['2020-12-05 11:35:02,241',\n",
       "  'JOB FINISHED WITH ID:',\n",
       "  '11',\n",
       "  ' and reduce tasks 2\\n'],\n",
       " ['2020-12-05 11:35:03,392',\n",
       "  'JOB FINISHED WITH ID:',\n",
       "  '14',\n",
       "  ' and reduce tasks 2\\n'],\n",
       " ['2020-12-05 11:35:03,910',\n",
       "  'JOB FINISHED WITH ID:',\n",
       "  '15',\n",
       "  ' and reduce tasks 2\\n'],\n",
       " ['2020-12-05 11:35:04,399',\n",
       "  'JOB FINISHED WITH ID:',\n",
       "  '19',\n",
       "  ' and reduce tasks 2\\n'],\n",
       " ['2020-12-05 11:35:04,930',\n",
       "  'JOB FINISHED WITH ID:',\n",
       "  '17',\n",
       "  ' and reduce tasks 1\\n'],\n",
       " ['2020-12-05 11:35:05,417',\n",
       "  'JOB FINISHED WITH ID:',\n",
       "  '16',\n",
       "  ' and reduce tasks 2\\n'],\n",
       " ['2020-12-05 11:35:05,961',\n",
       "  'JOB FINISHED WITH ID:',\n",
       "  '18',\n",
       "  ' and reduce tasks 1\\n']]"
      ]
     },
     "execution_count": 140,
     "metadata": {},
     "output_type": "execute_result"
    }
   ],
   "source": [
    "job_completed_log"
   ]
  },
  {
   "cell_type": "code",
   "execution_count": 141,
   "metadata": {},
   "outputs": [],
   "source": [
    "for i in job_received_log:\n",
    "    i[2] = json.loads(i[2])['job_id']"
   ]
  },
  {
   "cell_type": "code",
   "execution_count": 142,
   "metadata": {},
   "outputs": [],
   "source": [
    "def convert_to_datetime(datetime_string):\n",
    "    k = datetime.datetime.strptime(datetime_string, '%Y-%m-%d %H:%M:%S,%f')\n",
    "    return k"
   ]
  },
  {
   "cell_type": "code",
   "execution_count": 143,
   "metadata": {},
   "outputs": [],
   "source": [
    "job_times = {}\n",
    "for i in job_received_log:\n",
    "    for j in job_completed_log:\n",
    "        if i[2] == j[2]:\n",
    "            job_times[i[2]] = (convert_to_datetime(j[0]) - convert_to_datetime(i[0])).total_seconds()"
   ]
  },
  {
   "cell_type": "code",
   "execution_count": 144,
   "metadata": {},
   "outputs": [
    {
     "data": {
      "text/plain": [
       "{'0': 5.199,\n",
       " '1': 3.812,\n",
       " '2': 7.203,\n",
       " '3': 3.228,\n",
       " '4': 8.204,\n",
       " '5': 6.426,\n",
       " '6': 8.168,\n",
       " '7': 6.079,\n",
       " '8': 3.788,\n",
       " '9': 6.322,\n",
       " '10': 5.204,\n",
       " '11': 9.149,\n",
       " '12': 4.47,\n",
       " '13': 6.592,\n",
       " '14': 8.3,\n",
       " '15': 7.677,\n",
       " '16': 8.288,\n",
       " '17': 7.767,\n",
       " '18': 7.966,\n",
       " '19': 6.103}"
      ]
     },
     "execution_count": 144,
     "metadata": {},
     "output_type": "execute_result"
    }
   ],
   "source": [
    "job_times"
   ]
  },
  {
   "cell_type": "code",
   "execution_count": 112,
   "metadata": {},
   "outputs": [
    {
     "data": {
      "text/plain": [
       "3.8631470588235297"
      ]
     },
     "execution_count": 112,
     "metadata": {},
     "output_type": "execute_result"
    }
   ],
   "source": [
    "sum(list(job_times.values()))/34"
   ]
  },
  {
   "cell_type": "code",
   "execution_count": 113,
   "metadata": {},
   "outputs": [],
   "source": [
    "avg_times[policy] = sum(list(job_times.values()))/len(job_times)\n",
    "sorted_times = sorted(list(job_times.values()))\n",
    "mid = len(sorted_times) // 2\n",
    "median_times[policy] = (sorted_times[mid] + sorted_times[~mid])/2"
   ]
  },
  {
   "cell_type": "code",
   "execution_count": 114,
   "metadata": {},
   "outputs": [
    {
     "data": {
      "text/plain": [
       "{'RR': 6.497249999999999, 'LL': 6.4734, 'RD': 6.56735}"
      ]
     },
     "execution_count": 114,
     "metadata": {},
     "output_type": "execute_result"
    }
   ],
   "source": [
    "avg_times"
   ]
  },
  {
   "cell_type": "code",
   "execution_count": 115,
   "metadata": {},
   "outputs": [
    {
     "data": {
      "text/plain": [
       "{'RR': 6.509, 'LL': 6.891, 'RD': 6.525}"
      ]
     },
     "execution_count": 115,
     "metadata": {},
     "output_type": "execute_result"
    }
   ],
   "source": [
    "median_times"
   ]
  },
  {
   "cell_type": "code",
   "execution_count": 145,
   "metadata": {},
   "outputs": [],
   "source": [
    "keys1 = avg_times.keys()\n",
    "keys2 = median_times.keys()\n",
    "values1 = avg_times.values()\n",
    "values2 = median_times.values()"
   ]
  },
  {
   "cell_type": "code",
   "execution_count": 146,
   "metadata": {},
   "outputs": [
    {
     "data": {
      "text/plain": [
       "dict_keys(['RR', 'LL', 'RD'])"
      ]
     },
     "execution_count": 146,
     "metadata": {},
     "output_type": "execute_result"
    }
   ],
   "source": [
    "avg_times.keys()"
   ]
  },
  {
   "cell_type": "code",
   "execution_count": 147,
   "metadata": {},
   "outputs": [
    {
     "data": {
      "text/plain": [
       "dict_values([6.497249999999999, 6.4734, 6.56735])"
      ]
     },
     "execution_count": 147,
     "metadata": {},
     "output_type": "execute_result"
    }
   ],
   "source": [
    "avg_times.values()"
   ]
  },
  {
   "cell_type": "code",
   "execution_count": 148,
   "metadata": {},
   "outputs": [
    {
     "data": {
      "image/png": "[encoded data removed]",
      "text/plain": [
       "<Figure size 432x288 with 1 Axes>"
      ]
     },
     "metadata": {
      "needs_background": "light"
     },
     "output_type": "display_data"
    }
   ],
   "source": [
    "X = np.arange(len(avg_times))\n",
    "ax = plt.subplot(111)\n",
    "ax.bar(X, avg_times.values(), width=0.2, color='b', align='center')\n",
    "ax.bar(X-0.2, median_times.values(), width=0.2, color='g', align='center')\n",
    "ax.legend(('Mean time','Median time'))\n",
    "plt.xticks(X, avg_times.keys())\n",
    "plt.title(\"Scheduler stats\", fontsize=17)\n",
    "plt.show()"
   ]
  },
  {
   "cell_type": "code",
   "execution_count": null,
   "metadata": {},
   "outputs": [],
   "source": []
  }
 ],
 "metadata": {
  "kernelspec": {
   "display_name": "Python 3",
   "language": "python",
   "name": "python3"
  },
  "language_info": {
   "codemirror_mode": {
    "name": "ipython",
    "version": 3
   },
   "file_extension": ".py",
   "mimetype": "text/x-python",
   "name": "python",
   "nbconvert_exporter": "python",
   "pygments_lexer": "ipython3",
   "version": "3.8.6"
  }
 },
 "nbformat": 4,
 "nbformat_minor": 4
}
