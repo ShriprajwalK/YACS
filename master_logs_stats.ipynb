{
 "cells": [
  {
   "cell_type": "code",
   "execution_count": 23,
   "metadata": {},
   "outputs": [],
   "source": [
    "import matplotlib as plt\n",
    "import numpy\n",
    "import json\n",
    "import datetime"
   ]
  },
  {
   "cell_type": "code",
   "execution_count": 24,
   "metadata": {},
   "outputs": [],
   "source": [
    "with open('YACS/master/log_master_RR.log') as f:\n",
    "    logs = f.readlines()"
   ]
  },
  {
   "cell_type": "code",
   "execution_count": 25,
   "metadata": {},
   "outputs": [],
   "source": [
    "job_received_log = []\n",
    "job_completed_log = []\n",
    "for log in logs:\n",
    "    log = log.split('%')\n",
    "    log[0] = log[0].strip()\n",
    "    if log[1] == 'MASTER RECEIVED JOB':\n",
    "        job_received_log.append(log)\n",
    "    elif log[1] == 'JOB FINISHED WITH ID:':\n",
    "        job_completed_log.append(log)"
   ]
  },
  {
   "cell_type": "code",
   "execution_count": 26,
   "metadata": {},
   "outputs": [
    {
     "data": {
      "text/plain": [
       "[['2020-12-05 11:12:04,080',\n",
       "  'MASTER RECEIVED JOB',\n",
       "  '{\"job_id\": \"0\", \"map_tasks\": [{\"task_id\": \"0_M0\", \"duration\": 3}, {\"task_id\": \"0_M1\", \"duration\": 4}], \"reduce_tasks\": [{\"task_id\": \"0_R0\", \"duration\": 1}]}\\n'],\n",
       " ['2020-12-05 11:12:04,875',\n",
       "  'MASTER RECEIVED JOB',\n",
       "  '{\"job_id\": \"1\", \"map_tasks\": [{\"task_id\": \"1_M0\", \"duration\": 3}], \"reduce_tasks\": [{\"task_id\": \"1_R0\", \"duration\": 2}, {\"task_id\": \"1_R1\", \"duration\": 2}]}\\n'],\n",
       " ['2020-12-05 11:12:06,116',\n",
       "  'MASTER RECEIVED JOB',\n",
       "  '{\"job_id\": \"2\", \"map_tasks\": [{\"task_id\": \"2_M0\", \"duration\": 4}, {\"task_id\": \"2_M1\", \"duration\": 2}, {\"task_id\": \"2_M2\", \"duration\": 2}, {\"task_id\": \"2_M3\", \"duration\": 2}], \"reduce_tasks\": [{\"task_id\": \"2_R0\", \"duration\": 4}, {\"task_id\": \"2_R1\", \"duration\": 1}]}\\n'],\n",
       " ['2020-12-05 11:12:06,471',\n",
       "  'MASTER RECEIVED JOB',\n",
       "  '{\"job_id\": \"3\", \"map_tasks\": [{\"task_id\": \"3_M0\", \"duration\": 1}], \"reduce_tasks\": [{\"task_id\": \"3_R0\", \"duration\": 3}]}\\n'],\n",
       " ['2020-12-05 11:12:07,193',\n",
       "  'MASTER RECEIVED JOB',\n",
       "  '{\"job_id\": \"4\", \"map_tasks\": [{\"task_id\": \"4_M0\", \"duration\": 4}], \"reduce_tasks\": [{\"task_id\": \"4_R0\", \"duration\": 4}, {\"task_id\": \"4_R1\", \"duration\": 4}]}\\n'],\n",
       " ['2020-12-05 11:12:09,440',\n",
       "  'MASTER RECEIVED JOB',\n",
       "  '{\"job_id\": \"5\", \"map_tasks\": [{\"task_id\": \"5_M0\", \"duration\": 2}, {\"task_id\": \"5_M1\", \"duration\": 3}, {\"task_id\": \"5_M2\", \"duration\": 1}, {\"task_id\": \"5_M3\", \"duration\": 1}], \"reduce_tasks\": [{\"task_id\": \"5_R0\", \"duration\": 2}, {\"task_id\": \"5_R1\", \"duration\": 4}]}\\n'],\n",
       " ['2020-12-05 11:12:11,714',\n",
       "  'MASTER RECEIVED JOB',\n",
       "  '{\"job_id\": \"6\", \"map_tasks\": [{\"task_id\": \"6_M0\", \"duration\": 4}, {\"task_id\": \"6_M1\", \"duration\": 3}], \"reduce_tasks\": [{\"task_id\": \"6_R0\", \"duration\": 4}, {\"task_id\": \"6_R1\", \"duration\": 4}]}\\n'],\n",
       " ['2020-12-05 11:12:11,850',\n",
       "  'MASTER RECEIVED JOB',\n",
       "  '{\"job_id\": \"7\", \"map_tasks\": [{\"task_id\": \"7_M0\", \"duration\": 2}, {\"task_id\": \"7_M1\", \"duration\": 3}, {\"task_id\": \"7_M2\", \"duration\": 1}], \"reduce_tasks\": [{\"task_id\": \"7_R0\", \"duration\": 3}, {\"task_id\": \"7_R1\", \"duration\": 2}]}\\n'],\n",
       " ['2020-12-05 11:12:12,093',\n",
       "  'MASTER RECEIVED JOB',\n",
       "  '{\"job_id\": \"8\", \"map_tasks\": [{\"task_id\": \"8_M0\", \"duration\": 2}, {\"task_id\": \"8_M1\", \"duration\": 3}, {\"task_id\": \"8_M2\", \"duration\": 3}], \"reduce_tasks\": [{\"task_id\": \"8_R0\", \"duration\": 1}]}\\n'],\n",
       " ['2020-12-05 11:12:12,149',\n",
       "  'MASTER RECEIVED JOB',\n",
       "  '{\"job_id\": \"9\", \"map_tasks\": [{\"task_id\": \"9_M0\", \"duration\": 4}], \"reduce_tasks\": [{\"task_id\": \"9_R0\", \"duration\": 1}, {\"task_id\": \"9_R1\", \"duration\": 3}]}\\n'],\n",
       " ['2020-12-05 11:12:12,732',\n",
       "  'MASTER RECEIVED JOB',\n",
       "  '{\"job_id\": \"10\", \"map_tasks\": [{\"task_id\": \"10_M0\", \"duration\": 2}], \"reduce_tasks\": [{\"task_id\": \"10_R0\", \"duration\": 1}, {\"task_id\": \"10_R1\", \"duration\": 3}]}\\n'],\n",
       " ['2020-12-05 11:12:12,766',\n",
       "  'MASTER RECEIVED JOB',\n",
       "  '{\"job_id\": \"11\", \"map_tasks\": [{\"task_id\": \"11_M0\", \"duration\": 1}, {\"task_id\": \"11_M1\", \"duration\": 1}, {\"task_id\": \"11_M2\", \"duration\": 1}, {\"task_id\": \"11_M3\", \"duration\": 4}], \"reduce_tasks\": [{\"task_id\": \"11_R0\", \"duration\": 3}, {\"task_id\": \"11_R1\", \"duration\": 3}]}\\n'],\n",
       " ['2020-12-05 11:12:13,379',\n",
       "  'MASTER RECEIVED JOB',\n",
       "  '{\"job_id\": \"12\", \"map_tasks\": [{\"task_id\": \"12_M0\", \"duration\": 3}, {\"task_id\": \"12_M1\", \"duration\": 1}], \"reduce_tasks\": [{\"task_id\": \"12_R0\", \"duration\": 1}]}\\n'],\n",
       " ['2020-12-05 11:12:14,439',\n",
       "  'MASTER RECEIVED JOB',\n",
       "  '{\"job_id\": \"13\", \"map_tasks\": [{\"task_id\": \"13_M0\", \"duration\": 2}], \"reduce_tasks\": [{\"task_id\": \"13_R0\", \"duration\": 4}]}\\n'],\n",
       " ['2020-12-05 11:12:14,771',\n",
       "  'MASTER RECEIVED JOB',\n",
       "  '{\"job_id\": \"14\", \"map_tasks\": [{\"task_id\": \"14_M0\", \"duration\": 2}, {\"task_id\": \"14_M1\", \"duration\": 1}, {\"task_id\": \"14_M2\", \"duration\": 3}], \"reduce_tasks\": [{\"task_id\": \"14_R0\", \"duration\": 3}, {\"task_id\": \"14_R1\", \"duration\": 3}]}\\n'],\n",
       " ['2020-12-05 11:12:15,911',\n",
       "  'MASTER RECEIVED JOB',\n",
       "  '{\"job_id\": \"15\", \"map_tasks\": [{\"task_id\": \"15_M0\", \"duration\": 4}, {\"task_id\": \"15_M1\", \"duration\": 4}], \"reduce_tasks\": [{\"task_id\": \"15_R0\", \"duration\": 4}, {\"task_id\": \"15_R1\", \"duration\": 1}]}\\n'],\n",
       " ['2020-12-05 11:12:16,816',\n",
       "  'MASTER RECEIVED JOB',\n",
       "  '{\"job_id\": \"16\", \"map_tasks\": [{\"task_id\": \"16_M0\", \"duration\": 2}, {\"task_id\": \"16_M1\", \"duration\": 3}, {\"task_id\": \"16_M2\", \"duration\": 4}], \"reduce_tasks\": [{\"task_id\": \"16_R0\", \"duration\": 3}, {\"task_id\": \"16_R1\", \"duration\": 3}]}\\n'],\n",
       " ['2020-12-05 11:12:16,841',\n",
       "  'MASTER RECEIVED JOB',\n",
       "  '{\"job_id\": \"17\", \"map_tasks\": [{\"task_id\": \"17_M0\", \"duration\": 4}, {\"task_id\": \"17_M1\", \"duration\": 3}, {\"task_id\": \"17_M2\", \"duration\": 1}], \"reduce_tasks\": [{\"task_id\": \"17_R0\", \"duration\": 4}]}\\n'],\n",
       " ['2020-12-05 11:12:17,661',\n",
       "  'MASTER RECEIVED JOB',\n",
       "  '{\"job_id\": \"18\", \"map_tasks\": [{\"task_id\": \"18_M0\", \"duration\": 3}, {\"task_id\": \"18_M1\", \"duration\": 4}], \"reduce_tasks\": [{\"task_id\": \"18_R0\", \"duration\": 3}]}\\n'],\n",
       " ['2020-12-05 11:12:17,967',\n",
       "  'MASTER RECEIVED JOB',\n",
       "  '{\"job_id\": \"19\", \"map_tasks\": [{\"task_id\": \"19_M0\", \"duration\": 4}, {\"task_id\": \"19_M1\", \"duration\": 1}, {\"task_id\": \"19_M2\", \"duration\": 1}], \"reduce_tasks\": [{\"task_id\": \"19_R0\", \"duration\": 1}, {\"task_id\": \"19_R1\", \"duration\": 3}]}\\n'],\n",
       " ['2020-12-05 11:12:18,507',\n",
       "  'MASTER RECEIVED JOB',\n",
       "  '{\"job_id\": \"20\", \"map_tasks\": [{\"task_id\": \"20_M0\", \"duration\": 3}, {\"task_id\": \"20_M1\", \"duration\": 3}, {\"task_id\": \"20_M2\", \"duration\": 2}], \"reduce_tasks\": [{\"task_id\": \"20_R0\", \"duration\": 3}, {\"task_id\": \"20_R1\", \"duration\": 2}]}\\n'],\n",
       " ['2020-12-05 11:12:18,848',\n",
       "  'MASTER RECEIVED JOB',\n",
       "  '{\"job_id\": \"21\", \"map_tasks\": [{\"task_id\": \"21_M0\", \"duration\": 3}, {\"task_id\": \"21_M1\", \"duration\": 3}, {\"task_id\": \"21_M2\", \"duration\": 4}], \"reduce_tasks\": [{\"task_id\": \"21_R0\", \"duration\": 1}, {\"task_id\": \"21_R1\", \"duration\": 1}]}\\n'],\n",
       " ['2020-12-05 11:12:20,034',\n",
       "  'MASTER RECEIVED JOB',\n",
       "  '{\"job_id\": \"22\", \"map_tasks\": [{\"task_id\": \"22_M0\", \"duration\": 2}, {\"task_id\": \"22_M1\", \"duration\": 3}], \"reduce_tasks\": [{\"task_id\": \"22_R0\", \"duration\": 2}, {\"task_id\": \"22_R1\", \"duration\": 3}]}\\n'],\n",
       " ['2020-12-05 11:12:20,618',\n",
       "  'MASTER RECEIVED JOB',\n",
       "  '{\"job_id\": \"23\", \"map_tasks\": [{\"task_id\": \"23_M0\", \"duration\": 1}, {\"task_id\": \"23_M1\", \"duration\": 1}], \"reduce_tasks\": [{\"task_id\": \"23_R0\", \"duration\": 3}, {\"task_id\": \"23_R1\", \"duration\": 3}]}\\n'],\n",
       " ['2020-12-05 11:12:20,801',\n",
       "  'MASTER RECEIVED JOB',\n",
       "  '{\"job_id\": \"24\", \"map_tasks\": [{\"task_id\": \"24_M0\", \"duration\": 2}, {\"task_id\": \"24_M1\", \"duration\": 1}], \"reduce_tasks\": [{\"task_id\": \"24_R0\", \"duration\": 3}, {\"task_id\": \"24_R1\", \"duration\": 2}]}\\n'],\n",
       " ['2020-12-05 11:12:21,596',\n",
       "  'MASTER RECEIVED JOB',\n",
       "  '{\"job_id\": \"25\", \"map_tasks\": [{\"task_id\": \"25_M0\", \"duration\": 2}, {\"task_id\": \"25_M1\", \"duration\": 1}, {\"task_id\": \"25_M2\", \"duration\": 1}, {\"task_id\": \"25_M3\", \"duration\": 2}], \"reduce_tasks\": [{\"task_id\": \"25_R0\", \"duration\": 3}, {\"task_id\": \"25_R1\", \"duration\": 2}]}\\n'],\n",
       " ['2020-12-05 11:12:23,120',\n",
       "  'MASTER RECEIVED JOB',\n",
       "  '{\"job_id\": \"26\", \"map_tasks\": [{\"task_id\": \"26_M0\", \"duration\": 1}, {\"task_id\": \"26_M1\", \"duration\": 3}, {\"task_id\": \"26_M2\", \"duration\": 2}], \"reduce_tasks\": [{\"task_id\": \"26_R0\", \"duration\": 4}, {\"task_id\": \"26_R1\", \"duration\": 3}]}\\n'],\n",
       " ['2020-12-05 11:12:23,492',\n",
       "  'MASTER RECEIVED JOB',\n",
       "  '{\"job_id\": \"27\", \"map_tasks\": [{\"task_id\": \"27_M0\", \"duration\": 3}, {\"task_id\": \"27_M1\", \"duration\": 4}, {\"task_id\": \"27_M2\", \"duration\": 3}], \"reduce_tasks\": [{\"task_id\": \"27_R0\", \"duration\": 4}, {\"task_id\": \"27_R1\", \"duration\": 4}]}\\n'],\n",
       " ['2020-12-05 11:12:23,747',\n",
       "  'MASTER RECEIVED JOB',\n",
       "  '{\"job_id\": \"28\", \"map_tasks\": [{\"task_id\": \"28_M0\", \"duration\": 2}], \"reduce_tasks\": [{\"task_id\": \"28_R0\", \"duration\": 2}, {\"task_id\": \"28_R1\", \"duration\": 1}]}\\n'],\n",
       " ['2020-12-05 11:12:24,241',\n",
       "  'MASTER RECEIVED JOB',\n",
       "  '{\"job_id\": \"29\", \"map_tasks\": [{\"task_id\": \"29_M0\", \"duration\": 2}, {\"task_id\": \"29_M1\", \"duration\": 1}, {\"task_id\": \"29_M2\", \"duration\": 4}, {\"task_id\": \"29_M3\", \"duration\": 3}], \"reduce_tasks\": [{\"task_id\": \"29_R0\", \"duration\": 3}, {\"task_id\": \"29_R1\", \"duration\": 2}]}\\n'],\n",
       " ['2020-12-05 11:12:26,999',\n",
       "  'MASTER RECEIVED JOB',\n",
       "  '{\"job_id\": \"30\", \"map_tasks\": [{\"task_id\": \"30_M0\", \"duration\": 1}], \"reduce_tasks\": [{\"task_id\": \"30_R0\", \"duration\": 2}, {\"task_id\": \"30_R1\", \"duration\": 1}]}\\n'],\n",
       " ['2020-12-05 11:12:30,730',\n",
       "  'MASTER RECEIVED JOB',\n",
       "  '{\"job_id\": \"31\", \"map_tasks\": [{\"task_id\": \"31_M0\", \"duration\": 4}], \"reduce_tasks\": [{\"task_id\": \"31_R0\", \"duration\": 1}]}\\n'],\n",
       " ['2020-12-05 11:12:31,848',\n",
       "  'MASTER RECEIVED JOB',\n",
       "  '{\"job_id\": \"32\", \"map_tasks\": [{\"task_id\": \"32_M0\", \"duration\": 1}], \"reduce_tasks\": [{\"task_id\": \"32_R0\", \"duration\": 2}, {\"task_id\": \"32_R1\", \"duration\": 3}]}\\n'],\n",
       " ['2020-12-05 11:12:34,181',\n",
       "  'MASTER RECEIVED JOB',\n",
       "  '{\"job_id\": \"33\", \"map_tasks\": [{\"task_id\": \"33_M0\", \"duration\": 4}, {\"task_id\": \"33_M1\", \"duration\": 1}], \"reduce_tasks\": [{\"task_id\": \"33_R0\", \"duration\": 1}]}\\n'],\n",
       " ['2020-12-05 11:12:36,061',\n",
       "  'MASTER RECEIVED JOB',\n",
       "  '{\"job_id\": \"34\", \"map_tasks\": [{\"task_id\": \"34_M0\", \"duration\": 3}, {\"task_id\": \"34_M1\", \"duration\": 4}, {\"task_id\": \"34_M2\", \"duration\": 1}], \"reduce_tasks\": [{\"task_id\": \"34_R0\", \"duration\": 3}]}\\n'],\n",
       " ['2020-12-05 11:12:36,547',\n",
       "  'MASTER RECEIVED JOB',\n",
       "  '{\"job_id\": \"35\", \"map_tasks\": [{\"task_id\": \"35_M0\", \"duration\": 1}, {\"task_id\": \"35_M1\", \"duration\": 1}], \"reduce_tasks\": [{\"task_id\": \"35_R0\", \"duration\": 2}]}\\n'],\n",
       " ['2020-12-05 11:12:36,653',\n",
       "  'MASTER RECEIVED JOB',\n",
       "  '{\"job_id\": \"36\", \"map_tasks\": [{\"task_id\": \"36_M0\", \"duration\": 2}, {\"task_id\": \"36_M1\", \"duration\": 1}], \"reduce_tasks\": [{\"task_id\": \"36_R0\", \"duration\": 4}, {\"task_id\": \"36_R1\", \"duration\": 4}]}\\n'],\n",
       " ['2020-12-05 11:12:37,721',\n",
       "  'MASTER RECEIVED JOB',\n",
       "  '{\"job_id\": \"37\", \"map_tasks\": [{\"task_id\": \"37_M0\", \"duration\": 2}], \"reduce_tasks\": [{\"task_id\": \"37_R0\", \"duration\": 3}, {\"task_id\": \"37_R1\", \"duration\": 4}]}\\n'],\n",
       " ['2020-12-05 11:12:38,540',\n",
       "  'MASTER RECEIVED JOB',\n",
       "  '{\"job_id\": \"38\", \"map_tasks\": [{\"task_id\": \"38_M0\", \"duration\": 3}], \"reduce_tasks\": [{\"task_id\": \"38_R0\", \"duration\": 1}, {\"task_id\": \"38_R1\", \"duration\": 1}]}\\n'],\n",
       " ['2020-12-05 11:12:38,991',\n",
       "  'MASTER RECEIVED JOB',\n",
       "  '{\"job_id\": \"39\", \"map_tasks\": [{\"task_id\": \"39_M0\", \"duration\": 1}, {\"task_id\": \"39_M1\", \"duration\": 1}], \"reduce_tasks\": [{\"task_id\": \"39_R0\", \"duration\": 1}]}\\n']]"
      ]
     },
     "execution_count": 26,
     "metadata": {},
     "output_type": "execute_result"
    }
   ],
   "source": [
    "job_received_log"
   ]
  },
  {
   "cell_type": "code",
   "execution_count": 27,
   "metadata": {},
   "outputs": [
    {
     "data": {
      "text/plain": [
       "[['2020-12-05 11:12:10,651',\n",
       "  'JOB FINISHED WITH ID:',\n",
       "  '0',\n",
       "  ' and reduce tasks 1\\n'],\n",
       " ['2020-12-05 11:12:11,391',\n",
       "  'JOB FINISHED WITH ID:',\n",
       "  '1',\n",
       "  ' and reduce tasks 2\\n'],\n",
       " ['2020-12-05 11:12:11,661',\n",
       "  'JOB FINISHED WITH ID:',\n",
       "  '3',\n",
       "  ' and reduce tasks 1\\n'],\n",
       " ['2020-12-05 11:12:15,775',\n",
       "  'JOB FINISHED WITH ID:',\n",
       "  '2',\n",
       "  ' and reduce tasks 2\\n'],\n",
       " ['2020-12-05 11:12:17,516',\n",
       "  'JOB FINISHED WITH ID:',\n",
       "  '4',\n",
       "  ' and reduce tasks 2\\n'],\n",
       " ['2020-12-05 11:12:17,523',\n",
       "  'JOB FINISHED WITH ID:',\n",
       "  '5',\n",
       "  ' and reduce tasks 2\\n'],\n",
       " ['2020-12-05 11:12:18,554',\n",
       "  'JOB FINISHED WITH ID:',\n",
       "  '8',\n",
       "  ' and reduce tasks 1\\n'],\n",
       " ['2020-12-05 11:12:19,858',\n",
       "  'JOB FINISHED WITH ID:',\n",
       "  '7',\n",
       "  ' and reduce tasks 2\\n'],\n",
       " ['2020-12-05 11:12:20,542',\n",
       "  'JOB FINISHED WITH ID:',\n",
       "  '10',\n",
       "  ' and reduce tasks 2\\n'],\n",
       " ['2020-12-05 11:12:22,643',\n",
       "  'JOB FINISHED WITH ID:',\n",
       "  '6',\n",
       "  ' and reduce tasks 2\\n'],\n",
       " ['2020-12-05 11:12:22,650',\n",
       "  'JOB FINISHED WITH ID:',\n",
       "  '9',\n",
       "  ' and reduce tasks 2\\n'],\n",
       " ['2020-12-05 11:12:25,654',\n",
       "  'JOB FINISHED WITH ID:',\n",
       "  '12',\n",
       "  ' and reduce tasks 1\\n'],\n",
       " ['2020-12-05 11:12:26,948',\n",
       "  'JOB FINISHED WITH ID:',\n",
       "  '13',\n",
       "  ' and reduce tasks 1\\n'],\n",
       " ['2020-12-05 11:12:28,735',\n",
       "  'JOB FINISHED WITH ID:',\n",
       "  '14',\n",
       "  ' and reduce tasks 2\\n'],\n",
       " ['2020-12-05 11:12:28,742',\n",
       "  'JOB FINISHED WITH ID:',\n",
       "  '11',\n",
       "  ' and reduce tasks 2\\n'],\n",
       " ['2020-12-05 11:12:32,829',\n",
       "  'JOB FINISHED WITH ID:',\n",
       "  '15',\n",
       "  ' and reduce tasks 2\\n'],\n",
       " ['2020-12-05 11:12:32,831',\n",
       "  'JOB FINISHED WITH ID:',\n",
       "  '16',\n",
       "  ' and reduce tasks 2\\n'],\n",
       " ['2020-12-05 11:12:34,123',\n",
       "  'JOB FINISHED WITH ID:',\n",
       "  '17',\n",
       "  ' and reduce tasks 1\\n'],\n",
       " ['2020-12-05 11:12:34,124',\n",
       "  'JOB FINISHED WITH ID:',\n",
       "  '19',\n",
       "  ' and reduce tasks 2\\n'],\n",
       " ['2020-12-05 11:12:34,875',\n",
       "  'JOB FINISHED WITH ID:',\n",
       "  '21',\n",
       "  ' and reduce tasks 2\\n'],\n",
       " ['2020-12-05 11:12:35,808',\n",
       "  'JOB FINISHED WITH ID:',\n",
       "  '20',\n",
       "  ' and reduce tasks 2\\n'],\n",
       " ['2020-12-05 11:12:35,893',\n",
       "  'JOB FINISHED WITH ID:',\n",
       "  '18',\n",
       "  ' and reduce tasks 1\\n'],\n",
       " ['2020-12-05 11:12:36,162',\n",
       "  'JOB FINISHED WITH ID:',\n",
       "  '24',\n",
       "  ' and reduce tasks 2\\n'],\n",
       " ['2020-12-05 11:12:36,904',\n",
       "  'JOB FINISHED WITH ID:',\n",
       "  '23',\n",
       "  ' and reduce tasks 2\\n'],\n",
       " ['2020-12-05 11:12:37,846',\n",
       "  'JOB FINISHED WITH ID:',\n",
       "  '22',\n",
       "  ' and reduce tasks 2\\n'],\n",
       " ['2020-12-05 11:12:37,853',\n",
       "  'JOB FINISHED WITH ID:',\n",
       "  '28',\n",
       "  ' and reduce tasks 2\\n'],\n",
       " ['2020-12-05 11:12:38,205',\n",
       "  'JOB FINISHED WITH ID:',\n",
       "  '25',\n",
       "  ' and reduce tasks 2\\n'],\n",
       " ['2020-12-05 11:12:39,219',\n",
       "  'JOB FINISHED WITH ID:',\n",
       "  '30',\n",
       "  ' and reduce tasks 2\\n'],\n",
       " ['2020-12-05 11:12:40,010',\n",
       "  'JOB FINISHED WITH ID:',\n",
       "  '26',\n",
       "  ' and reduce tasks 2\\n'],\n",
       " ['2020-12-05 11:12:41,017',\n",
       "  'JOB FINISHED WITH ID:',\n",
       "  '27',\n",
       "  ' and reduce tasks 2\\n'],\n",
       " ['2020-12-05 11:12:41,018',\n",
       "  'JOB FINISHED WITH ID:',\n",
       "  '29',\n",
       "  ' and reduce tasks 2\\n'],\n",
       " ['2020-12-05 11:12:42,057',\n",
       "  'JOB FINISHED WITH ID:',\n",
       "  '32',\n",
       "  ' and reduce tasks 2\\n'],\n",
       " ['2020-12-05 11:12:42,057',\n",
       "  'JOB FINISHED WITH ID:',\n",
       "  '31',\n",
       "  ' and reduce tasks 1\\n'],\n",
       " ['2020-12-05 11:12:43,325',\n",
       "  'JOB FINISHED WITH ID:',\n",
       "  '33',\n",
       "  ' and reduce tasks 1\\n']]"
      ]
     },
     "execution_count": 27,
     "metadata": {},
     "output_type": "execute_result"
    }
   ],
   "source": [
    "job_completed_log"
   ]
  },
  {
   "cell_type": "code",
   "execution_count": 28,
   "metadata": {},
   "outputs": [],
   "source": [
    "for i in job_received_log:\n",
    "    i[2] = json.loads(i[2])['job_id']"
   ]
  },
  {
   "cell_type": "code",
   "execution_count": 29,
   "metadata": {},
   "outputs": [],
   "source": [
    "def convert_to_datetime(datetime_string):\n",
    "    k = datetime.datetime.strptime(datetime_string, '%Y-%m-%d %H:%M:%S,%f')\n",
    "    return k"
   ]
  },
  {
   "cell_type": "code",
   "execution_count": 30,
   "metadata": {},
   "outputs": [],
   "source": [
    "job_times = {}\n",
    "for i in job_received_log:\n",
    "    for j in job_completed_log:\n",
    "        if i[2] == j[2]:\n",
    "            job_times[i[2]] = (convert_to_datetime(j[0]) - convert_to_datetime(i[0])).total_seconds()"
   ]
  },
  {
   "cell_type": "code",
   "execution_count": 31,
   "metadata": {},
   "outputs": [
    {
     "data": {
      "text/plain": [
       "{'0': 6.571,\n",
       " '1': 6.516,\n",
       " '2': 9.659,\n",
       " '3': 5.19,\n",
       " '4': 10.323,\n",
       " '5': 8.083,\n",
       " '6': 10.929,\n",
       " '7': 8.008,\n",
       " '8': 6.461,\n",
       " '9': 10.501,\n",
       " '10': 7.81,\n",
       " '11': 15.976,\n",
       " '12': 12.275,\n",
       " '13': 12.509,\n",
       " '14': 13.964,\n",
       " '15': 16.918,\n",
       " '16': 16.015,\n",
       " '17': 17.282,\n",
       " '18': 18.232,\n",
       " '19': 16.157,\n",
       " '20': 17.301,\n",
       " '21': 16.027,\n",
       " '22': 17.812,\n",
       " '23': 16.286,\n",
       " '24': 15.361,\n",
       " '25': 16.609,\n",
       " '26': 16.89,\n",
       " '27': 17.525,\n",
       " '28': 14.106,\n",
       " '29': 16.777,\n",
       " '30': 12.22,\n",
       " '31': 11.327,\n",
       " '32': 10.209,\n",
       " '33': 9.144}"
      ]
     },
     "execution_count": 31,
     "metadata": {},
     "output_type": "execute_result"
    }
   ],
   "source": [
    "job_times"
   ]
  },
  {
   "cell_type": "code",
   "execution_count": 38,
   "metadata": {},
   "outputs": [
    {
     "data": {
      "text/plain": [
       "12.85214705882353"
      ]
     },
     "execution_count": 38,
     "metadata": {},
     "output_type": "execute_result"
    }
   ],
   "source": [
    "sum(list(job_times.values()))/34"
   ]
  },
  {
   "cell_type": "code",
   "execution_count": 34,
   "metadata": {},
   "outputs": [],
   "source": [
    "avg_times = {}\n",
    "median_times = {}"
   ]
  },
  {
   "cell_type": "code",
   "execution_count": 35,
   "metadata": {},
   "outputs": [],
   "source": [
    "policy = 'RR'\n",
    "avg_times[policy] = sum(list(job_times.values()))/len(job_times)\n",
    "sorted_times = sorted(list(job_times.values()))\n",
    "mid = len(sorted_times) // 2\n",
    "median_times[policy] = (sorted_times[mid] + sorted_times[~mid])/2"
   ]
  },
  {
   "cell_type": "code",
   "execution_count": 36,
   "metadata": {},
   "outputs": [
    {
     "data": {
      "text/plain": [
       "{'RR': 12.85214705882353}"
      ]
     },
     "execution_count": 36,
     "metadata": {},
     "output_type": "execute_result"
    }
   ],
   "source": [
    "avg_times"
   ]
  },
  {
   "cell_type": "code",
   "execution_count": 37,
   "metadata": {},
   "outputs": [
    {
     "data": {
      "text/plain": [
       "{'RR': 13.2365}"
      ]
     },
     "execution_count": 37,
     "metadata": {},
     "output_type": "execute_result"
    }
   ],
   "source": [
    "median_times"
   ]
  },
  {
   "cell_type": "code",
   "execution_count": null,
   "metadata": {},
   "outputs": [],
   "source": []
  }
 ],
 "metadata": {
  "kernelspec": {
   "display_name": "Python 3",
   "language": "python",
   "name": "python3"
  },
  "language_info": {
   "codemirror_mode": {
    "name": "ipython",
    "version": 3
   },
   "file_extension": ".py",
   "mimetype": "text/x-python",
   "name": "python",
   "nbconvert_exporter": "python",
   "pygments_lexer": "ipython3",
   "version": "3.8.6"
  }
 },
 "nbformat": 4,
 "nbformat_minor": 4
}
