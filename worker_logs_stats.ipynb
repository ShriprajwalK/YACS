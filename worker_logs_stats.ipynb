{
 "cells": [
  {
   "cell_type": "code",
   "execution_count": 1,
   "metadata": {},
   "outputs": [],
   "source": [
    "import matplotlib\n",
    "import matplotlib.pyplot as plt\n",
    "import numpy as np\n",
    "import json\n",
    "import datetime\n",
    "import matplotlib.dates as mdates\n"
   ]
  },
  {
   "cell_type": "code",
   "execution_count": 31,
   "metadata": {},
   "outputs": [],
   "source": [
    "policy = 'LL'\n",
    "logs1 = []\n",
    "logs2 = []\n",
    "logs3 = []\n",
    "with open(f'YACS/worker/log_worker_1_{policy}.log') as f1, open(f'YACS/worker/log_worker_2_{policy}.log') as f2, open(f'YACS/worker/log_worker_3_{policy}.log') as f3:\n",
    "    logs1 = f1.readlines()\n",
    "    logs2 = f2.readlines()\n",
    "    logs3 = f3.readlines()\n"
   ]
  },
  {
   "cell_type": "code",
   "execution_count": 40,
   "metadata": {},
   "outputs": [
    {
     "data": {
      "text/plain": [
       "['2020-12-06 22:39:40,138 %number of tasks running=% 0 %tasks completed=%0\\n',\n",
       " '2020-12-06 22:39:41,151 %number of tasks running=% 0 %tasks completed=%0\\n',\n",
       " '2020-12-06 22:39:41,807 %TASK RECEIVED%{\"task_id\": \"0_M0\", \"duration\": 3, \"status\": 1}\\n',\n",
       " '2020-12-06 22:39:41,924 %TASK RECEIVED%{\"task_id\": \"0_M1\", \"duration\": 4, \"status\": 1}\\n',\n",
       " '2020-12-06 22:39:42,162 %number of tasks running=% 0 %tasks completed=%0\\n',\n",
       " '2020-12-06 22:39:43,177 %number of tasks running=% 2 %tasks completed=%0\\n',\n",
       " '2020-12-06 22:39:43,788 %TASK RECEIVED%{\"task_id\": \"2_M0\", \"duration\": 4, \"status\": 1}\\n',\n",
       " '2020-12-06 22:39:43,991 %TASK RECEIVED%{\"task_id\": \"2_M2\", \"duration\": 2, \"status\": 1}\\n',\n",
       " '2020-12-06 22:39:44,187 %number of tasks running=% 2 %tasks completed=%0\\n',\n",
       " '2020-12-06 22:39:44,212 %TASK RECEIVED%{\"task_id\": \"3_M0\", \"duration\": 1, \"status\": 1}\\n',\n",
       " \"2020-12-06 22:39:45,196 %TASK COMPLETED%{'task_id': '0_M0', 'duration': 0, 'status': 2}\\n\",\n",
       " '2020-12-06 22:39:45,196 %number of tasks running=% 3 %tasks completed=%1\\n',\n",
       " '2020-12-06 22:39:45,197 %MESSAGE TO MASTER b\\'{\"task_id\": \"0_M0\", \"duration\": 0, \"status\": 2, \"worker_id\": 2}\\'\\n',\n",
       " '2020-12-06 22:39:45,732 %TASK RECEIVED%{\"task_id\": \"1_R1\", \"duration\": 2, \"status\": 0}\\n',\n",
       " \"2020-12-06 22:39:46,207 %TASK COMPLETED%{'task_id': '0_M1', 'duration': 0, 'status': 2}\\n\",\n",
       " \"2020-12-06 22:39:46,207 %TASK COMPLETED%{'task_id': '2_M2', 'duration': 0, 'status': 2}\\n\",\n",
       " '2020-12-06 22:39:46,208 %MESSAGE TO MASTER b\\'{\"task_id\": \"0_M1\", \"duration\": 0, \"status\": 2, \"worker_id\": 2}\\'\\n',\n",
       " \"2020-12-06 22:39:46,231 %TASK COMPLETED%{'task_id': '3_M0', 'duration': 0, 'status': 2}\\n\",\n",
       " '2020-12-06 22:39:46,231 %MESSAGE TO MASTER b\\'{\"task_id\": \"2_M2\", \"duration\": 0, \"status\": 2, \"worker_id\": 2}\\'\\n',\n",
       " '2020-12-06 22:39:46,232 %TASK RECEIVED%{\"task_id\": \"0_R0\", \"duration\": 1, \"status\": 0}\\n',\n",
       " '2020-12-06 22:39:46,244 %number of tasks running=% 1 %tasks completed=%4\\n',\n",
       " '2020-12-06 22:39:46,245 %MESSAGE TO MASTER b\\'{\"task_id\": \"3_M0\", \"duration\": 0, \"status\": 2, \"worker_id\": 2}\\'\\n',\n",
       " '2020-12-06 22:39:46,355 %TASK RECEIVED%{\"task_id\": \"3_R0\", \"duration\": 3, \"status\": 0}\\n',\n",
       " \"2020-12-06 22:39:47,253 %TASK COMPLETED%{'task_id': '0_R0', 'duration': 0, 'status': 2}\\n\",\n",
       " '2020-12-06 22:39:47,253 %number of tasks running=% 2 %tasks completed=%5\\n',\n",
       " '2020-12-06 22:39:47,253 %MESSAGE TO MASTER b\\'{\"task_id\": \"0_R0\", \"duration\": 0, \"status\": 2, \"worker_id\": 2}\\'\\n',\n",
       " '2020-12-06 22:39:47,287 %TASK RECEIVED%{\"task_id\": \"5_M1\", \"duration\": 3, \"status\": 1}\\n',\n",
       " '2020-12-06 22:39:47,494 %TASK RECEIVED%{\"task_id\": \"5_M3\", \"duration\": 1, \"status\": 1}\\n',\n",
       " \"2020-12-06 22:39:48,262 %TASK COMPLETED%{'task_id': '2_M0', 'duration': 0, 'status': 2}\\n\",\n",
       " \"2020-12-06 22:39:48,268 %TASK COMPLETED%{'task_id': '1_R1', 'duration': 0, 'status': 2}\\n\",\n",
       " '2020-12-06 22:39:48,268 %MESSAGE TO MASTER b\\'{\"task_id\": \"2_M0\", \"duration\": 0, \"status\": 2, \"worker_id\": 2}\\'\\n',\n",
       " '2020-12-06 22:39:48,268 %number of tasks running=% 1 %tasks completed=%7\\n',\n",
       " '2020-12-06 22:39:48,269 %MESSAGE TO MASTER b\\'{\"task_id\": \"1_R1\", \"duration\": 0, \"status\": 2, \"worker_id\": 2}\\'\\n',\n",
       " '2020-12-06 22:39:48,322 %TASK RECEIVED%{\"task_id\": \"2_R0\", \"duration\": 4, \"status\": 0}\\n',\n",
       " '2020-12-06 22:39:48,341 %TASK RECEIVED%{\"task_id\": \"2_R1\", \"duration\": 1, \"status\": 0}\\n',\n",
       " \"2020-12-06 22:39:49,276 %TASK COMPLETED%{'task_id': '5_M3', 'duration': 0, 'status': 2}\\n\",\n",
       " '2020-12-06 22:39:49,282 %number of tasks running=% 2 %tasks completed=%8\\n',\n",
       " '2020-12-06 22:39:49,283 %MESSAGE TO MASTER b\\'{\"task_id\": \"5_M3\", \"duration\": 0, \"status\": 2, \"worker_id\": 2}\\'\\n',\n",
       " '2020-12-06 22:39:49,562 %TASK RECEIVED%{\"task_id\": \"7_M0\", \"duration\": 2, \"status\": 1}\\n',\n",
       " '2020-12-06 22:39:49,580 %TASK RECEIVED%{\"task_id\": \"7_M2\", \"duration\": 1, \"status\": 1}\\n',\n",
       " '2020-12-06 22:39:49,874 %TASK RECEIVED%{\"task_id\": \"8_M2\", \"duration\": 3, \"status\": 1}\\n',\n",
       " \"2020-12-06 22:39:50,291 %TASK COMPLETED%{'task_id': '3_R0', 'duration': 0, 'status': 2}\\n\",\n",
       " \"2020-12-06 22:39:50,298 %TASK COMPLETED%{'task_id': '2_R1', 'duration': 0, 'status': 2}\\n\",\n",
       " '2020-12-06 22:39:50,299 %MESSAGE TO MASTER b\\'{\"task_id\": \"3_R0\", \"duration\": 0, \"status\": 2, \"worker_id\": 2}\\'\\n',\n",
       " '2020-12-06 22:39:50,305 %number of tasks running=% 2 %tasks completed=%10\\n',\n",
       " '2020-12-06 22:39:50,305 %MESSAGE TO MASTER b\\'{\"task_id\": \"2_R1\", \"duration\": 0, \"status\": 2, \"worker_id\": 2}\\'\\n',\n",
       " '2020-12-06 22:39:51,191 %TASK RECEIVED%{\"task_id\": \"10_M0\", \"duration\": 2, \"status\": 1}\\n',\n",
       " '2020-12-06 22:39:51,215 %TASK RECEIVED%{\"task_id\": \"11_M0\", \"duration\": 1, \"status\": 1}\\n',\n",
       " \"2020-12-06 22:39:51,316 %TASK COMPLETED%{'task_id': '5_M1', 'duration': 0, 'status': 2}\\n\",\n",
       " \"2020-12-06 22:39:51,316 %TASK COMPLETED%{'task_id': '7_M2', 'duration': 0, 'status': 2}\\n\",\n",
       " '2020-12-06 22:39:51,317 %MESSAGE TO MASTER b\\'{\"task_id\": \"5_M1\", \"duration\": 0, \"status\": 2, \"worker_id\": 2}\\'\\n',\n",
       " '2020-12-06 22:39:51,334 %number of tasks running=% 3 %tasks completed=%12\\n',\n",
       " '2020-12-06 22:39:51,335 %MESSAGE TO MASTER b\\'{\"task_id\": \"7_M2\", \"duration\": 0, \"status\": 2, \"worker_id\": 2}\\'\\n',\n",
       " '2020-12-06 22:39:52,193 %TASK RECEIVED%{\"task_id\": \"12_M0\", \"duration\": 3, \"status\": 1}\\n',\n",
       " '2020-12-06 22:39:52,218 %TASK RECEIVED%{\"task_id\": \"11_M1\", \"duration\": 1, \"status\": 1}\\n',\n",
       " \"2020-12-06 22:39:52,341 %TASK COMPLETED%{'task_id': '7_M0', 'duration': 0, 'status': 2}\\n\",\n",
       " \"2020-12-06 22:39:52,348 %TASK COMPLETED%{'task_id': '11_M0', 'duration': 0, 'status': 2}\\n\",\n",
       " '2020-12-06 22:39:52,348 %MESSAGE TO MASTER b\\'{\"task_id\": \"7_M0\", \"duration\": 0, \"status\": 2, \"worker_id\": 2}\\'\\n',\n",
       " '2020-12-06 22:39:52,354 %number of tasks running=% 3 %tasks completed=%14\\n',\n",
       " '2020-12-06 22:39:52,354 %MESSAGE TO MASTER b\\'{\"task_id\": \"11_M0\", \"duration\": 0, \"status\": 2, \"worker_id\": 2}\\'\\n',\n",
       " '2020-12-06 22:39:53,197 %TASK RECEIVED%{\"task_id\": \"11_M3\", \"duration\": 4, \"status\": 1}\\n',\n",
       " '2020-12-06 22:39:53,227 %TASK RECEIVED%{\"task_id\": \"5_R0\", \"duration\": 2, \"status\": 0}\\n',\n",
       " \"2020-12-06 22:39:53,365 %TASK COMPLETED%{'task_id': '2_R0', 'duration': 0, 'status': 2}\\n\",\n",
       " \"2020-12-06 22:39:53,365 %TASK COMPLETED%{'task_id': '8_M2', 'duration': 0, 'status': 2}\\n\",\n",
       " '2020-12-06 22:39:53,365 %MESSAGE TO MASTER b\\'{\"task_id\": \"2_R0\", \"duration\": 0, \"status\": 2, \"worker_id\": 2}\\'\\n',\n",
       " \"2020-12-06 22:39:53,372 %TASK COMPLETED%{'task_id': '10_M0', 'duration': 0, 'status': 2}\\n\",\n",
       " '2020-12-06 22:39:53,372 %MESSAGE TO MASTER b\\'{\"task_id\": \"8_M2\", \"duration\": 0, \"status\": 2, \"worker_id\": 2}\\'\\n',\n",
       " \"2020-12-06 22:39:53,372 %TASK COMPLETED%{'task_id': '11_M1', 'duration': 0, 'status': 2}\\n\",\n",
       " '2020-12-06 22:39:53,373 %MESSAGE TO MASTER b\\'{\"task_id\": \"10_M0\", \"duration\": 0, \"status\": 2, \"worker_id\": 2}\\'\\n',\n",
       " '2020-12-06 22:39:53,385 %number of tasks running=% 1 %tasks completed=%18\\n',\n",
       " '2020-12-06 22:39:53,385 %MESSAGE TO MASTER b\\'{\"task_id\": \"11_M1\", \"duration\": 0, \"status\": 2, \"worker_id\": 2}\\'\\n',\n",
       " '2020-12-06 22:39:54,206 %TASK RECEIVED%{\"task_id\": \"14_M0\", \"duration\": 2, \"status\": 1}\\n',\n",
       " '2020-12-06 22:39:54,224 %TASK RECEIVED%{\"task_id\": \"7_R0\", \"duration\": 3, \"status\": 0}\\n',\n",
       " '2020-12-06 22:39:54,244 %TASK RECEIVED%{\"task_id\": \"7_R1\", \"duration\": 2, \"status\": 0}\\n',\n",
       " '2020-12-06 22:39:54,261 %TASK RECEIVED%{\"task_id\": \"14_M2\", \"duration\": 3, \"status\": 1}\\n',\n",
       " '2020-12-06 22:39:54,396 %number of tasks running=% 3 %tasks completed=%18\\n',\n",
       " \"2020-12-06 22:39:55,412 %TASK COMPLETED%{'task_id': '12_M0', 'duration': 0, 'status': 2}\\n\",\n",
       " \"2020-12-06 22:39:55,425 %TASK COMPLETED%{'task_id': '5_R0', 'duration': 0, 'status': 2}\\n\",\n",
       " '2020-12-06 22:39:55,426 %MESSAGE TO MASTER b\\'{\"task_id\": \"12_M0\", \"duration\": 0, \"status\": 2, \"worker_id\": 2}\\'\\n',\n",
       " '2020-12-06 22:39:55,438 %number of tasks running=% 5 %tasks completed=%20\\n',\n",
       " '2020-12-06 22:39:55,439 %MESSAGE TO MASTER b\\'{\"task_id\": \"5_R0\", \"duration\": 0, \"status\": 2, \"worker_id\": 2}\\'\\n',\n",
       " '2020-12-06 22:39:56,217 %TASK RECEIVED%{\"task_id\": \"15_M1\", \"duration\": 4, \"status\": 1}\\n',\n",
       " '2020-12-06 22:39:56,236 %TASK RECEIVED%{\"task_id\": \"17_M0\", \"duration\": 4, \"status\": 1}\\n',\n",
       " \"2020-12-06 22:39:56,445 %TASK COMPLETED%{'task_id': '14_M0', 'duration': 0, 'status': 2}\\n\",\n",
       " \"2020-12-06 22:39:56,445 %TASK COMPLETED%{'task_id': '7_R1', 'duration': 0, 'status': 2}\\n\",\n",
       " '2020-12-06 22:39:56,446 %MESSAGE TO MASTER b\\'{\"task_id\": \"14_M0\", \"duration\": 0, \"status\": 2, \"worker_id\": 2}\\'\\n',\n",
       " '2020-12-06 22:39:56,451 %number of tasks running=% 3 %tasks completed=%22\\n',\n",
       " '2020-12-06 22:39:56,452 %MESSAGE TO MASTER b\\'{\"task_id\": \"7_R1\", \"duration\": 0, \"status\": 2, \"worker_id\": 2}\\'\\n',\n",
       " '2020-12-06 22:39:57,220 %TASK RECEIVED%{\"task_id\": \"9_R0\", \"duration\": 1, \"status\": 0}\\n',\n",
       " '2020-12-06 22:39:57,231 %TASK RECEIVED%{\"task_id\": \"16_M1\", \"duration\": 3, \"status\": 1}\\n',\n",
       " \"2020-12-06 22:39:57,461 %TASK COMPLETED%{'task_id': '11_M3', 'duration': 0, 'status': 2}\\n\",\n",
       " \"2020-12-06 22:39:57,467 %TASK COMPLETED%{'task_id': '7_R0', 'duration': 0, 'status': 2}\\n\",\n",
       " '2020-12-06 22:39:57,468 %MESSAGE TO MASTER b\\'{\"task_id\": \"11_M3\", \"duration\": 0, \"status\": 2, \"worker_id\": 2}\\'\\n',\n",
       " \"2020-12-06 22:39:57,468 %TASK COMPLETED%{'task_id': '14_M2', 'duration': 0, 'status': 2}\\n\",\n",
       " '2020-12-06 22:39:57,468 %MESSAGE TO MASTER b\\'{\"task_id\": \"7_R0\", \"duration\": 0, \"status\": 2, \"worker_id\": 2}\\'\\n',\n",
       " '2020-12-06 22:39:57,494 %number of tasks running=% 2 %tasks completed=%25\\n',\n",
       " '2020-12-06 22:39:57,494 %MESSAGE TO MASTER b\\'{\"task_id\": \"14_M2\", \"duration\": 0, \"status\": 2, \"worker_id\": 2}\\'\\n',\n",
       " '2020-12-06 22:39:58,220 %TASK RECEIVED%{\"task_id\": \"16_M2\", \"duration\": 4, \"status\": 1}\\n',\n",
       " '2020-12-06 22:39:58,238 %TASK RECEIVED%{\"task_id\": \"17_M2\", \"duration\": 1, \"status\": 1}\\n',\n",
       " '2020-12-06 22:39:58,257 %TASK RECEIVED%{\"task_id\": \"18_M0\", \"duration\": 3, \"status\": 1}\\n',\n",
       " \"2020-12-06 22:39:58,502 %TASK COMPLETED%{'task_id': '9_R0', 'duration': 0, 'status': 2}\\n\",\n",
       " '2020-12-06 22:39:58,502 %number of tasks running=% 3 %tasks completed=%26\\n',\n",
       " '2020-12-06 22:39:58,502 %MESSAGE TO MASTER b\\'{\"task_id\": \"9_R0\", \"duration\": 0, \"status\": 2, \"worker_id\": 2}\\'\\n',\n",
       " '2020-12-06 22:39:59,233 %TASK RECEIVED%{\"task_id\": \"13_R0\", \"duration\": 4, \"status\": 0}\\n',\n",
       " \"2020-12-06 22:39:59,513 %TASK COMPLETED%{'task_id': '17_M2', 'duration': 0, 'status': 2}\\n\",\n",
       " '2020-12-06 22:39:59,513 %number of tasks running=% 5 %tasks completed=%27\\n',\n",
       " '2020-12-06 22:39:59,514 %MESSAGE TO MASTER b\\'{\"task_id\": \"17_M2\", \"duration\": 0, \"status\": 2, \"worker_id\": 2}\\'\\n',\n",
       " '2020-12-06 22:40:00,235 %TASK RECEIVED%{\"task_id\": \"11_R0\", \"duration\": 3, \"status\": 0}\\n',\n",
       " \"2020-12-06 22:40:00,524 %TASK COMPLETED%{'task_id': '15_M1', 'duration': 0, 'status': 2}\\n\",\n",
       " \"2020-12-06 22:40:00,531 %TASK COMPLETED%{'task_id': '17_M0', 'duration': 0, 'status': 2}\\n\",\n",
       " \"2020-12-06 22:40:00,531 %TASK COMPLETED%{'task_id': '16_M1', 'duration': 0, 'status': 2}\\n\",\n",
       " '2020-12-06 22:40:00,531 %MESSAGE TO MASTER b\\'{\"task_id\": \"15_M1\", \"duration\": 0, \"status\": 2, \"worker_id\": 2}\\'\\n',\n",
       " '2020-12-06 22:40:00,532 %MESSAGE TO MASTER b\\'{\"task_id\": \"17_M0\", \"duration\": 0, \"status\": 2, \"worker_id\": 2}\\'\\n',\n",
       " '2020-12-06 22:40:00,539 %number of tasks running=% 3 %tasks completed=%30\\n',\n",
       " '2020-12-06 22:40:00,539 %MESSAGE TO MASTER b\\'{\"task_id\": \"16_M1\", \"duration\": 0, \"status\": 2, \"worker_id\": 2}\\'\\n',\n",
       " '2020-12-06 22:40:01,233 %TASK RECEIVED%{\"task_id\": \"14_R0\", \"duration\": 3, \"status\": 0}\\n',\n",
       " '2020-12-06 22:40:01,233 %TASK RECEIVED%{\"task_id\": \"15_R0\", \"duration\": 4, \"status\": 0}\\n',\n",
       " '2020-12-06 22:40:01,234 %TASK RECEIVED%{\"task_id\": \"17_R0\", \"duration\": 4, \"status\": 0}\\n',\n",
       " \"2020-12-06 22:40:01,550 %TASK COMPLETED%{'task_id': '18_M0', 'duration': 0, 'status': 2}\\n\",\n",
       " '2020-12-06 22:40:01,556 %number of tasks running=% 3 %tasks completed=%31\\n',\n",
       " '2020-12-06 22:40:01,557 %MESSAGE TO MASTER b\\'{\"task_id\": \"18_M0\", \"duration\": 0, \"status\": 2, \"worker_id\": 2}\\'\\n',\n",
       " \"2020-12-06 22:40:02,564 %TASK COMPLETED%{'task_id': '16_M2', 'duration': 0, 'status': 2}\\n\",\n",
       " '2020-12-06 22:40:02,577 %number of tasks running=% 5 %tasks completed=%32\\n',\n",
       " '2020-12-06 22:40:02,578 %MESSAGE TO MASTER b\\'{\"task_id\": \"16_M2\", \"duration\": 0, \"status\": 2, \"worker_id\": 2}\\'\\n',\n",
       " '2020-12-06 22:40:02,675 %TASK RECEIVED%{\"task_id\": \"16_R1\", \"duration\": 3, \"status\": 0}\\n',\n",
       " \"2020-12-06 22:40:03,584 %TASK COMPLETED%{'task_id': '13_R0', 'duration': 0, 'status': 2}\\n\",\n",
       " \"2020-12-06 22:40:03,603 %TASK COMPLETED%{'task_id': '11_R0', 'duration': 0, 'status': 2}\\n\",\n",
       " '2020-12-06 22:40:03,604 %MESSAGE TO MASTER b\\'{\"task_id\": \"13_R0\", \"duration\": 0, \"status\": 2, \"worker_id\": 2}\\'\\n',\n",
       " '2020-12-06 22:40:03,617 %number of tasks running=% 3 %tasks completed=%34\\n',\n",
       " '2020-12-06 22:40:03,617 %MESSAGE TO MASTER b\\'{\"task_id\": \"11_R0\", \"duration\": 0, \"status\": 2, \"worker_id\": 2}\\'\\n',\n",
       " \"2020-12-06 22:40:04,628 %TASK COMPLETED%{'task_id': '14_R0', 'duration': 0, 'status': 2}\\n\",\n",
       " '2020-12-06 22:40:04,645 %number of tasks running=% 3 %tasks completed=%35\\n',\n",
       " '2020-12-06 22:40:04,647 %MESSAGE TO MASTER b\\'{\"task_id\": \"14_R0\", \"duration\": 0, \"status\": 2, \"worker_id\": 2}\\'\\n',\n",
       " \"2020-12-06 22:40:05,654 %TASK COMPLETED%{'task_id': '15_R0', 'duration': 0, 'status': 2}\\n\",\n",
       " \"2020-12-06 22:40:05,665 %TASK COMPLETED%{'task_id': '17_R0', 'duration': 0, 'status': 2}\\n\",\n",
       " '2020-12-06 22:40:05,666 %MESSAGE TO MASTER b\\'{\"task_id\": \"15_R0\", \"duration\": 0, \"status\": 2, \"worker_id\": 2}\\'\\n',\n",
       " '2020-12-06 22:40:05,673 %number of tasks running=% 1 %tasks completed=%37\\n',\n",
       " '2020-12-06 22:40:05,673 %MESSAGE TO MASTER b\\'{\"task_id\": \"17_R0\", \"duration\": 0, \"status\": 2, \"worker_id\": 2}\\'\\n',\n",
       " \"2020-12-06 22:40:06,684 %TASK COMPLETED%{'task_id': '16_R1', 'duration': 0, 'status': 2}\\n\",\n",
       " '2020-12-06 22:40:06,690 %number of tasks running=% 0 %tasks completed=%38\\n',\n",
       " '2020-12-06 22:40:06,691 %MESSAGE TO MASTER b\\'{\"task_id\": \"16_R1\", \"duration\": 0, \"status\": 2, \"worker_id\": 2}\\'\\n',\n",
       " '2020-12-06 22:40:07,696 %number of tasks running=% 0 %tasks completed=%38\\n',\n",
       " '2020-12-06 22:40:08,707 %number of tasks running=% 0 %tasks completed=%38\\n',\n",
       " '2020-12-06 22:40:09,717 %number of tasks running=% 0 %tasks completed=%38\\n',\n",
       " '2020-12-06 22:40:10,733 %number of tasks running=% 0 %tasks completed=%38\\n',\n",
       " '2020-12-06 22:40:11,747 %number of tasks running=% 0 %tasks completed=%38\\n']"
      ]
     },
     "execution_count": 40,
     "metadata": {},
     "output_type": "execute_result"
    }
   ],
   "source": [
    "logs1"
   ]
  },
  {
   "cell_type": "code",
   "execution_count": 37,
   "metadata": {},
   "outputs": [],
   "source": [
    "job_received_log = []\n",
    "job_completed_log = []"
   ]
  },
  {
   "cell_type": "code",
   "execution_count": 38,
   "metadata": {},
   "outputs": [],
   "source": [
    "for logs in [logs1, logs2, logs3]:\n",
    "    for log in logs:\n",
    "        log = log.split('%')\n",
    "        log[0] = log[0].strip()\n",
    "        if log[1] == 'TASK RECEIVED':\n",
    "            job_received_log.append(log)\n",
    "        elif log[1] == 'TASK COMPLETED':\n",
    "            job_completed_log.append(log)"
   ]
  },
  {
   "cell_type": "code",
   "execution_count": 39,
   "metadata": {},
   "outputs": [
    {
     "data": {
      "text/plain": [
       "[['2020-12-06 22:39:45,196',\n",
       "  'TASK COMPLETED',\n",
       "  \"{'task_id': '0_M0', 'duration': 0, 'status': 2}\\n\"],\n",
       " ['2020-12-06 22:39:46,207',\n",
       "  'TASK COMPLETED',\n",
       "  \"{'task_id': '0_M1', 'duration': 0, 'status': 2}\\n\"],\n",
       " ['2020-12-06 22:39:46,207',\n",
       "  'TASK COMPLETED',\n",
       "  \"{'task_id': '2_M2', 'duration': 0, 'status': 2}\\n\"],\n",
       " ['2020-12-06 22:39:46,231',\n",
       "  'TASK COMPLETED',\n",
       "  \"{'task_id': '3_M0', 'duration': 0, 'status': 2}\\n\"],\n",
       " ['2020-12-06 22:39:47,253',\n",
       "  'TASK COMPLETED',\n",
       "  \"{'task_id': '0_R0', 'duration': 0, 'status': 2}\\n\"],\n",
       " ['2020-12-06 22:39:48,262',\n",
       "  'TASK COMPLETED',\n",
       "  \"{'task_id': '2_M0', 'duration': 0, 'status': 2}\\n\"],\n",
       " ['2020-12-06 22:39:48,268',\n",
       "  'TASK COMPLETED',\n",
       "  \"{'task_id': '1_R1', 'duration': 0, 'status': 2}\\n\"],\n",
       " ['2020-12-06 22:39:49,276',\n",
       "  'TASK COMPLETED',\n",
       "  \"{'task_id': '5_M3', 'duration': 0, 'status': 2}\\n\"],\n",
       " ['2020-12-06 22:39:50,291',\n",
       "  'TASK COMPLETED',\n",
       "  \"{'task_id': '3_R0', 'duration': 0, 'status': 2}\\n\"],\n",
       " ['2020-12-06 22:39:50,298',\n",
       "  'TASK COMPLETED',\n",
       "  \"{'task_id': '2_R1', 'duration': 0, 'status': 2}\\n\"],\n",
       " ['2020-12-06 22:39:51,316',\n",
       "  'TASK COMPLETED',\n",
       "  \"{'task_id': '5_M1', 'duration': 0, 'status': 2}\\n\"],\n",
       " ['2020-12-06 22:39:51,316',\n",
       "  'TASK COMPLETED',\n",
       "  \"{'task_id': '7_M2', 'duration': 0, 'status': 2}\\n\"],\n",
       " ['2020-12-06 22:39:52,341',\n",
       "  'TASK COMPLETED',\n",
       "  \"{'task_id': '7_M0', 'duration': 0, 'status': 2}\\n\"],\n",
       " ['2020-12-06 22:39:52,348',\n",
       "  'TASK COMPLETED',\n",
       "  \"{'task_id': '11_M0', 'duration': 0, 'status': 2}\\n\"],\n",
       " ['2020-12-06 22:39:53,365',\n",
       "  'TASK COMPLETED',\n",
       "  \"{'task_id': '2_R0', 'duration': 0, 'status': 2}\\n\"],\n",
       " ['2020-12-06 22:39:53,365',\n",
       "  'TASK COMPLETED',\n",
       "  \"{'task_id': '8_M2', 'duration': 0, 'status': 2}\\n\"],\n",
       " ['2020-12-06 22:39:53,372',\n",
       "  'TASK COMPLETED',\n",
       "  \"{'task_id': '10_M0', 'duration': 0, 'status': 2}\\n\"],\n",
       " ['2020-12-06 22:39:53,372',\n",
       "  'TASK COMPLETED',\n",
       "  \"{'task_id': '11_M1', 'duration': 0, 'status': 2}\\n\"],\n",
       " ['2020-12-06 22:39:55,412',\n",
       "  'TASK COMPLETED',\n",
       "  \"{'task_id': '12_M0', 'duration': 0, 'status': 2}\\n\"],\n",
       " ['2020-12-06 22:39:55,425',\n",
       "  'TASK COMPLETED',\n",
       "  \"{'task_id': '5_R0', 'duration': 0, 'status': 2}\\n\"],\n",
       " ['2020-12-06 22:39:56,445',\n",
       "  'TASK COMPLETED',\n",
       "  \"{'task_id': '14_M0', 'duration': 0, 'status': 2}\\n\"],\n",
       " ['2020-12-06 22:39:56,445',\n",
       "  'TASK COMPLETED',\n",
       "  \"{'task_id': '7_R1', 'duration': 0, 'status': 2}\\n\"],\n",
       " ['2020-12-06 22:39:57,461',\n",
       "  'TASK COMPLETED',\n",
       "  \"{'task_id': '11_M3', 'duration': 0, 'status': 2}\\n\"],\n",
       " ['2020-12-06 22:39:57,467',\n",
       "  'TASK COMPLETED',\n",
       "  \"{'task_id': '7_R0', 'duration': 0, 'status': 2}\\n\"],\n",
       " ['2020-12-06 22:39:57,468',\n",
       "  'TASK COMPLETED',\n",
       "  \"{'task_id': '14_M2', 'duration': 0, 'status': 2}\\n\"],\n",
       " ['2020-12-06 22:39:58,502',\n",
       "  'TASK COMPLETED',\n",
       "  \"{'task_id': '9_R0', 'duration': 0, 'status': 2}\\n\"],\n",
       " ['2020-12-06 22:39:59,513',\n",
       "  'TASK COMPLETED',\n",
       "  \"{'task_id': '17_M2', 'duration': 0, 'status': 2}\\n\"],\n",
       " ['2020-12-06 22:40:00,524',\n",
       "  'TASK COMPLETED',\n",
       "  \"{'task_id': '15_M1', 'duration': 0, 'status': 2}\\n\"],\n",
       " ['2020-12-06 22:40:00,531',\n",
       "  'TASK COMPLETED',\n",
       "  \"{'task_id': '17_M0', 'duration': 0, 'status': 2}\\n\"],\n",
       " ['2020-12-06 22:40:00,531',\n",
       "  'TASK COMPLETED',\n",
       "  \"{'task_id': '16_M1', 'duration': 0, 'status': 2}\\n\"],\n",
       " ['2020-12-06 22:40:01,550',\n",
       "  'TASK COMPLETED',\n",
       "  \"{'task_id': '18_M0', 'duration': 0, 'status': 2}\\n\"],\n",
       " ['2020-12-06 22:40:02,564',\n",
       "  'TASK COMPLETED',\n",
       "  \"{'task_id': '16_M2', 'duration': 0, 'status': 2}\\n\"],\n",
       " ['2020-12-06 22:40:03,584',\n",
       "  'TASK COMPLETED',\n",
       "  \"{'task_id': '13_R0', 'duration': 0, 'status': 2}\\n\"],\n",
       " ['2020-12-06 22:40:03,603',\n",
       "  'TASK COMPLETED',\n",
       "  \"{'task_id': '11_R0', 'duration': 0, 'status': 2}\\n\"],\n",
       " ['2020-12-06 22:40:04,628',\n",
       "  'TASK COMPLETED',\n",
       "  \"{'task_id': '14_R0', 'duration': 0, 'status': 2}\\n\"],\n",
       " ['2020-12-06 22:40:05,654',\n",
       "  'TASK COMPLETED',\n",
       "  \"{'task_id': '15_R0', 'duration': 0, 'status': 2}\\n\"],\n",
       " ['2020-12-06 22:40:05,665',\n",
       "  'TASK COMPLETED',\n",
       "  \"{'task_id': '17_R0', 'duration': 0, 'status': 2}\\n\"],\n",
       " ['2020-12-06 22:40:06,684',\n",
       "  'TASK COMPLETED',\n",
       "  \"{'task_id': '16_R1', 'duration': 0, 'status': 2}\\n\"],\n",
       " ['2020-12-06 22:39:49,867',\n",
       "  'TASK COMPLETED',\n",
       "  \"{'task_id': '4_M0', 'duration': 0, 'status': 2}\\n\"],\n",
       " ['2020-12-06 22:39:52,927',\n",
       "  'TASK COMPLETED',\n",
       "  \"{'task_id': '8_M1', 'duration': 0, 'status': 2}\\n\"],\n",
       " ['2020-12-06 22:39:54,971',\n",
       "  'TASK COMPLETED',\n",
       "  \"{'task_id': '4_R0', 'duration': 0, 'status': 2}\\n\"],\n",
       " ['2020-12-06 22:39:54,984',\n",
       "  'TASK COMPLETED',\n",
       "  \"{'task_id': '4_R1', 'duration': 0, 'status': 2}\\n\"],\n",
       " ['2020-12-06 22:39:57,013',\n",
       "  'TASK COMPLETED',\n",
       "  \"{'task_id': '10_R0', 'duration': 0, 'status': 2}\\n\"],\n",
       " ['2020-12-06 22:39:58,029',\n",
       "  'TASK COMPLETED',\n",
       "  \"{'task_id': '5_R1', 'duration': 0, 'status': 2}\\n\"],\n",
       " ['2020-12-06 22:40:00,056',\n",
       "  'TASK COMPLETED',\n",
       "  \"{'task_id': '6_R1', 'duration': 0, 'status': 2}\\n\"],\n",
       " ['2020-12-06 22:40:01,089',\n",
       "  'TASK COMPLETED',\n",
       "  \"{'task_id': '17_M1', 'duration': 0, 'status': 2}\\n\"],\n",
       " ['2020-12-06 22:40:03,129',\n",
       "  'TASK COMPLETED',\n",
       "  \"{'task_id': '19_M0', 'duration': 0, 'status': 2}\\n\"],\n",
       " ['2020-12-06 22:40:04,143',\n",
       "  'TASK COMPLETED',\n",
       "  \"{'task_id': '11_R1', 'duration': 0, 'status': 2}\\n\"],\n",
       " ['2020-12-06 22:40:07,185',\n",
       "  'TASK COMPLETED',\n",
       "  \"{'task_id': '19_R1', 'duration': 0, 'status': 2}\\n\"]]"
      ]
     },
     "execution_count": 39,
     "metadata": {},
     "output_type": "execute_result"
    }
   ],
   "source": [
    "job_completed_log"
   ]
  },
  {
   "cell_type": "code",
   "execution_count": 41,
   "metadata": {},
   "outputs": [],
   "source": [
    "for i in job_received_log:\n",
    "    i[2] = json.loads(i[2])['task_id']    \n",
    "for i in job_completed_log:\n",
    "    #i[2] = json.loads(i[2])['task_id']    \n",
    "    i[2] = i[2].split(',')[0].split(':')[1].strip()  "
   ]
  },
  {
   "cell_type": "code",
   "execution_count": 42,
   "metadata": {},
   "outputs": [
    {
     "name": "stdout",
     "output_type": "stream",
     "text": [
      "['2020-12-06 22:39:41,924', 'TASK RECEIVED', '0_M1']\n",
      "['2020-12-06 22:39:46,207', 'TASK COMPLETED', \"'0_M1'\"]\n"
     ]
    }
   ],
   "source": [
    "print(job_received_log[1])\n",
    "print(job_completed_log[1])"
   ]
  },
  {
   "cell_type": "code",
   "execution_count": 43,
   "metadata": {},
   "outputs": [],
   "source": [
    "def convert_to_datetime(datetime_string):\n",
    "    k = datetime.datetime.strptime(datetime_string, '%Y-%m-%d %H:%M:%S,%f')\n",
    "    return k"
   ]
  },
  {
   "cell_type": "code",
   "execution_count": 44,
   "metadata": {},
   "outputs": [],
   "source": [
    "job_times = {}\n",
    "for i in job_received_log:\n",
    "    for j in job_completed_log:\n",
    "        if i[2] == j[2][1:-1]:\n",
    "            job_times[i[2]] = (convert_to_datetime(j[0]) - convert_to_datetime(i[0])).total_seconds()"
   ]
  },
  {
   "cell_type": "code",
   "execution_count": 45,
   "metadata": {},
   "outputs": [
    {
     "data": {
      "text/plain": [
       "49"
      ]
     },
     "execution_count": 45,
     "metadata": {},
     "output_type": "execute_result"
    }
   ],
   "source": [
    "len(job_times)"
   ]
  },
  {
   "cell_type": "code",
   "execution_count": 46,
   "metadata": {},
   "outputs": [],
   "source": [
    "sorted_times = sorted(list(job_times.values()))\n",
    "avg_times[policy] = sum(list(job_times.values()))/len(sorted_times)\n",
    "mid = len(sorted_times) // 2\n",
    "median_times[policy] = (sorted_times[mid] + sorted_times[~mid])/2"
   ]
  },
  {
   "cell_type": "code",
   "execution_count": 47,
   "metadata": {},
   "outputs": [
    {
     "data": {
      "text/plain": [
       "{'RD': 3.217139240506328, 'RR': 3.123240506329113, 'LL': 3.304775510204081}"
      ]
     },
     "execution_count": 47,
     "metadata": {},
     "output_type": "execute_result"
    }
   ],
   "source": [
    "avg_times"
   ]
  },
  {
   "cell_type": "code",
   "execution_count": 48,
   "metadata": {},
   "outputs": [
    {
     "data": {
      "text/plain": [
       "{'RD': 3.417, 'RR': 3.197, 'LL': 3.389}"
      ]
     },
     "execution_count": 48,
     "metadata": {},
     "output_type": "execute_result"
    }
   ],
   "source": [
    "median_times"
   ]
  },
  {
   "cell_type": "code",
   "execution_count": 51,
   "metadata": {},
   "outputs": [
    {
     "data": {
      "image/png": "[encoded data removed]",
      "text/plain": [
       "<Figure size 432x288 with 1 Axes>"
      ]
     },
     "metadata": {
      "needs_background": "light"
     },
     "output_type": "display_data"
    }
   ],
   "source": [
    "X = np.arange(len(avg_times))\n",
    "ax = plt.subplot(111)\n",
    "ax.bar(X, avg_times.values(), width=0.2, color='b', align='center')\n",
    "ax.bar(X-0.2, median_times.values(), width=0.2, color='g', align='center')\n",
    "ax.legend(('Mean time','Median time'))\n",
    "plt.xticks(X, avg_times.keys())\n",
    "plt.title(\"Task stats\", fontsize=17)\n",
    "plt.savefig('Task stats')\n",
    "plt.show()"
   ]
  },
  {
   "cell_type": "code",
   "execution_count": 162,
   "metadata": {},
   "outputs": [],
   "source": [
    "ts_tasks_1 = {}\n",
    "ts_tasks_2 = {}\n",
    "ts_tasks_3 = {}\n",
    "ct = 0\n",
    "for log in logs1:\n",
    "    log = log.split('%')\n",
    "    log[0] = log[0].strip()\n",
    "    if log[1] == 'TASK RECEIVED':\n",
    "        ct += 1\n",
    "    elif log[1] == 'TASK COMPLETED':\n",
    "        ct -= 1\n",
    "    ts_tasks_1[convert_to_datetime(log[0])] = ct\n",
    "    \n",
    "for log in logs2:\n",
    "    log = log.split('%')\n",
    "    log[0] = log[0].strip()\n",
    "    if log[1] == 'TASK RECEIVED':\n",
    "        ct += 1\n",
    "    elif log[1] == 'TASK COMPLETED':\n",
    "        ct -= 1\n",
    "    ts_tasks_2[convert_to_datetime(log[0])] = ct\n",
    "\n",
    "for log in logs3:\n",
    "    log = log.split('%')\n",
    "    log[0] = log[0].strip()\n",
    "    if log[1] == 'TASK RECEIVED':\n",
    "        ct += 1\n",
    "    elif log[1] == 'TASK COMPLETED':\n",
    "        ct -= 1\n",
    "    ts_tasks_3[convert_to_datetime(log[0])] = ct"
   ]
  },
  {
   "cell_type": "code",
   "execution_count": 163,
   "metadata": {},
   "outputs": [
    {
     "data": {
      "text/plain": [
       "{datetime.datetime(2020, 12, 6, 22, 28, 47, 198000): 0,\n",
       " datetime.datetime(2020, 12, 6, 22, 28, 48, 214000): 0,\n",
       " datetime.datetime(2020, 12, 6, 22, 28, 49, 231000): 0,\n",
       " datetime.datetime(2020, 12, 6, 22, 28, 50, 243000): 0,\n",
       " datetime.datetime(2020, 12, 6, 22, 28, 50, 591000): 1,\n",
       " datetime.datetime(2020, 12, 6, 22, 28, 51, 260000): 1,\n",
       " datetime.datetime(2020, 12, 6, 22, 28, 52, 274000): 1,\n",
       " datetime.datetime(2020, 12, 6, 22, 28, 53, 287000): 1,\n",
       " datetime.datetime(2020, 12, 6, 22, 28, 53, 679000): 2,\n",
       " datetime.datetime(2020, 12, 6, 22, 28, 54, 297000): 1,\n",
       " datetime.datetime(2020, 12, 6, 22, 28, 54, 303000): 1,\n",
       " datetime.datetime(2020, 12, 6, 22, 28, 54, 304000): 1,\n",
       " datetime.datetime(2020, 12, 6, 22, 28, 55, 233000): 2,\n",
       " datetime.datetime(2020, 12, 6, 22, 28, 55, 250000): 3,\n",
       " datetime.datetime(2020, 12, 6, 22, 28, 55, 263000): 4,\n",
       " datetime.datetime(2020, 12, 6, 22, 28, 55, 310000): 4,\n",
       " datetime.datetime(2020, 12, 6, 22, 28, 56, 320000): 3,\n",
       " datetime.datetime(2020, 12, 6, 22, 28, 56, 327000): 3,\n",
       " datetime.datetime(2020, 12, 6, 22, 28, 57, 336000): 2,\n",
       " datetime.datetime(2020, 12, 6, 22, 28, 57, 349000): 1,\n",
       " datetime.datetime(2020, 12, 6, 22, 28, 57, 356000): 1,\n",
       " datetime.datetime(2020, 12, 6, 22, 28, 58, 332000): 2,\n",
       " datetime.datetime(2020, 12, 6, 22, 28, 58, 356000): 3,\n",
       " datetime.datetime(2020, 12, 6, 22, 28, 58, 362000): 2,\n",
       " datetime.datetime(2020, 12, 6, 22, 28, 58, 386000): 2,\n",
       " datetime.datetime(2020, 12, 6, 22, 28, 58, 650000): 3,\n",
       " datetime.datetime(2020, 12, 6, 22, 28, 58, 676000): 4,\n",
       " datetime.datetime(2020, 12, 6, 22, 28, 59, 270000): 5,\n",
       " datetime.datetime(2020, 12, 6, 22, 28, 59, 397000): 5,\n",
       " datetime.datetime(2020, 12, 6, 22, 29, 0, 410000): 5,\n",
       " datetime.datetime(2020, 12, 6, 22, 29, 1, 420000): 4,\n",
       " datetime.datetime(2020, 12, 6, 22, 29, 1, 426000): 3,\n",
       " datetime.datetime(2020, 12, 6, 22, 29, 1, 427000): 3,\n",
       " datetime.datetime(2020, 12, 6, 22, 29, 1, 445000): 1,\n",
       " datetime.datetime(2020, 12, 6, 22, 29, 1, 446000): 1,\n",
       " datetime.datetime(2020, 12, 6, 22, 29, 1, 447000): 1,\n",
       " datetime.datetime(2020, 12, 6, 22, 29, 2, 283000): 2,\n",
       " datetime.datetime(2020, 12, 6, 22, 29, 2, 296000): 3,\n",
       " datetime.datetime(2020, 12, 6, 22, 29, 2, 321000): 4,\n",
       " datetime.datetime(2020, 12, 6, 22, 29, 2, 345000): 5,\n",
       " datetime.datetime(2020, 12, 6, 22, 29, 2, 456000): 4,\n",
       " datetime.datetime(2020, 12, 6, 22, 29, 2, 469000): 4,\n",
       " datetime.datetime(2020, 12, 6, 22, 29, 2, 470000): 4,\n",
       " datetime.datetime(2020, 12, 6, 22, 29, 3, 291000): 5,\n",
       " datetime.datetime(2020, 12, 6, 22, 29, 3, 477000): 5,\n",
       " datetime.datetime(2020, 12, 6, 22, 29, 4, 490000): 4,\n",
       " datetime.datetime(2020, 12, 6, 22, 29, 4, 496000): 3,\n",
       " datetime.datetime(2020, 12, 6, 22, 29, 4, 497000): 3,\n",
       " datetime.datetime(2020, 12, 6, 22, 29, 4, 521000): 3,\n",
       " datetime.datetime(2020, 12, 6, 22, 29, 4, 522000): 3,\n",
       " datetime.datetime(2020, 12, 6, 22, 29, 5, 304000): 4,\n",
       " datetime.datetime(2020, 12, 6, 22, 29, 5, 322000): 5,\n",
       " datetime.datetime(2020, 12, 6, 22, 29, 5, 528000): 4,\n",
       " datetime.datetime(2020, 12, 6, 22, 29, 5, 539000): 4,\n",
       " datetime.datetime(2020, 12, 6, 22, 29, 6, 302000): 5,\n",
       " datetime.datetime(2020, 12, 6, 22, 29, 6, 545000): 4,\n",
       " datetime.datetime(2020, 12, 6, 22, 29, 6, 552000): 3,\n",
       " datetime.datetime(2020, 12, 6, 22, 29, 6, 553000): 3,\n",
       " datetime.datetime(2020, 12, 6, 22, 29, 6, 565000): 3,\n",
       " datetime.datetime(2020, 12, 6, 22, 29, 6, 566000): 3,\n",
       " datetime.datetime(2020, 12, 6, 22, 29, 7, 305000): 4,\n",
       " datetime.datetime(2020, 12, 6, 22, 29, 7, 331000): 5,\n",
       " datetime.datetime(2020, 12, 6, 22, 29, 7, 574000): 5,\n",
       " datetime.datetime(2020, 12, 6, 22, 29, 8, 587000): 4,\n",
       " datetime.datetime(2020, 12, 6, 22, 29, 8, 593000): 3,\n",
       " datetime.datetime(2020, 12, 6, 22, 29, 8, 594000): 3,\n",
       " datetime.datetime(2020, 12, 6, 22, 29, 9, 318000): 4,\n",
       " datetime.datetime(2020, 12, 6, 22, 29, 9, 330000): 5,\n",
       " datetime.datetime(2020, 12, 6, 22, 29, 9, 606000): 4,\n",
       " datetime.datetime(2020, 12, 6, 22, 29, 9, 634000): 4,\n",
       " datetime.datetime(2020, 12, 6, 22, 29, 9, 636000): 4,\n",
       " datetime.datetime(2020, 12, 6, 22, 29, 10, 328000): 5,\n",
       " datetime.datetime(2020, 12, 6, 22, 29, 10, 641000): 4,\n",
       " datetime.datetime(2020, 12, 6, 22, 29, 10, 648000): 3,\n",
       " datetime.datetime(2020, 12, 6, 22, 29, 10, 649000): 2,\n",
       " datetime.datetime(2020, 12, 6, 22, 29, 10, 656000): 2,\n",
       " datetime.datetime(2020, 12, 6, 22, 29, 11, 330000): 3,\n",
       " datetime.datetime(2020, 12, 6, 22, 29, 11, 347000): 4,\n",
       " datetime.datetime(2020, 12, 6, 22, 29, 11, 366000): 5,\n",
       " datetime.datetime(2020, 12, 6, 22, 29, 11, 667000): 4,\n",
       " datetime.datetime(2020, 12, 6, 22, 29, 12, 337000): 5,\n",
       " datetime.datetime(2020, 12, 6, 22, 29, 12, 678000): 5,\n",
       " datetime.datetime(2020, 12, 6, 22, 29, 13, 685000): 4,\n",
       " datetime.datetime(2020, 12, 6, 22, 29, 13, 691000): 3,\n",
       " datetime.datetime(2020, 12, 6, 22, 29, 13, 692000): 3,\n",
       " datetime.datetime(2020, 12, 6, 22, 29, 13, 717000): 3,\n",
       " datetime.datetime(2020, 12, 6, 22, 29, 13, 718000): 3,\n",
       " datetime.datetime(2020, 12, 6, 22, 29, 14, 344000): 4,\n",
       " datetime.datetime(2020, 12, 6, 22, 29, 14, 370000): 5,\n",
       " datetime.datetime(2020, 12, 6, 22, 29, 14, 729000): 4,\n",
       " datetime.datetime(2020, 12, 6, 22, 29, 14, 748000): 3,\n",
       " datetime.datetime(2020, 12, 6, 22, 29, 14, 749000): 3,\n",
       " datetime.datetime(2020, 12, 6, 22, 29, 15, 358000): 4,\n",
       " datetime.datetime(2020, 12, 6, 22, 29, 15, 383000): 5,\n",
       " datetime.datetime(2020, 12, 6, 22, 29, 15, 758000): 4,\n",
       " datetime.datetime(2020, 12, 6, 22, 29, 15, 759000): 3,\n",
       " datetime.datetime(2020, 12, 6, 22, 29, 15, 777000): 3,\n",
       " datetime.datetime(2020, 12, 6, 22, 29, 15, 778000): 3,\n",
       " datetime.datetime(2020, 12, 6, 22, 29, 16, 364000): 4,\n",
       " datetime.datetime(2020, 12, 6, 22, 29, 16, 383000): 5,\n",
       " datetime.datetime(2020, 12, 6, 22, 29, 16, 787000): 4,\n",
       " datetime.datetime(2020, 12, 6, 22, 29, 16, 788000): 4,\n",
       " datetime.datetime(2020, 12, 6, 22, 29, 17, 373000): 5,\n",
       " datetime.datetime(2020, 12, 6, 22, 29, 17, 798000): 5,\n",
       " datetime.datetime(2020, 12, 6, 22, 29, 18, 805000): 4,\n",
       " datetime.datetime(2020, 12, 6, 22, 29, 18, 818000): 3,\n",
       " datetime.datetime(2020, 12, 6, 22, 29, 18, 819000): 3,\n",
       " datetime.datetime(2020, 12, 6, 22, 29, 18, 849000): 2,\n",
       " datetime.datetime(2020, 12, 6, 22, 29, 18, 856000): 2,\n",
       " datetime.datetime(2020, 12, 6, 22, 29, 19, 386000): 3,\n",
       " datetime.datetime(2020, 12, 6, 22, 29, 19, 422000): 4,\n",
       " datetime.datetime(2020, 12, 6, 22, 29, 19, 440000): 5,\n",
       " datetime.datetime(2020, 12, 6, 22, 29, 19, 862000): 4,\n",
       " datetime.datetime(2020, 12, 6, 22, 29, 19, 881000): 3,\n",
       " datetime.datetime(2020, 12, 6, 22, 29, 19, 882000): 3,\n",
       " datetime.datetime(2020, 12, 6, 22, 29, 20, 400000): 4,\n",
       " datetime.datetime(2020, 12, 6, 22, 29, 20, 424000): 5,\n",
       " datetime.datetime(2020, 12, 6, 22, 29, 20, 892000): 4,\n",
       " datetime.datetime(2020, 12, 6, 22, 29, 20, 898000): 3,\n",
       " datetime.datetime(2020, 12, 6, 22, 29, 20, 899000): 3,\n",
       " datetime.datetime(2020, 12, 6, 22, 29, 21, 400000): 4,\n",
       " datetime.datetime(2020, 12, 6, 22, 29, 21, 425000): 5,\n",
       " datetime.datetime(2020, 12, 6, 22, 29, 21, 908000): 5,\n",
       " datetime.datetime(2020, 12, 6, 22, 29, 22, 915000): 4,\n",
       " datetime.datetime(2020, 12, 6, 22, 29, 22, 916000): 3,\n",
       " datetime.datetime(2020, 12, 6, 22, 29, 22, 922000): 2,\n",
       " datetime.datetime(2020, 12, 6, 22, 29, 22, 941000): 1,\n",
       " datetime.datetime(2020, 12, 6, 22, 29, 22, 942000): 1,\n",
       " datetime.datetime(2020, 12, 6, 22, 29, 22, 954000): 1,\n",
       " datetime.datetime(2020, 12, 6, 22, 29, 22, 955000): 1,\n",
       " datetime.datetime(2020, 12, 6, 22, 29, 23, 407000): 2,\n",
       " datetime.datetime(2020, 12, 6, 22, 29, 23, 425000): 3,\n",
       " datetime.datetime(2020, 12, 6, 22, 29, 23, 444000): 4,\n",
       " datetime.datetime(2020, 12, 6, 22, 29, 23, 461000): 5,\n",
       " datetime.datetime(2020, 12, 6, 22, 29, 23, 963000): 4,\n",
       " datetime.datetime(2020, 12, 6, 22, 29, 23, 975000): 4,\n",
       " datetime.datetime(2020, 12, 6, 22, 29, 24, 418000): 5,\n",
       " datetime.datetime(2020, 12, 6, 22, 29, 24, 984000): 4,\n",
       " datetime.datetime(2020, 12, 6, 22, 29, 25, 1000): 3,\n",
       " datetime.datetime(2020, 12, 6, 22, 29, 25, 2000): 3,\n",
       " datetime.datetime(2020, 12, 6, 22, 29, 25, 3000): 3,\n",
       " datetime.datetime(2020, 12, 6, 22, 29, 25, 413000): 4,\n",
       " datetime.datetime(2020, 12, 6, 22, 29, 25, 431000): 5,\n",
       " datetime.datetime(2020, 12, 6, 22, 29, 26, 8000): 4,\n",
       " datetime.datetime(2020, 12, 6, 22, 29, 26, 9000): 4,\n",
       " datetime.datetime(2020, 12, 6, 22, 29, 26, 432000): 5,\n",
       " datetime.datetime(2020, 12, 6, 22, 29, 27, 18000): 4,\n",
       " datetime.datetime(2020, 12, 6, 22, 29, 27, 46000): 3,\n",
       " datetime.datetime(2020, 12, 6, 22, 29, 27, 47000): 3,\n",
       " datetime.datetime(2020, 12, 6, 22, 29, 27, 64000): 3,\n",
       " datetime.datetime(2020, 12, 6, 22, 29, 27, 65000): 3,\n",
       " datetime.datetime(2020, 12, 6, 22, 29, 27, 434000): 4,\n",
       " datetime.datetime(2020, 12, 6, 22, 29, 27, 452000): 5,\n",
       " datetime.datetime(2020, 12, 6, 22, 29, 28, 72000): 4,\n",
       " datetime.datetime(2020, 12, 6, 22, 29, 28, 77000): 3,\n",
       " datetime.datetime(2020, 12, 6, 22, 29, 28, 78000): 3,\n",
       " datetime.datetime(2020, 12, 6, 22, 29, 28, 442000): 4,\n",
       " datetime.datetime(2020, 12, 6, 22, 29, 28, 460000): 5,\n",
       " datetime.datetime(2020, 12, 6, 22, 29, 29, 86000): 4,\n",
       " datetime.datetime(2020, 12, 6, 22, 29, 29, 96000): 3,\n",
       " datetime.datetime(2020, 12, 6, 22, 29, 29, 97000): 3,\n",
       " datetime.datetime(2020, 12, 6, 22, 29, 29, 98000): 3,\n",
       " datetime.datetime(2020, 12, 6, 22, 29, 29, 448000): 4,\n",
       " datetime.datetime(2020, 12, 6, 22, 29, 29, 474000): 5,\n",
       " datetime.datetime(2020, 12, 6, 22, 29, 30, 105000): 5,\n",
       " datetime.datetime(2020, 12, 6, 22, 29, 31, 120000): 4,\n",
       " datetime.datetime(2020, 12, 6, 22, 29, 31, 133000): 4,\n",
       " datetime.datetime(2020, 12, 6, 22, 29, 31, 134000): 4,\n",
       " datetime.datetime(2020, 12, 6, 22, 29, 31, 469000): 5,\n",
       " datetime.datetime(2020, 12, 6, 22, 29, 32, 140000): 4,\n",
       " datetime.datetime(2020, 12, 6, 22, 29, 32, 146000): 4,\n",
       " datetime.datetime(2020, 12, 6, 22, 29, 32, 147000): 4,\n",
       " datetime.datetime(2020, 12, 6, 22, 29, 32, 465000): 5,\n",
       " datetime.datetime(2020, 12, 6, 22, 29, 33, 153000): 4,\n",
       " datetime.datetime(2020, 12, 6, 22, 29, 33, 165000): 4,\n",
       " datetime.datetime(2020, 12, 6, 22, 29, 33, 166000): 4,\n",
       " datetime.datetime(2020, 12, 6, 22, 29, 33, 468000): 5,\n",
       " datetime.datetime(2020, 12, 6, 22, 29, 34, 172000): 4,\n",
       " datetime.datetime(2020, 12, 6, 22, 29, 34, 184000): 3,\n",
       " datetime.datetime(2020, 12, 6, 22, 29, 34, 185000): 3,\n",
       " datetime.datetime(2020, 12, 6, 22, 29, 34, 191000): 3,\n",
       " datetime.datetime(2020, 12, 6, 22, 29, 34, 192000): 3,\n",
       " datetime.datetime(2020, 12, 6, 22, 29, 34, 478000): 4,\n",
       " datetime.datetime(2020, 12, 6, 22, 29, 34, 497000): 5,\n",
       " datetime.datetime(2020, 12, 6, 22, 29, 35, 200000): 4,\n",
       " datetime.datetime(2020, 12, 6, 22, 29, 35, 201000): 4,\n",
       " datetime.datetime(2020, 12, 6, 22, 29, 35, 480000): 5,\n",
       " datetime.datetime(2020, 12, 6, 22, 29, 36, 207000): 3,\n",
       " datetime.datetime(2020, 12, 6, 22, 29, 36, 208000): 3,\n",
       " datetime.datetime(2020, 12, 6, 22, 29, 36, 220000): 3,\n",
       " datetime.datetime(2020, 12, 6, 22, 29, 36, 221000): 3,\n",
       " datetime.datetime(2020, 12, 6, 22, 29, 36, 487000): 4,\n",
       " datetime.datetime(2020, 12, 6, 22, 29, 36, 506000): 5,\n",
       " datetime.datetime(2020, 12, 6, 22, 29, 37, 227000): 4,\n",
       " datetime.datetime(2020, 12, 6, 22, 29, 37, 228000): 4,\n",
       " datetime.datetime(2020, 12, 6, 22, 29, 37, 497000): 5,\n",
       " datetime.datetime(2020, 12, 6, 22, 29, 38, 237000): 4,\n",
       " datetime.datetime(2020, 12, 6, 22, 29, 38, 243000): 4,\n",
       " datetime.datetime(2020, 12, 6, 22, 29, 38, 244000): 4,\n",
       " datetime.datetime(2020, 12, 6, 22, 29, 38, 505000): 5,\n",
       " datetime.datetime(2020, 12, 6, 22, 29, 39, 250000): 4,\n",
       " datetime.datetime(2020, 12, 6, 22, 29, 39, 262000): 3,\n",
       " datetime.datetime(2020, 12, 6, 22, 29, 39, 263000): 3,\n",
       " datetime.datetime(2020, 12, 6, 22, 29, 39, 270000): 3,\n",
       " datetime.datetime(2020, 12, 6, 22, 29, 40, 281000): 2,\n",
       " datetime.datetime(2020, 12, 6, 22, 29, 41, 290000): 1,\n",
       " datetime.datetime(2020, 12, 6, 22, 29, 41, 303000): 0,\n",
       " datetime.datetime(2020, 12, 6, 22, 29, 41, 304000): 0,\n",
       " datetime.datetime(2020, 12, 6, 22, 29, 41, 310000): 0,\n",
       " datetime.datetime(2020, 12, 6, 22, 29, 42, 321000): 0,\n",
       " datetime.datetime(2020, 12, 6, 22, 29, 43, 330000): 0,\n",
       " datetime.datetime(2020, 12, 6, 22, 29, 44, 337000): 0,\n",
       " datetime.datetime(2020, 12, 6, 22, 29, 45, 347000): 0,\n",
       " datetime.datetime(2020, 12, 6, 22, 29, 46, 365000): 0,\n",
       " datetime.datetime(2020, 12, 6, 22, 29, 47, 372000): 0,\n",
       " datetime.datetime(2020, 12, 6, 22, 29, 48, 389000): 0,\n",
       " datetime.datetime(2020, 12, 6, 22, 29, 49, 400000): 0,\n",
       " datetime.datetime(2020, 12, 6, 22, 29, 50, 407000): 0,\n",
       " datetime.datetime(2020, 12, 6, 22, 29, 51, 419000): 0,\n",
       " datetime.datetime(2020, 12, 6, 22, 29, 52, 426000): 0,\n",
       " datetime.datetime(2020, 12, 6, 22, 29, 53, 441000): 0,\n",
       " datetime.datetime(2020, 12, 6, 22, 29, 54, 449000): 0,\n",
       " datetime.datetime(2020, 12, 6, 22, 29, 55, 455000): 0,\n",
       " datetime.datetime(2020, 12, 6, 22, 29, 56, 465000): 0,\n",
       " datetime.datetime(2020, 12, 6, 22, 29, 57, 471000): 0,\n",
       " datetime.datetime(2020, 12, 6, 22, 29, 58, 479000): 0,\n",
       " datetime.datetime(2020, 12, 6, 22, 29, 59, 488000): 0}"
      ]
     },
     "execution_count": 163,
     "metadata": {},
     "output_type": "execute_result"
    }
   ],
   "source": [
    "ts_tasks_1"
   ]
  },
  {
   "cell_type": "code",
   "execution_count": 164,
   "metadata": {},
   "outputs": [
    {
     "data": {
      "image/png": "[encoded data removed]",
      "text/plain": [
       "<Figure size 432x288 with 1 Axes>"
      ]
     },
     "metadata": {
      "needs_background": "light"
     },
     "output_type": "display_data"
    }
   ],
   "source": [
    "dates1 = matplotlib.dates.date2num(list(ts_tasks_1.keys()))\n",
    "dates2 = matplotlib.dates.date2num(list(ts_tasks_2.keys()))\n",
    "dates3 = matplotlib.dates.date2num(list(ts_tasks_3.keys()))\n",
    "fig, ax = plt.subplots(1)\n",
    "fig.autofmt_xdate()\n",
    "plt.plot(dates1, list(ts_tasks_1.values()), label = 'worker1')\n",
    "plt.plot(dates2, list(ts_tasks_2.values()), label = 'worker2')\n",
    "plt.plot(dates3, list(ts_tasks_3.values()), label = 'worker3')\n",
    "plt.legend(loc=\"upper left\")\n",
    "xfmt = mdates.DateFormatter('%M:%S')\n",
    "ax.xaxis.set_major_formatter(xfmt)\n",
    "plt.savefig(f'{policy}_50_worker_task_spread.png')"
   ]
  },
  {
   "cell_type": "code",
   "execution_count": 42,
   "metadata": {},
   "outputs": [
    {
     "data": {
      "text/plain": [
       "[<matplotlib.lines.Line2D at 0x11a705ac0>]"
      ]
     },
     "execution_count": 42,
     "metadata": {},
     "output_type": "execute_result"
    },
    {
     "data": {
      "image/png": "[encoded data removed]",
      "text/plain": [
       "<Figure size 432x288 with 1 Axes>"
      ]
     },
     "metadata": {
      "needs_background": "light"
     },
     "output_type": "display_data"
    }
   ],
   "source": [
    "plt.plot(dates2, list(ts_tasks_2.values()))"
   ]
  },
  {
   "cell_type": "code",
   "execution_count": 43,
   "metadata": {},
   "outputs": [
    {
     "data": {
      "text/plain": [
       "[<matplotlib.lines.Line2D at 0x11a766df0>]"
      ]
     },
     "execution_count": 43,
     "metadata": {},
     "output_type": "execute_result"
    },
    {
     "data": {
      "image/png": "[encoded data removed]",
      "text/plain": [
       "<Figure size 432x288 with 1 Axes>"
      ]
     },
     "metadata": {
      "needs_background": "light"
     },
     "output_type": "display_data"
    }
   ],
   "source": [
    "plt.plot(dates3, list(ts_tasks_3.values()))"
   ]
  },
  {
   "cell_type": "code",
   "execution_count": null,
   "metadata": {},
   "outputs": [],
   "source": []
  },
  {
   "cell_type": "code",
   "execution_count": null,
   "metadata": {},
   "outputs": [],
   "source": []
  }
 ],
 "metadata": {
  "kernelspec": {
   "display_name": "Python 3",
   "language": "python",
   "name": "python3"
  },
  "language_info": {
   "codemirror_mode": {
    "name": "ipython",
    "version": 3
   },
   "file_extension": ".py",
   "mimetype": "text/x-python",
   "name": "python",
   "nbconvert_exporter": "python",
   "pygments_lexer": "ipython3",
   "version": "3.8.6"
  }
 },
 "nbformat": 4,
 "nbformat_minor": 4
}
