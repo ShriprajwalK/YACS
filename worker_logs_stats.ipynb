{
 "cells": [
  {
   "cell_type": "code",
   "execution_count": 171,
   "metadata": {},
   "outputs": [],
   "source": [
    "import matplotlib\n",
    "import matplotlib.pyplot as plt\n",
    "import numpy as np\n",
    "import json\n",
    "import datetime\n",
    "import matplotlib.dates as mdates\n"
   ]
  },
  {
   "cell_type": "code",
   "execution_count": 146,
   "metadata": {},
   "outputs": [],
   "source": [
    "policy = 'LL'\n",
    "logs1 = []\n",
    "logs2 = []\n",
    "logs3 = []\n",
    "with open(f'YACS/worker/log_worker_1_{policy}.log') as f1, open(f'YACS/worker/log_worker_2_{policy}.log') as f2, open(f'YACS/worker/log_worker_3_{policy}.log') as f3:\n",
    "    logs1 = f1.readlines()\n",
    "    logs2 = f2.readlines()\n",
    "    logs3 = f3.readlines()\n"
   ]
  },
  {
   "cell_type": "code",
   "execution_count": 147,
   "metadata": {},
   "outputs": [
    {
     "data": {
      "text/plain": [
       "['2020-12-05 11:37:35,855 %number of tasks running=% 0 %tasks completed=%0\\n',\n",
       " '2020-12-05 11:37:36,867 %number of tasks running=% 0 %tasks completed=%0\\n',\n",
       " '2020-12-05 11:37:37,873 %number of tasks running=% 0 %tasks completed=%0\\n',\n",
       " '2020-12-05 11:37:38,886 %number of tasks running=% 0 %tasks completed=%0\\n',\n",
       " '2020-12-05 11:37:39,901 %number of tasks running=% 0 %tasks completed=%0\\n',\n",
       " '2020-12-05 11:37:40,916 %number of tasks running=% 0 %tasks completed=%0\\n',\n",
       " '2020-12-05 11:37:41,933 %number of tasks running=% 0 %tasks completed=%0\\n',\n",
       " '2020-12-05 11:37:42,947 %number of tasks running=% 0 %tasks completed=%0\\n',\n",
       " '2020-12-05 11:37:43,963 %number of tasks running=% 0 %tasks completed=%0\\n',\n",
       " '2020-12-05 11:37:44,980 %number of tasks running=% 0 %tasks completed=%0\\n',\n",
       " '2020-12-05 11:37:45,646 %TASK RECEIVED%{\"task_id\": \"1_M0\", \"duration\": 3, \"status\": 1}\\n',\n",
       " '2020-12-05 11:37:45,994 %number of tasks running=% 1 %tasks completed=%0\\n',\n",
       " '2020-12-05 11:37:46,996 %TASK RECEIVED%{\"task_id\": \"2_M1\", \"duration\": 2, \"status\": 1}\\n',\n",
       " '2020-12-05 11:37:47,008 %number of tasks running=% 2 %tasks completed=%0\\n',\n",
       " '2020-12-05 11:37:47,206 %TASK RECEIVED%{\"task_id\": \"3_M0\", \"duration\": 1, \"status\": 1}\\n',\n",
       " \"2020-12-05 11:37:48,019 %TASK COMPLETED%{'task_id': '1_M0', 'duration': 0, 'status': 2}\\n\",\n",
       " \"2020-12-05 11:37:48,031 %TASK COMPLETED%{'task_id': '2_M1', 'duration': 0, 'status': 2}\\n\",\n",
       " \"2020-12-05 11:37:48,032 %TASK COMPLETED%{'task_id': '3_M0', 'duration': 0, 'status': 2}\\n\",\n",
       " '2020-12-05 11:37:48,032 %number of tasks running=% 0 %tasks completed=%3\\n',\n",
       " '2020-12-05 11:37:48,032 %MESSAGE TO MASTER b\\'{\"task_id\": \"1_M0\", \"duration\": 0, \"status\": 2, \"worker_id\": 1}\\'\\n',\n",
       " '2020-12-05 11:37:48,033 %MESSAGE TO MASTER b\\'{\"task_id\": \"2_M1\", \"duration\": 0, \"status\": 2, \"worker_id\": 1}\\'\\n',\n",
       " '2020-12-05 11:37:48,033 %MESSAGE TO MASTER b\\'{\"task_id\": \"3_M0\", \"duration\": 0, \"status\": 2, \"worker_id\": 1}\\'\\n',\n",
       " '2020-12-05 11:37:48,133 %TASK RECEIVED%{\"task_id\": \"0_R0\", \"duration\": 1, \"status\": 0}\\n',\n",
       " '2020-12-05 11:37:48,151 %TASK RECEIVED%{\"task_id\": \"1_R0\", \"duration\": 2, \"status\": 0}\\n',\n",
       " '2020-12-05 11:37:48,169 %TASK RECEIVED%{\"task_id\": \"1_R1\", \"duration\": 2, \"status\": 0}\\n',\n",
       " \"2020-12-05 11:37:49,041 %TASK COMPLETED%{'task_id': '0_R0', 'duration': 0, 'status': 2}\\n\",\n",
       " '2020-12-05 11:37:49,047 %number of tasks running=% 2 %tasks completed=%4\\n',\n",
       " '2020-12-05 11:37:49,048 %MESSAGE TO MASTER b\\'{\"task_id\": \"0_R0\", \"duration\": 0, \"status\": 2, \"worker_id\": 1}\\'\\n',\n",
       " \"2020-12-05 11:37:50,055 %TASK COMPLETED%{'task_id': '1_R0', 'duration': 0, 'status': 2}\\n\",\n",
       " \"2020-12-05 11:37:50,091 %TASK COMPLETED%{'task_id': '1_R1', 'duration': 0, 'status': 2}\\n\",\n",
       " '2020-12-05 11:37:50,092 %MESSAGE TO MASTER b\\'{\"task_id\": \"1_R0\", \"duration\": 0, \"status\": 2, \"worker_id\": 1}\\'\\n',\n",
       " '2020-12-05 11:37:50,098 %number of tasks running=% 0 %tasks completed=%6\\n',\n",
       " '2020-12-05 11:37:50,098 %MESSAGE TO MASTER b\\'{\"task_id\": \"1_R1\", \"duration\": 0, \"status\": 2, \"worker_id\": 1}\\'\\n',\n",
       " '2020-12-05 11:37:50,172 %TASK RECEIVED%{\"task_id\": \"5_M0\", \"duration\": 2, \"status\": 1}\\n',\n",
       " '2020-12-05 11:37:50,184 %TASK RECEIVED%{\"task_id\": \"2_R1\", \"duration\": 1, \"status\": 0}\\n',\n",
       " '2020-12-05 11:37:50,207 %TASK RECEIVED%{\"task_id\": \"5_M2\", \"duration\": 1, \"status\": 1}\\n',\n",
       " \"2020-12-05 11:37:51,103 %TASK COMPLETED%{'task_id': '2_R1', 'duration': 0, 'status': 2}\\n\",\n",
       " \"2020-12-05 11:37:51,109 %TASK COMPLETED%{'task_id': '5_M2', 'duration': 0, 'status': 2}\\n\",\n",
       " '2020-12-05 11:37:51,110 %MESSAGE TO MASTER b\\'{\"task_id\": \"2_R1\", \"duration\": 0, \"status\": 2, \"worker_id\": 1}\\'\\n',\n",
       " '2020-12-05 11:37:51,121 %number of tasks running=% 1 %tasks completed=%8\\n',\n",
       " '2020-12-05 11:37:51,122 %MESSAGE TO MASTER b\\'{\"task_id\": \"5_M2\", \"duration\": 0, \"status\": 2, \"worker_id\": 1}\\'\\n',\n",
       " '2020-12-05 11:37:51,193 %TASK RECEIVED%{\"task_id\": \"4_R1\", \"duration\": 4, \"status\": 0}\\n',\n",
       " \"2020-12-05 11:37:52,129 %TASK COMPLETED%{'task_id': '5_M0', 'duration': 0, 'status': 2}\\n\",\n",
       " '2020-12-05 11:37:52,141 %number of tasks running=% 1 %tasks completed=%9\\n',\n",
       " '2020-12-05 11:37:52,142 %MESSAGE TO MASTER b\\'{\"task_id\": \"5_M0\", \"duration\": 0, \"status\": 2, \"worker_id\": 1}\\'\\n',\n",
       " '2020-12-05 11:37:52,419 %TASK RECEIVED%{\"task_id\": \"6_M0\", \"duration\": 4, \"status\": 1}\\n',\n",
       " '2020-12-05 11:37:52,629 %TASK RECEIVED%{\"task_id\": \"7_M0\", \"duration\": 2, \"status\": 1}\\n',\n",
       " '2020-12-05 11:37:52,829 %TASK RECEIVED%{\"task_id\": \"8_M0\", \"duration\": 2, \"status\": 1}\\n',\n",
       " '2020-12-05 11:37:52,847 %TASK RECEIVED%{\"task_id\": \"8_M2\", \"duration\": 3, \"status\": 1}\\n',\n",
       " '2020-12-05 11:37:53,147 %number of tasks running=% 5 %tasks completed=%9\\n',\n",
       " \"2020-12-05 11:37:54,156 %TASK COMPLETED%{'task_id': '7_M0', 'duration': 0, 'status': 2}\\n\",\n",
       " \"2020-12-05 11:37:54,189 %TASK COMPLETED%{'task_id': '8_M0', 'duration': 0, 'status': 2}\\n\",\n",
       " '2020-12-05 11:37:54,191 %MESSAGE TO MASTER b\\'{\"task_id\": \"7_M0\", \"duration\": 0, \"status\": 2, \"worker_id\": 1}\\'\\n',\n",
       " '2020-12-05 11:37:54,201 %number of tasks running=% 3 %tasks completed=%11\\n',\n",
       " '2020-12-05 11:37:54,202 %MESSAGE TO MASTER b\\'{\"task_id\": \"8_M0\", \"duration\": 0, \"status\": 2, \"worker_id\": 1}\\'\\n',\n",
       " '2020-12-05 11:37:54,452 %TASK RECEIVED%{\"task_id\": \"11_M1\", \"duration\": 1, \"status\": 1}\\n',\n",
       " '2020-12-05 11:37:54,477 %TASK RECEIVED%{\"task_id\": \"11_M2\", \"duration\": 1, \"status\": 1}\\n',\n",
       " \"2020-12-05 11:37:55,211 %TASK COMPLETED%{'task_id': '4_R1', 'duration': 0, 'status': 2}\\n\",\n",
       " \"2020-12-05 11:37:55,228 %TASK COMPLETED%{'task_id': '8_M2', 'duration': 0, 'status': 2}\\n\",\n",
       " '2020-12-05 11:37:55,229 %MESSAGE TO MASTER b\\'{\"task_id\": \"4_R1\", \"duration\": 0, \"status\": 2, \"worker_id\": 1}\\'\\n',\n",
       " \"2020-12-05 11:37:55,235 %TASK COMPLETED%{'task_id': '11_M1', 'duration': 0, 'status': 2}\\n\",\n",
       " '2020-12-05 11:37:55,236 %MESSAGE TO MASTER b\\'{\"task_id\": \"8_M2\", \"duration\": 0, \"status\": 2, \"worker_id\": 1}\\'\\n',\n",
       " \"2020-12-05 11:37:55,236 %TASK COMPLETED%{'task_id': '11_M2', 'duration': 0, 'status': 2}\\n\",\n",
       " '2020-12-05 11:37:55,239 %MESSAGE TO MASTER b\\'{\"task_id\": \"11_M1\", \"duration\": 0, \"status\": 2, \"worker_id\": 1}\\'\\n',\n",
       " '2020-12-05 11:37:55,239 %number of tasks running=% 1 %tasks completed=%15\\n',\n",
       " '2020-12-05 11:37:55,241 %MESSAGE TO MASTER b\\'{\"task_id\": \"11_M2\", \"duration\": 0, \"status\": 2, \"worker_id\": 1}\\'\\n',\n",
       " '2020-12-05 11:37:55,454 %TASK RECEIVED%{\"task_id\": \"13_M0\", \"duration\": 2, \"status\": 1}\\n',\n",
       " '2020-12-05 11:37:55,478 %TASK RECEIVED%{\"task_id\": \"7_R0\", \"duration\": 3, \"status\": 0}\\n',\n",
       " '2020-12-05 11:37:55,495 %TASK RECEIVED%{\"task_id\": \"8_R0\", \"duration\": 1, \"status\": 0}\\n',\n",
       " '2020-12-05 11:37:55,515 %TASK RECEIVED%{\"task_id\": \"10_R1\", \"duration\": 3, \"status\": 0}\\n',\n",
       " \"2020-12-05 11:37:56,246 %TASK COMPLETED%{'task_id': '6_M0', 'duration': 0, 'status': 2}\\n\",\n",
       " \"2020-12-05 11:37:56,246 %TASK COMPLETED%{'task_id': '8_R0', 'duration': 0, 'status': 2}\\n\",\n",
       " '2020-12-05 11:37:56,247 %MESSAGE TO MASTER b\\'{\"task_id\": \"6_M0\", \"duration\": 0, \"status\": 2, \"worker_id\": 1}\\'\\n',\n",
       " '2020-12-05 11:37:56,259 %number of tasks running=% 3 %tasks completed=%17\\n',\n",
       " '2020-12-05 11:37:56,260 %MESSAGE TO MASTER b\\'{\"task_id\": \"8_R0\", \"duration\": 0, \"status\": 2, \"worker_id\": 1}\\'\\n',\n",
       " '2020-12-05 11:37:56,671 %TASK RECEIVED%{\"task_id\": \"6_R1\", \"duration\": 4, \"status\": 0}\\n',\n",
       " '2020-12-05 11:37:56,684 %TASK RECEIVED%{\"task_id\": \"9_R1\", \"duration\": 3, \"status\": 0}\\n',\n",
       " \"2020-12-05 11:37:57,267 %TASK COMPLETED%{'task_id': '13_M0', 'duration': 0, 'status': 2}\\n\",\n",
       " '2020-12-05 11:37:57,279 %number of tasks running=% 4 %tasks completed=%18\\n',\n",
       " '2020-12-05 11:37:57,280 %MESSAGE TO MASTER b\\'{\"task_id\": \"13_M0\", \"duration\": 0, \"status\": 2, \"worker_id\": 1}\\'\\n',\n",
       " '2020-12-05 11:37:57,891 %TASK RECEIVED%{\"task_id\": \"13_R0\", \"duration\": 4, \"status\": 0}\\n',\n",
       " \"2020-12-05 11:37:58,290 %TASK COMPLETED%{'task_id': '7_R0', 'duration': 0, 'status': 2}\\n\",\n",
       " \"2020-12-05 11:37:58,290 %TASK COMPLETED%{'task_id': '10_R1', 'duration': 0, 'status': 2}\\n\",\n",
       " '2020-12-05 11:37:58,290 %MESSAGE TO MASTER b\\'{\"task_id\": \"7_R0\", \"duration\": 0, \"status\": 2, \"worker_id\": 1}\\'\\n',\n",
       " '2020-12-05 11:37:58,296 %number of tasks running=% 3 %tasks completed=%20\\n',\n",
       " '2020-12-05 11:37:58,296 %MESSAGE TO MASTER b\\'{\"task_id\": \"10_R1\", \"duration\": 0, \"status\": 2, \"worker_id\": 1}\\'\\n',\n",
       " '2020-12-05 11:37:58,894 %TASK RECEIVED%{\"task_id\": \"16_M2\", \"duration\": 4, \"status\": 1}\\n',\n",
       " '2020-12-05 11:37:58,912 %TASK RECEIVED%{\"task_id\": \"18_M0\", \"duration\": 3, \"status\": 1}\\n',\n",
       " \"2020-12-05 11:37:59,302 %TASK COMPLETED%{'task_id': '9_R1', 'duration': 0, 'status': 2}\\n\",\n",
       " '2020-12-05 11:37:59,315 %number of tasks running=% 4 %tasks completed=%21\\n',\n",
       " '2020-12-05 11:37:59,316 %MESSAGE TO MASTER b\\'{\"task_id\": \"9_R1\", \"duration\": 0, \"status\": 2, \"worker_id\": 1}\\'\\n',\n",
       " '2020-12-05 11:37:59,900 %TASK RECEIVED%{\"task_id\": \"11_R1\", \"duration\": 3, \"status\": 0}\\n',\n",
       " \"2020-12-05 11:38:00,321 %TASK COMPLETED%{'task_id': '6_R1', 'duration': 0, 'status': 2}\\n\",\n",
       " '2020-12-05 11:38:00,334 %number of tasks running=% 4 %tasks completed=%22\\n',\n",
       " '2020-12-05 11:38:00,335 %MESSAGE TO MASTER b\\'{\"task_id\": \"6_R1\", \"duration\": 0, \"status\": 2, \"worker_id\": 1}\\'\\n',\n",
       " '2020-12-05 11:38:00,910 %TASK RECEIVED%{\"task_id\": \"15_R0\", \"duration\": 4, \"status\": 0}\\n',\n",
       " \"2020-12-05 11:38:01,345 %TASK COMPLETED%{'task_id': '13_R0', 'duration': 0, 'status': 2}\\n\",\n",
       " \"2020-12-05 11:38:01,357 %TASK COMPLETED%{'task_id': '18_M0', 'duration': 0, 'status': 2}\\n\",\n",
       " '2020-12-05 11:38:01,358 %MESSAGE TO MASTER b\\'{\"task_id\": \"13_R0\", \"duration\": 0, \"status\": 2, \"worker_id\": 1}\\'\\n',\n",
       " '2020-12-05 11:38:01,364 %number of tasks running=% 3 %tasks completed=%24\\n',\n",
       " '2020-12-05 11:38:01,365 %MESSAGE TO MASTER b\\'{\"task_id\": \"18_M0\", \"duration\": 0, \"status\": 2, \"worker_id\": 1}\\'\\n',\n",
       " \"2020-12-05 11:38:02,375 %TASK COMPLETED%{'task_id': '16_M2', 'duration': 0, 'status': 2}\\n\",\n",
       " \"2020-12-05 11:38:02,376 %TASK COMPLETED%{'task_id': '11_R1', 'duration': 0, 'status': 2}\\n\",\n",
       " '2020-12-05 11:38:02,376 %MESSAGE TO MASTER b\\'{\"task_id\": \"16_M2\", \"duration\": 0, \"status\": 2, \"worker_id\": 1}\\'\\n',\n",
       " '2020-12-05 11:38:02,388 %number of tasks running=% 1 %tasks completed=%26\\n',\n",
       " '2020-12-05 11:38:02,388 %MESSAGE TO MASTER b\\'{\"task_id\": \"11_R1\", \"duration\": 0, \"status\": 2, \"worker_id\": 1}\\'\\n',\n",
       " '2020-12-05 11:38:02,449 %TASK RECEIVED%{\"task_id\": \"16_R1\", \"duration\": 3, \"status\": 0}\\n',\n",
       " '2020-12-05 11:38:02,471 %TASK RECEIVED%{\"task_id\": \"19_R1\", \"duration\": 3, \"status\": 0}\\n',\n",
       " '2020-12-05 11:38:03,398 %number of tasks running=% 3 %tasks completed=%26\\n',\n",
       " \"2020-12-05 11:38:04,405 %TASK COMPLETED%{'task_id': '15_R0', 'duration': 0, 'status': 2}\\n\",\n",
       " '2020-12-05 11:38:04,406 %number of tasks running=% 2 %tasks completed=%27\\n',\n",
       " '2020-12-05 11:38:04,406 %MESSAGE TO MASTER b\\'{\"task_id\": \"15_R0\", \"duration\": 0, \"status\": 2, \"worker_id\": 1}\\'\\n',\n",
       " \"2020-12-05 11:38:05,416 %TASK COMPLETED%{'task_id': '16_R1', 'duration': 0, 'status': 2}\\n\",\n",
       " \"2020-12-05 11:38:05,416 %TASK COMPLETED%{'task_id': '19_R1', 'duration': 0, 'status': 2}\\n\",\n",
       " '2020-12-05 11:38:05,417 %MESSAGE TO MASTER b\\'{\"task_id\": \"16_R1\", \"duration\": 0, \"status\": 2, \"worker_id\": 1}\\'\\n',\n",
       " '2020-12-05 11:38:05,429 %number of tasks running=% 0 %tasks completed=%29\\n',\n",
       " '2020-12-05 11:38:05,430 %MESSAGE TO MASTER b\\'{\"task_id\": \"19_R1\", \"duration\": 0, \"status\": 2, \"worker_id\": 1}\\'\\n',\n",
       " '2020-12-05 11:38:06,438 %number of tasks running=% 0 %tasks completed=%29\\n',\n",
       " '2020-12-05 11:38:07,445 %number of tasks running=% 0 %tasks completed=%29\\n',\n",
       " '2020-12-05 11:38:08,458 %number of tasks running=% 0 %tasks completed=%29\\n',\n",
       " '2020-12-05 11:38:09,475 %number of tasks running=% 0 %tasks completed=%29\\n']"
      ]
     },
     "execution_count": 147,
     "metadata": {},
     "output_type": "execute_result"
    }
   ],
   "source": [
    "logs1"
   ]
  },
  {
   "cell_type": "code",
   "execution_count": 148,
   "metadata": {},
   "outputs": [],
   "source": [
    "job_received_log = []\n",
    "job_completed_log = []"
   ]
  },
  {
   "cell_type": "code",
   "execution_count": 149,
   "metadata": {},
   "outputs": [],
   "source": [
    "for logs in [logs1, logs2, logs3]:\n",
    "    for log in logs:\n",
    "        log = log.split('%')\n",
    "        log[0] = log[0].strip()\n",
    "        if log[1] == 'TASK RECEIVED':\n",
    "            job_received_log.append(log)\n",
    "        elif log[1] == 'TASK COMPLETED':\n",
    "            job_completed_log.append(log)"
   ]
  },
  {
   "cell_type": "code",
   "execution_count": 150,
   "metadata": {},
   "outputs": [
    {
     "data": {
      "text/plain": [
       "[['2020-12-05 11:37:48,019',\n",
       "  'TASK COMPLETED',\n",
       "  \"{'task_id': '1_M0', 'duration': 0, 'status': 2}\\n\"],\n",
       " ['2020-12-05 11:37:48,031',\n",
       "  'TASK COMPLETED',\n",
       "  \"{'task_id': '2_M1', 'duration': 0, 'status': 2}\\n\"],\n",
       " ['2020-12-05 11:37:48,032',\n",
       "  'TASK COMPLETED',\n",
       "  \"{'task_id': '3_M0', 'duration': 0, 'status': 2}\\n\"],\n",
       " ['2020-12-05 11:37:49,041',\n",
       "  'TASK COMPLETED',\n",
       "  \"{'task_id': '0_R0', 'duration': 0, 'status': 2}\\n\"],\n",
       " ['2020-12-05 11:37:50,055',\n",
       "  'TASK COMPLETED',\n",
       "  \"{'task_id': '1_R0', 'duration': 0, 'status': 2}\\n\"],\n",
       " ['2020-12-05 11:37:50,091',\n",
       "  'TASK COMPLETED',\n",
       "  \"{'task_id': '1_R1', 'duration': 0, 'status': 2}\\n\"],\n",
       " ['2020-12-05 11:37:51,103',\n",
       "  'TASK COMPLETED',\n",
       "  \"{'task_id': '2_R1', 'duration': 0, 'status': 2}\\n\"],\n",
       " ['2020-12-05 11:37:51,109',\n",
       "  'TASK COMPLETED',\n",
       "  \"{'task_id': '5_M2', 'duration': 0, 'status': 2}\\n\"],\n",
       " ['2020-12-05 11:37:52,129',\n",
       "  'TASK COMPLETED',\n",
       "  \"{'task_id': '5_M0', 'duration': 0, 'status': 2}\\n\"],\n",
       " ['2020-12-05 11:37:54,156',\n",
       "  'TASK COMPLETED',\n",
       "  \"{'task_id': '7_M0', 'duration': 0, 'status': 2}\\n\"],\n",
       " ['2020-12-05 11:37:54,189',\n",
       "  'TASK COMPLETED',\n",
       "  \"{'task_id': '8_M0', 'duration': 0, 'status': 2}\\n\"],\n",
       " ['2020-12-05 11:37:55,211',\n",
       "  'TASK COMPLETED',\n",
       "  \"{'task_id': '4_R1', 'duration': 0, 'status': 2}\\n\"],\n",
       " ['2020-12-05 11:37:55,228',\n",
       "  'TASK COMPLETED',\n",
       "  \"{'task_id': '8_M2', 'duration': 0, 'status': 2}\\n\"],\n",
       " ['2020-12-05 11:37:55,235',\n",
       "  'TASK COMPLETED',\n",
       "  \"{'task_id': '11_M1', 'duration': 0, 'status': 2}\\n\"],\n",
       " ['2020-12-05 11:37:55,236',\n",
       "  'TASK COMPLETED',\n",
       "  \"{'task_id': '11_M2', 'duration': 0, 'status': 2}\\n\"],\n",
       " ['2020-12-05 11:37:56,246',\n",
       "  'TASK COMPLETED',\n",
       "  \"{'task_id': '6_M0', 'duration': 0, 'status': 2}\\n\"],\n",
       " ['2020-12-05 11:37:56,246',\n",
       "  'TASK COMPLETED',\n",
       "  \"{'task_id': '8_R0', 'duration': 0, 'status': 2}\\n\"],\n",
       " ['2020-12-05 11:37:57,267',\n",
       "  'TASK COMPLETED',\n",
       "  \"{'task_id': '13_M0', 'duration': 0, 'status': 2}\\n\"],\n",
       " ['2020-12-05 11:37:58,290',\n",
       "  'TASK COMPLETED',\n",
       "  \"{'task_id': '7_R0', 'duration': 0, 'status': 2}\\n\"],\n",
       " ['2020-12-05 11:37:58,290',\n",
       "  'TASK COMPLETED',\n",
       "  \"{'task_id': '10_R1', 'duration': 0, 'status': 2}\\n\"],\n",
       " ['2020-12-05 11:37:59,302',\n",
       "  'TASK COMPLETED',\n",
       "  \"{'task_id': '9_R1', 'duration': 0, 'status': 2}\\n\"],\n",
       " ['2020-12-05 11:38:00,321',\n",
       "  'TASK COMPLETED',\n",
       "  \"{'task_id': '6_R1', 'duration': 0, 'status': 2}\\n\"],\n",
       " ['2020-12-05 11:38:01,345',\n",
       "  'TASK COMPLETED',\n",
       "  \"{'task_id': '13_R0', 'duration': 0, 'status': 2}\\n\"],\n",
       " ['2020-12-05 11:38:01,357',\n",
       "  'TASK COMPLETED',\n",
       "  \"{'task_id': '18_M0', 'duration': 0, 'status': 2}\\n\"],\n",
       " ['2020-12-05 11:38:02,375',\n",
       "  'TASK COMPLETED',\n",
       "  \"{'task_id': '16_M2', 'duration': 0, 'status': 2}\\n\"],\n",
       " ['2020-12-05 11:38:02,376',\n",
       "  'TASK COMPLETED',\n",
       "  \"{'task_id': '11_R1', 'duration': 0, 'status': 2}\\n\"],\n",
       " ['2020-12-05 11:38:04,405',\n",
       "  'TASK COMPLETED',\n",
       "  \"{'task_id': '15_R0', 'duration': 0, 'status': 2}\\n\"],\n",
       " ['2020-12-05 11:38:05,416',\n",
       "  'TASK COMPLETED',\n",
       "  \"{'task_id': '16_R1', 'duration': 0, 'status': 2}\\n\"],\n",
       " ['2020-12-05 11:38:05,416',\n",
       "  'TASK COMPLETED',\n",
       "  \"{'task_id': '19_R1', 'duration': 0, 'status': 2}\\n\"],\n",
       " ['2020-12-05 11:37:47,008',\n",
       "  'TASK COMPLETED',\n",
       "  \"{'task_id': '0_M0', 'duration': 0, 'status': 2}\\n\"],\n",
       " ['2020-12-05 11:37:48,019',\n",
       "  'TASK COMPLETED',\n",
       "  \"{'task_id': '0_M1', 'duration': 0, 'status': 2}\\n\"],\n",
       " ['2020-12-05 11:37:49,047',\n",
       "  'TASK COMPLETED',\n",
       "  \"{'task_id': '2_M2', 'duration': 0, 'status': 2}\\n\"],\n",
       " ['2020-12-05 11:37:49,058',\n",
       "  'TASK COMPLETED',\n",
       "  \"{'task_id': '2_M3', 'duration': 0, 'status': 2}\\n\"],\n",
       " ['2020-12-05 11:37:50,068',\n",
       "  'TASK COMPLETED',\n",
       "  \"{'task_id': '2_M0', 'duration': 0, 'status': 2}\\n\"],\n",
       " ['2020-12-05 11:37:51,088',\n",
       "  'TASK COMPLETED',\n",
       "  \"{'task_id': '4_M0', 'duration': 0, 'status': 2}\\n\"],\n",
       " ['2020-12-05 11:37:51,094',\n",
       "  'TASK COMPLETED',\n",
       "  \"{'task_id': '3_R0', 'duration': 0, 'status': 2}\\n\"],\n",
       " ['2020-12-05 11:37:51,102',\n",
       "  'TASK COMPLETED',\n",
       "  \"{'task_id': '5_M3', 'duration': 0, 'status': 2}\\n\"],\n",
       " ['2020-12-05 11:37:53,135',\n",
       "  'TASK COMPLETED',\n",
       "  \"{'task_id': '5_M1', 'duration': 0, 'status': 2}\\n\"],\n",
       " ['2020-12-05 11:37:54,156',\n",
       "  'TASK COMPLETED',\n",
       "  \"{'task_id': '2_R0', 'duration': 0, 'status': 2}\\n\"],\n",
       " ['2020-12-05 11:37:55,174',\n",
       "  'TASK COMPLETED',\n",
       "  \"{'task_id': '4_R0', 'duration': 0, 'status': 2}\\n\"],\n",
       " ['2020-12-05 11:37:55,180',\n",
       "  'TASK COMPLETED',\n",
       "  \"{'task_id': '6_M1', 'duration': 0, 'status': 2}\\n\"],\n",
       " ['2020-12-05 11:37:55,181',\n",
       "  'TASK COMPLETED',\n",
       "  \"{'task_id': '7_M1', 'duration': 0, 'status': 2}\\n\"],\n",
       " ['2020-12-05 11:37:55,198',\n",
       "  'TASK COMPLETED',\n",
       "  \"{'task_id': '5_R0', 'duration': 0, 'status': 2}\\n\"],\n",
       " ['2020-12-05 11:37:55,204',\n",
       "  'TASK COMPLETED',\n",
       "  \"{'task_id': '10_M0', 'duration': 0, 'status': 2}\\n\"],\n",
       " ['2020-12-05 11:37:56,219',\n",
       "  'TASK COMPLETED',\n",
       "  \"{'task_id': '9_M0', 'duration': 0, 'status': 2}\\n\"],\n",
       " ['2020-12-05 11:37:56,226',\n",
       "  'TASK COMPLETED',\n",
       "  \"{'task_id': '12_M1', 'duration': 0, 'status': 2}\\n\"],\n",
       " ['2020-12-05 11:37:56,226',\n",
       "  'TASK COMPLETED',\n",
       "  \"{'task_id': '10_R0', 'duration': 0, 'status': 2}\\n\"],\n",
       " ['2020-12-05 11:37:56,233',\n",
       "  'TASK COMPLETED',\n",
       "  \"{'task_id': '14_M1', 'duration': 0, 'status': 2}\\n\"],\n",
       " ['2020-12-05 11:37:57,249',\n",
       "  'TASK COMPLETED',\n",
       "  \"{'task_id': '14_M0', 'duration': 0, 'status': 2}\\n\"],\n",
       " ['2020-12-05 11:37:57,250',\n",
       "  'TASK COMPLETED',\n",
       "  \"{'task_id': '7_R1', 'duration': 0, 'status': 2}\\n\"],\n",
       " ['2020-12-05 11:37:57,256',\n",
       "  'TASK COMPLETED',\n",
       "  \"{'task_id': '9_R0', 'duration': 0, 'status': 2}\\n\"],\n",
       " ['2020-12-05 11:37:58,267',\n",
       "  'TASK COMPLETED',\n",
       "  \"{'task_id': '11_M3', 'duration': 0, 'status': 2}\\n\"],\n",
       " ['2020-12-05 11:37:59,273',\n",
       "  'TASK COMPLETED',\n",
       "  \"{'task_id': '16_M0', 'duration': 0, 'status': 2}\\n\"],\n",
       " ['2020-12-05 11:38:00,309',\n",
       "  'TASK COMPLETED',\n",
       "  \"{'task_id': '15_M0', 'duration': 0, 'status': 2}\\n\"],\n",
       " ['2020-12-05 11:38:00,327',\n",
       "  'TASK COMPLETED',\n",
       "  \"{'task_id': '6_R0', 'duration': 0, 'status': 2}\\n\"],\n",
       " ['2020-12-05 11:38:00,341',\n",
       "  'TASK COMPLETED',\n",
       "  \"{'task_id': '15_M1', 'duration': 0, 'status': 2}\\n\"],\n",
       " ['2020-12-05 11:38:00,343',\n",
       "  'TASK COMPLETED',\n",
       "  \"{'task_id': '16_M1', 'duration': 0, 'status': 2}\\n\"],\n",
       " ['2020-12-05 11:38:01,363',\n",
       "  'TASK COMPLETED',\n",
       "  \"{'task_id': '17_M0', 'duration': 0, 'status': 2}\\n\"],\n",
       " ['2020-12-05 11:38:01,369',\n",
       "  'TASK COMPLETED',\n",
       "  \"{'task_id': '19_M1', 'duration': 0, 'status': 2}\\n\"],\n",
       " ['2020-12-05 11:38:01,370',\n",
       "  'TASK COMPLETED',\n",
       "  \"{'task_id': '19_M2', 'duration': 0, 'status': 2}\\n\"],\n",
       " ['2020-12-05 11:38:01,383',\n",
       "  'TASK COMPLETED',\n",
       "  \"{'task_id': '15_R1', 'duration': 0, 'status': 2}\\n\"],\n",
       " ['2020-12-05 11:38:02,399',\n",
       "  'TASK COMPLETED',\n",
       "  \"{'task_id': '19_M0', 'duration': 0, 'status': 2}\\n\"],\n",
       " ['2020-12-05 11:38:02,410',\n",
       "  'TASK COMPLETED',\n",
       "  \"{'task_id': '14_R0', 'duration': 0, 'status': 2}\\n\"],\n",
       " ['2020-12-05 11:38:03,421',\n",
       "  'TASK COMPLETED',\n",
       "  \"{'task_id': '19_R0', 'duration': 0, 'status': 2}\\n\"],\n",
       " ['2020-12-05 11:38:04,428',\n",
       "  'TASK COMPLETED',\n",
       "  \"{'task_id': '18_M1', 'duration': 0, 'status': 2}\\n\"],\n",
       " ['2020-12-05 11:38:05,436',\n",
       "  'TASK COMPLETED',\n",
       "  \"{'task_id': '17_R0', 'duration': 0, 'status': 2}\\n\"],\n",
       " ['2020-12-05 11:38:05,442',\n",
       "  'TASK COMPLETED',\n",
       "  \"{'task_id': '16_R0', 'duration': 0, 'status': 2}\\n\"],\n",
       " ['2020-12-05 11:38:07,464',\n",
       "  'TASK COMPLETED',\n",
       "  \"{'task_id': '18_R0', 'duration': 0, 'status': 2}\\n\"],\n",
       " ['2020-12-05 11:37:53,164',\n",
       "  'TASK COMPLETED',\n",
       "  \"{'task_id': '7_M2', 'duration': 0, 'status': 2}\\n\"],\n",
       " ['2020-12-05 11:37:54,173',\n",
       "  'TASK COMPLETED',\n",
       "  \"{'task_id': '11_M0', 'duration': 0, 'status': 2}\\n\"],\n",
       " ['2020-12-05 11:37:55,185',\n",
       "  'TASK COMPLETED',\n",
       "  \"{'task_id': '8_M1', 'duration': 0, 'status': 2}\\n\"],\n",
       " ['2020-12-05 11:37:57,226',\n",
       "  'TASK COMPLETED',\n",
       "  \"{'task_id': '5_R1', 'duration': 0, 'status': 2}\\n\"],\n",
       " ['2020-12-05 11:37:57,238',\n",
       "  'TASK COMPLETED',\n",
       "  \"{'task_id': '12_M0', 'duration': 0, 'status': 2}\\n\"],\n",
       " ['2020-12-05 11:37:58,248',\n",
       "  'TASK COMPLETED',\n",
       "  \"{'task_id': '14_M2', 'duration': 0, 'status': 2}\\n\"],\n",
       " ['2020-12-05 11:37:58,254',\n",
       "  'TASK COMPLETED',\n",
       "  \"{'task_id': '12_R0', 'duration': 0, 'status': 2}\\n\"],\n",
       " ['2020-12-05 11:37:59,267',\n",
       "  'TASK COMPLETED',\n",
       "  \"{'task_id': '17_M2', 'duration': 0, 'status': 2}\\n\"],\n",
       " ['2020-12-05 11:38:00,279',\n",
       "  'TASK COMPLETED',\n",
       "  \"{'task_id': '17_M1', 'duration': 0, 'status': 2}\\n\"],\n",
       " ['2020-12-05 11:38:01,296',\n",
       "  'TASK COMPLETED',\n",
       "  \"{'task_id': '11_R0', 'duration': 0, 'status': 2}\\n\"],\n",
       " ['2020-12-05 11:38:02,308',\n",
       "  'TASK COMPLETED',\n",
       "  \"{'task_id': '14_R1', 'duration': 0, 'status': 2}\\n\"]]"
      ]
     },
     "execution_count": 150,
     "metadata": {},
     "output_type": "execute_result"
    }
   ],
   "source": [
    "job_completed_log"
   ]
  },
  {
   "cell_type": "code",
   "execution_count": 151,
   "metadata": {},
   "outputs": [],
   "source": [
    "for i in job_received_log:\n",
    "    i[2] = json.loads(i[2])['task_id']    \n",
    "for i in job_completed_log:\n",
    "    #i[2] = json.loads(i[2])['task_id']    \n",
    "    i[2] = i[2].split(',')[0].split(':')[1].strip()  "
   ]
  },
  {
   "cell_type": "code",
   "execution_count": 152,
   "metadata": {},
   "outputs": [
    {
     "name": "stdout",
     "output_type": "stream",
     "text": [
      "['2020-12-05 11:37:46,996', 'TASK RECEIVED', '2_M1']\n",
      "['2020-12-05 11:37:48,031', 'TASK COMPLETED', \"'2_M1'\"]\n"
     ]
    }
   ],
   "source": [
    "print(job_received_log[1])\n",
    "print(job_completed_log[1])"
   ]
  },
  {
   "cell_type": "code",
   "execution_count": 153,
   "metadata": {},
   "outputs": [],
   "source": [
    "def convert_to_datetime(datetime_string):\n",
    "    k = datetime.datetime.strptime(datetime_string, '%Y-%m-%d %H:%M:%S,%f')\n",
    "    return k"
   ]
  },
  {
   "cell_type": "code",
   "execution_count": 154,
   "metadata": {},
   "outputs": [],
   "source": [
    "job_times = {}\n",
    "for i in job_received_log:\n",
    "    for j in job_completed_log:\n",
    "        if i[2] == j[2][1:-1]:\n",
    "            job_times[i[2]] = (convert_to_datetime(j[0]) - convert_to_datetime(i[0])).total_seconds()"
   ]
  },
  {
   "cell_type": "code",
   "execution_count": 155,
   "metadata": {},
   "outputs": [
    {
     "data": {
      "text/plain": [
       "79"
      ]
     },
     "execution_count": 155,
     "metadata": {},
     "output_type": "execute_result"
    }
   ],
   "source": [
    "len(job_times)"
   ]
  },
  {
   "cell_type": "code",
   "execution_count": 156,
   "metadata": {},
   "outputs": [],
   "source": [
    "sorted_times = sorted(list(job_times.values()))\n",
    "avg_times[policy] = sum(list(job_times.values()))/len(sorted_times)\n",
    "mid = len(sorted_times) // 2\n",
    "median_times[policy] = (sorted_times[mid] + sorted_times[~mid])/2"
   ]
  },
  {
   "cell_type": "code",
   "execution_count": 157,
   "metadata": {},
   "outputs": [
    {
     "data": {
      "text/plain": [
       "{'LL': 2.230582278481013, 'RR': 2.265696202531646, 'RD': 2.2082405063291133}"
      ]
     },
     "execution_count": 157,
     "metadata": {},
     "output_type": "execute_result"
    }
   ],
   "source": [
    "avg_times"
   ]
  },
  {
   "cell_type": "code",
   "execution_count": 158,
   "metadata": {},
   "outputs": [
    {
     "data": {
      "text/plain": [
       "{'LL': 2.397, 'RR': 2.436, 'RD': 2.379}"
      ]
     },
     "execution_count": 158,
     "metadata": {},
     "output_type": "execute_result"
    }
   ],
   "source": [
    "median_times"
   ]
  },
  {
   "cell_type": "code",
   "execution_count": 159,
   "metadata": {},
   "outputs": [
    {
     "data": {
      "image/png": "[encoded data removed]",
      "text/plain": [
       "<Figure size 432x288 with 1 Axes>"
      ]
     },
     "metadata": {
      "needs_background": "light"
     },
     "output_type": "display_data"
    }
   ],
   "source": [
    "X = np.arange(len(avg_times))\n",
    "ax = plt.subplot(111)\n",
    "ax.bar(X, avg_times.values(), width=0.2, color='b', align='center')\n",
    "ax.bar(X-0.2, median_times.values(), width=0.2, color='g', align='center')\n",
    "ax.legend(('Mean time','Median time'))\n",
    "plt.xticks(X, avg_times.keys())\n",
    "plt.title(\"Scheduler stats\", fontsize=17)\n",
    "plt.show()"
   ]
  },
  {
   "cell_type": "code",
   "execution_count": 165,
   "metadata": {},
   "outputs": [],
   "source": [
    "ts_tasks_3 = {}\n",
    "ct = 0\n",
    "for log in logs3:\n",
    "    log = log.split('%')\n",
    "    log[0] = log[0].strip()\n",
    "    if log[1] == 'TASK RECEIVED':\n",
    "        ct += 1\n",
    "    elif log[1] == 'TASK COMPLETED':\n",
    "        ct -= 1\n",
    "    ts_tasks_3[convert_to_datetime(log[0])] = ct"
   ]
  },
  {
   "cell_type": "code",
   "execution_count": 166,
   "metadata": {},
   "outputs": [
    {
     "data": {
      "text/plain": [
       "{datetime.datetime(2020, 12, 5, 11, 37, 35, 855000): 0,\n",
       " datetime.datetime(2020, 12, 5, 11, 37, 36, 867000): 0,\n",
       " datetime.datetime(2020, 12, 5, 11, 37, 37, 873000): 0,\n",
       " datetime.datetime(2020, 12, 5, 11, 37, 38, 886000): 0,\n",
       " datetime.datetime(2020, 12, 5, 11, 37, 39, 901000): 0,\n",
       " datetime.datetime(2020, 12, 5, 11, 37, 40, 916000): 0,\n",
       " datetime.datetime(2020, 12, 5, 11, 37, 41, 933000): 0,\n",
       " datetime.datetime(2020, 12, 5, 11, 37, 42, 947000): 0,\n",
       " datetime.datetime(2020, 12, 5, 11, 37, 43, 963000): 0,\n",
       " datetime.datetime(2020, 12, 5, 11, 37, 44, 980000): 0,\n",
       " datetime.datetime(2020, 12, 5, 11, 37, 45, 646000): 1,\n",
       " datetime.datetime(2020, 12, 5, 11, 37, 45, 994000): 1,\n",
       " datetime.datetime(2020, 12, 5, 11, 37, 46, 996000): 2,\n",
       " datetime.datetime(2020, 12, 5, 11, 37, 47, 8000): 2,\n",
       " datetime.datetime(2020, 12, 5, 11, 37, 47, 206000): 3,\n",
       " datetime.datetime(2020, 12, 5, 11, 37, 48, 19000): 2,\n",
       " datetime.datetime(2020, 12, 5, 11, 37, 48, 31000): 1,\n",
       " datetime.datetime(2020, 12, 5, 11, 37, 48, 32000): 0,\n",
       " datetime.datetime(2020, 12, 5, 11, 37, 48, 33000): 0,\n",
       " datetime.datetime(2020, 12, 5, 11, 37, 48, 133000): 1,\n",
       " datetime.datetime(2020, 12, 5, 11, 37, 48, 151000): 2,\n",
       " datetime.datetime(2020, 12, 5, 11, 37, 48, 169000): 3,\n",
       " datetime.datetime(2020, 12, 5, 11, 37, 49, 41000): 2,\n",
       " datetime.datetime(2020, 12, 5, 11, 37, 49, 47000): 2,\n",
       " datetime.datetime(2020, 12, 5, 11, 37, 49, 48000): 2,\n",
       " datetime.datetime(2020, 12, 5, 11, 37, 50, 55000): 1,\n",
       " datetime.datetime(2020, 12, 5, 11, 37, 50, 91000): 0,\n",
       " datetime.datetime(2020, 12, 5, 11, 37, 50, 92000): 0,\n",
       " datetime.datetime(2020, 12, 5, 11, 37, 50, 98000): 0,\n",
       " datetime.datetime(2020, 12, 5, 11, 37, 50, 172000): 1,\n",
       " datetime.datetime(2020, 12, 5, 11, 37, 50, 184000): 2,\n",
       " datetime.datetime(2020, 12, 5, 11, 37, 50, 207000): 3,\n",
       " datetime.datetime(2020, 12, 5, 11, 37, 51, 103000): 2,\n",
       " datetime.datetime(2020, 12, 5, 11, 37, 51, 109000): 1,\n",
       " datetime.datetime(2020, 12, 5, 11, 37, 51, 110000): 1,\n",
       " datetime.datetime(2020, 12, 5, 11, 37, 51, 121000): 1,\n",
       " datetime.datetime(2020, 12, 5, 11, 37, 51, 122000): 1,\n",
       " datetime.datetime(2020, 12, 5, 11, 37, 51, 193000): 2,\n",
       " datetime.datetime(2020, 12, 5, 11, 37, 52, 129000): 1,\n",
       " datetime.datetime(2020, 12, 5, 11, 37, 52, 141000): 1,\n",
       " datetime.datetime(2020, 12, 5, 11, 37, 52, 142000): 1,\n",
       " datetime.datetime(2020, 12, 5, 11, 37, 52, 419000): 2,\n",
       " datetime.datetime(2020, 12, 5, 11, 37, 52, 629000): 3,\n",
       " datetime.datetime(2020, 12, 5, 11, 37, 52, 829000): 4,\n",
       " datetime.datetime(2020, 12, 5, 11, 37, 52, 847000): 5,\n",
       " datetime.datetime(2020, 12, 5, 11, 37, 53, 147000): 5,\n",
       " datetime.datetime(2020, 12, 5, 11, 37, 54, 156000): 4,\n",
       " datetime.datetime(2020, 12, 5, 11, 37, 54, 189000): 3,\n",
       " datetime.datetime(2020, 12, 5, 11, 37, 54, 191000): 3,\n",
       " datetime.datetime(2020, 12, 5, 11, 37, 54, 201000): 3,\n",
       " datetime.datetime(2020, 12, 5, 11, 37, 54, 202000): 3,\n",
       " datetime.datetime(2020, 12, 5, 11, 37, 54, 452000): 4,\n",
       " datetime.datetime(2020, 12, 5, 11, 37, 54, 477000): 5,\n",
       " datetime.datetime(2020, 12, 5, 11, 37, 55, 211000): 4,\n",
       " datetime.datetime(2020, 12, 5, 11, 37, 55, 228000): 3,\n",
       " datetime.datetime(2020, 12, 5, 11, 37, 55, 229000): 3,\n",
       " datetime.datetime(2020, 12, 5, 11, 37, 55, 235000): 2,\n",
       " datetime.datetime(2020, 12, 5, 11, 37, 55, 236000): 1,\n",
       " datetime.datetime(2020, 12, 5, 11, 37, 55, 239000): 1,\n",
       " datetime.datetime(2020, 12, 5, 11, 37, 55, 241000): 1,\n",
       " datetime.datetime(2020, 12, 5, 11, 37, 55, 454000): 2,\n",
       " datetime.datetime(2020, 12, 5, 11, 37, 55, 478000): 3,\n",
       " datetime.datetime(2020, 12, 5, 11, 37, 55, 495000): 4,\n",
       " datetime.datetime(2020, 12, 5, 11, 37, 55, 515000): 5,\n",
       " datetime.datetime(2020, 12, 5, 11, 37, 56, 246000): 3,\n",
       " datetime.datetime(2020, 12, 5, 11, 37, 56, 247000): 3,\n",
       " datetime.datetime(2020, 12, 5, 11, 37, 56, 259000): 3,\n",
       " datetime.datetime(2020, 12, 5, 11, 37, 56, 260000): 3,\n",
       " datetime.datetime(2020, 12, 5, 11, 37, 56, 671000): 4,\n",
       " datetime.datetime(2020, 12, 5, 11, 37, 56, 684000): 5,\n",
       " datetime.datetime(2020, 12, 5, 11, 37, 57, 267000): 4,\n",
       " datetime.datetime(2020, 12, 5, 11, 37, 57, 279000): 4,\n",
       " datetime.datetime(2020, 12, 5, 11, 37, 57, 280000): 4,\n",
       " datetime.datetime(2020, 12, 5, 11, 37, 57, 891000): 5,\n",
       " datetime.datetime(2020, 12, 5, 11, 37, 58, 290000): 3,\n",
       " datetime.datetime(2020, 12, 5, 11, 37, 58, 296000): 3,\n",
       " datetime.datetime(2020, 12, 5, 11, 37, 58, 894000): 4,\n",
       " datetime.datetime(2020, 12, 5, 11, 37, 58, 912000): 5,\n",
       " datetime.datetime(2020, 12, 5, 11, 37, 59, 302000): 4,\n",
       " datetime.datetime(2020, 12, 5, 11, 37, 59, 315000): 4,\n",
       " datetime.datetime(2020, 12, 5, 11, 37, 59, 316000): 4,\n",
       " datetime.datetime(2020, 12, 5, 11, 37, 59, 900000): 5,\n",
       " datetime.datetime(2020, 12, 5, 11, 38, 0, 321000): 4,\n",
       " datetime.datetime(2020, 12, 5, 11, 38, 0, 334000): 4,\n",
       " datetime.datetime(2020, 12, 5, 11, 38, 0, 335000): 4,\n",
       " datetime.datetime(2020, 12, 5, 11, 38, 0, 910000): 5,\n",
       " datetime.datetime(2020, 12, 5, 11, 38, 1, 345000): 4,\n",
       " datetime.datetime(2020, 12, 5, 11, 38, 1, 357000): 3,\n",
       " datetime.datetime(2020, 12, 5, 11, 38, 1, 358000): 3,\n",
       " datetime.datetime(2020, 12, 5, 11, 38, 1, 364000): 3,\n",
       " datetime.datetime(2020, 12, 5, 11, 38, 1, 365000): 3,\n",
       " datetime.datetime(2020, 12, 5, 11, 38, 2, 375000): 2,\n",
       " datetime.datetime(2020, 12, 5, 11, 38, 2, 376000): 1,\n",
       " datetime.datetime(2020, 12, 5, 11, 38, 2, 388000): 1,\n",
       " datetime.datetime(2020, 12, 5, 11, 38, 2, 449000): 2,\n",
       " datetime.datetime(2020, 12, 5, 11, 38, 2, 471000): 3,\n",
       " datetime.datetime(2020, 12, 5, 11, 38, 3, 398000): 3,\n",
       " datetime.datetime(2020, 12, 5, 11, 38, 4, 405000): 2,\n",
       " datetime.datetime(2020, 12, 5, 11, 38, 4, 406000): 2,\n",
       " datetime.datetime(2020, 12, 5, 11, 38, 5, 416000): 0,\n",
       " datetime.datetime(2020, 12, 5, 11, 38, 5, 417000): 0,\n",
       " datetime.datetime(2020, 12, 5, 11, 38, 5, 429000): 0,\n",
       " datetime.datetime(2020, 12, 5, 11, 38, 5, 430000): 0,\n",
       " datetime.datetime(2020, 12, 5, 11, 38, 6, 438000): 0,\n",
       " datetime.datetime(2020, 12, 5, 11, 38, 7, 445000): 0,\n",
       " datetime.datetime(2020, 12, 5, 11, 38, 8, 458000): 0,\n",
       " datetime.datetime(2020, 12, 5, 11, 38, 9, 475000): 0}"
      ]
     },
     "execution_count": 166,
     "metadata": {},
     "output_type": "execute_result"
    }
   ],
   "source": [
    "ts_tasks_1"
   ]
  },
  {
   "cell_type": "code",
   "execution_count": 174,
   "metadata": {},
   "outputs": [
    {
     "data": {
      "image/png": "[encoded data removed]",
      "text/plain": [
       "<Figure size 432x288 with 1 Axes>"
      ]
     },
     "metadata": {
      "needs_background": "light"
     },
     "output_type": "display_data"
    }
   ],
   "source": [
    "dates1 = matplotlib.dates.date2num(list(ts_tasks_1.keys()))\n",
    "dates2 = matplotlib.dates.date2num(list(ts_tasks_2.keys()))\n",
    "dates3 = matplotlib.dates.date2num(list(ts_tasks_3.keys()))\n",
    "fig, ax = plt.subplots(1)\n",
    "fig.autofmt_xdate()\n",
    "plt.plot(dates1, list(ts_tasks_1.values()), label = 'worker1')\n",
    "plt.plot(dates2, list(ts_tasks_2.values()), label = 'worker2')\n",
    "plt.plot(dates3, list(ts_tasks_3.values()), label = 'worker3')\n",
    "plt.legend(loc=\"upper left\")\n",
    "xfmt = mdates.DateFormatter('%M:%S')\n",
    "ax.xaxis.set_major_formatter(xfmt)"
   ]
  },
  {
   "cell_type": "code",
   "execution_count": 143,
   "metadata": {},
   "outputs": [
    {
     "data": {
      "text/plain": [
       "[<matplotlib.lines.Line2D at 0x11a0bdac0>]"
      ]
     },
     "execution_count": 143,
     "metadata": {},
     "output_type": "execute_result"
    },
    {
     "data": {
      "image/png": "[encoded data removed]",
      "text/plain": [
       "<Figure size 432x288 with 1 Axes>"
      ]
     },
     "metadata": {
      "needs_background": "light"
     },
     "output_type": "display_data"
    }
   ],
   "source": [
    "plt.plot(dates2, list(ts_tasks_2.values()))"
   ]
  },
  {
   "cell_type": "code",
   "execution_count": 144,
   "metadata": {},
   "outputs": [
    {
     "data": {
      "text/plain": [
       "[<matplotlib.lines.Line2D at 0x119545fa0>]"
      ]
     },
     "execution_count": 144,
     "metadata": {},
     "output_type": "execute_result"
    },
    {
     "data": {
      "image/png": "[encoded data removed]",
      "text/plain": [
       "<Figure size 432x288 with 1 Axes>"
      ]
     },
     "metadata": {
      "needs_background": "light"
     },
     "output_type": "display_data"
    }
   ],
   "source": [
    "plt.plot(dates3, list(ts_tasks_3.values()))"
   ]
  },
  {
   "cell_type": "code",
   "execution_count": null,
   "metadata": {},
   "outputs": [],
   "source": []
  }
 ],
 "metadata": {
  "kernelspec": {
   "display_name": "Python 3",
   "language": "python",
   "name": "python3"
  },
  "language_info": {
   "codemirror_mode": {
    "name": "ipython",
    "version": 3
   },
   "file_extension": ".py",
   "mimetype": "text/x-python",
   "name": "python",
   "nbconvert_exporter": "python",
   "pygments_lexer": "ipython3",
   "version": "3.8.6"
  }
 },
 "nbformat": 4,
 "nbformat_minor": 4
}
